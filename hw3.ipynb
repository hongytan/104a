{
 "cells": [
  {
   "cell_type": "code",
   "execution_count": 92,
   "id": "50cfc145-b2d3-46c5-8948-834dc387672e",
   "metadata": {},
   "outputs": [],
   "source": [
    "import math\n",
    "from sympy import *"
   ]
  },
  {
   "cell_type": "markdown",
   "id": "c1ca687a-8988-4e03-81a9-f16b1d658c1c",
   "metadata": {
    "jp-MarkdownHeadingCollapsed": true,
    "tags": []
   },
   "source": [
    "# $\\S 2.3$"
   ]
  },
  {
   "cell_type": "markdown",
   "id": "ea9a4be4-ac6e-4dcf-83af-202a7d54b387",
   "metadata": {
    "jp-MarkdownHeadingCollapsed": true,
    "tags": []
   },
   "source": [
    "## Problem 1"
   ]
  },
  {
   "cell_type": "markdown",
   "id": "4286385b-3441-4534-b3ee-3ad61c71c6ff",
   "metadata": {},
   "source": [
    "Let $f(x) = x^2 − 6$ and $p_0 = 1$. Use Newton’s method to find $p_2$."
   ]
  },
  {
   "cell_type": "code",
   "execution_count": 93,
   "id": "b9811461-5e83-4848-9cc4-f1f1063ac015",
   "metadata": {},
   "outputs": [],
   "source": [
    "# Variable for sympy diff function\n",
    "x = Symbol('x')"
   ]
  },
  {
   "cell_type": "code",
   "execution_count": 94,
   "id": "6eae5bdc-6c49-46bb-a99f-e4622c059606",
   "metadata": {},
   "outputs": [],
   "source": [
    "# Function for newton method\n",
    "# Manually input functions - this function changes return values\n",
    "def f(z):\n",
    "    return z**2 - 6"
   ]
  },
  {
   "cell_type": "code",
   "execution_count": 95,
   "id": "31f9b549-b69a-4cfe-a218-20457897bdf5",
   "metadata": {},
   "outputs": [],
   "source": [
    "# Function for equation to input into symbol diff function\n",
    "def fdiff():\n",
    "    return x ** 2 - 6"
   ]
  },
  {
   "cell_type": "code",
   "execution_count": 96,
   "id": "508c6e75-683e-4975-9b24-b1355978e655",
   "metadata": {},
   "outputs": [],
   "source": [
    "# Newton method algorithm\n",
    "def newton(p0, N, f, TOL=None):\n",
    "    i = 1 # Counter for number of iterations\n",
    "    \n",
    "    while (i <= N):\n",
    "        fprime = diff(fdiff(),x) # Getting f' using sympy\n",
    "        fprime = lambdify(x,fprime) # Turning it into a function\n",
    "        p = p0 - f(p0) / fprime(p0) # Compute p\n",
    "        \n",
    "        # Check if p is close enough\n",
    "        if TOL != None:\n",
    "            if abs(p - p0) < TOL:\n",
    "                return p\n",
    "        \n",
    "        print(f\"p_{i} =\", p) # Print out each iteration\n",
    "        \n",
    "        i += 1 # Next iteration\n",
    "        \n",
    "        p0 = p # Update p0\n",
    "        \n",
    "    return f\"Failed after {N} iterations.\""
   ]
  },
  {
   "cell_type": "code",
   "execution_count": 97,
   "id": "9ab0ab63-baba-4887-9855-d3e1f4d475d2",
   "metadata": {},
   "outputs": [
    {
     "name": "stdout",
     "output_type": "stream",
     "text": [
      "p_1 = 3.5\n",
      "p_2 = 2.607142857142857\n",
      "Failed after 2 iterations.\n"
     ]
    }
   ],
   "source": [
    "print(newton(1,2,f))"
   ]
  },
  {
   "cell_type": "markdown",
   "id": "4941d0ec-58ae-451c-9fe1-7ec97dcc1125",
   "metadata": {},
   "source": [
    "#### <span style=\"color:red\">Solution: Using Newton's method, we get that $p_2 = 2.607142857142857$.</span>"
   ]
  },
  {
   "cell_type": "markdown",
   "id": "0ee5712f-93e9-460f-9da3-2be023e55ff4",
   "metadata": {
    "jp-MarkdownHeadingCollapsed": true,
    "tags": []
   },
   "source": [
    "## Problem 3"
   ]
  },
  {
   "cell_type": "markdown",
   "id": "aa226812-49dc-4b98-8e24-d6ef7cb47cba",
   "metadata": {},
   "source": [
    "Let $f(x) = x^2 − 6$. With $p_0 = 3$ and $p_1 = 2$, find $p_3$."
   ]
  },
  {
   "cell_type": "markdown",
   "id": "e6f473d2-bd50-437d-a472-7a59a5aa8f31",
   "metadata": {},
   "source": [
    "### (a) Use the Secant method."
   ]
  },
  {
   "cell_type": "code",
   "execution_count": 98,
   "id": "bc0f8bb9-6675-4057-a40a-69d332df0df8",
   "metadata": {},
   "outputs": [],
   "source": [
    "def secant(p0, p1, N, f, TOL=None):\n",
    "    i = 2\n",
    "    \n",
    "    q0 = f(p0) \n",
    "    q1 = f(p1) \n",
    "    \n",
    "    while (i <= N):\n",
    "        p = p1 - q1*(p1-p0)/(q1-q0) # Compute p\n",
    "        \n",
    "        if TOL != None:\n",
    "            if abs(p - p1) < TOL: # Check if p within our tolerance\n",
    "                return p # Return p if so\n",
    "        \n",
    "        print(f\"p_{i} =\", p) # Print each iteration\n",
    "        \n",
    "        i += 1 # Next iteration\n",
    "        \n",
    "        # Update to new positions\n",
    "        p0 = p1\n",
    "        q0 = q1\n",
    "        p1 = p\n",
    "        q1 = f(p)\n",
    "        \n",
    "    return f\"Failed after {N} iterations.\""
   ]
  },
  {
   "cell_type": "code",
   "execution_count": 99,
   "id": "bc5fd6fb-4850-43ad-9883-1a53adfb1093",
   "metadata": {},
   "outputs": [
    {
     "name": "stdout",
     "output_type": "stream",
     "text": [
      "p_2 = 2.4\n",
      "p_3 = 2.4545454545454546\n",
      "Failed after 3 iterations.\n"
     ]
    }
   ],
   "source": [
    "print(secant(3,2,3,f))"
   ]
  },
  {
   "cell_type": "markdown",
   "id": "46b99f1a-699d-4a98-a443-e21362f06e56",
   "metadata": {},
   "source": [
    "#### <span style=\"color:red\">Solution: The Secant method gives $p_3 = 2.4545454545454546$.</span>"
   ]
  },
  {
   "cell_type": "markdown",
   "id": "da20dc43-4f0a-4a7c-8902-7d78d0b61be6",
   "metadata": {},
   "source": [
    "### (b) Use the method of False Position"
   ]
  },
  {
   "cell_type": "code",
   "execution_count": 100,
   "id": "69bcd487-7c99-4334-8745-8aca6a0b4c5d",
   "metadata": {},
   "outputs": [],
   "source": [
    "def false_pos(p0, p1, N, f, TOL=None):\n",
    "    i = 2\n",
    "    \n",
    "    q0 = f(p0) \n",
    "    q1 = f(p1) \n",
    "    \n",
    "    while (i <= N):\n",
    "        p = p1 - q1*(p1-p0)/(q1-q0) # Compute p\n",
    "        \n",
    "        if TOL != None:\n",
    "            if abs(p - p1) < TOL: # Check if p within our tolerance\n",
    "                return p # Return p if so\n",
    "        \n",
    "        print(f\"p_{i} =\", p) # Print each iteration\n",
    "        \n",
    "        i += 1 # Next iteration\n",
    "        \n",
    "        q = f(p) # Compute f(p)\n",
    "        \n",
    "        if q * q1 < 0: # q and q1 have different signs\n",
    "            p0 = p1 \n",
    "            q0 = q1\n",
    "            \n",
    "        # Update to new positions\n",
    "        p1 = p\n",
    "        q1 = q\n",
    "        \n",
    "    return f\"Failed after {N} iterations.\""
   ]
  },
  {
   "cell_type": "code",
   "execution_count": 101,
   "id": "43584f72-2be7-46c1-9637-19b8c926b794",
   "metadata": {},
   "outputs": [
    {
     "name": "stdout",
     "output_type": "stream",
     "text": [
      "p_2 = 2.4\n",
      "p_3 = 2.444444444444444\n",
      "Failed after 3 iterations.\n"
     ]
    }
   ],
   "source": [
    "print(false_pos(3,2,3,f))"
   ]
  },
  {
   "cell_type": "markdown",
   "id": "63ac009e-6b26-4c4c-a26a-22e3f0fae1ad",
   "metadata": {},
   "source": [
    "#### <span style=\"color:red\">Solution: The False Position method gives $p_3 = 2.444444444444444$.</span>"
   ]
  },
  {
   "cell_type": "markdown",
   "id": "87fd470a-4b66-4f54-b31b-9a8d6e7df1a0",
   "metadata": {},
   "source": [
    "### (c) Which of (a) or (b) is closer to $\\sqrt{6}$?"
   ]
  },
  {
   "cell_type": "code",
   "execution_count": 102,
   "id": "c485cb43-39f0-4b7d-a2b2-d9b321b7d21c",
   "metadata": {},
   "outputs": [
    {
     "data": {
      "text/plain": [
       "0.005045298338733684"
      ]
     },
     "execution_count": 102,
     "metadata": {},
     "output_type": "execute_result"
    }
   ],
   "source": [
    "abs(2.444444444444444 - math.sqrt(6))"
   ]
  },
  {
   "cell_type": "code",
   "execution_count": 103,
   "id": "076463ba-1f66-471b-ad2f-7fe91ce55ac8",
   "metadata": {},
   "outputs": [
    {
     "data": {
      "text/plain": [
       "0.0050557117622767045"
      ]
     },
     "execution_count": 103,
     "metadata": {},
     "output_type": "execute_result"
    }
   ],
   "source": [
    "abs(2.4545454545454546 - math.sqrt(6))"
   ]
  },
  {
   "cell_type": "markdown",
   "id": "0f01704a-5600-4180-aca7-777374c7e2b0",
   "metadata": {},
   "source": [
    "#### <span style=\"color:red\">Solution: We see that $2.44444\\dots$ gives a lower error than $2.454545\\dots$, so (b) is closer to $\\sqrt{6}$.</span>"
   ]
  },
  {
   "cell_type": "markdown",
   "id": "5bca783c-c328-4948-bb6c-210ecd113fe9",
   "metadata": {},
   "source": [
    "## Problem 5"
   ]
  },
  {
   "cell_type": "markdown",
   "id": "b98791e2-0551-43f0-a547-d36b0b4765d5",
   "metadata": {},
   "source": [
    "Use Newton’s method to find solutions accurate to within $10^{−4}$ for the following problems."
   ]
  },
  {
   "cell_type": "markdown",
   "id": "fd86d5dd-0caf-4f33-aac8-cb45bd1a3748",
   "metadata": {},
   "source": [
    "### (a) $x^3 − 2x^2 − 5 = 0, \\ \\ [1, 4]$"
   ]
  },
  {
   "cell_type": "code",
   "execution_count": 104,
   "id": "ced354f4-d64f-4c48-8618-1752e532f0fc",
   "metadata": {},
   "outputs": [],
   "source": [
    "# Function for computing in Newton's method\n",
    "def f(z):\n",
    "    return z**3 - 2*z**2 - 5\n",
    "\n",
    "# Function for equation in sympy diff func\n",
    "def fdiff():\n",
    "    return x**3 - 2*x**2 - 5"
   ]
  },
  {
   "cell_type": "code",
   "execution_count": 105,
   "id": "7ce4fe5b-65d9-44c2-b5f6-4bf7509e1c8d",
   "metadata": {},
   "outputs": [
    {
     "data": {
      "text/plain": [
       "(-6, 27)"
      ]
     },
     "execution_count": 105,
     "metadata": {},
     "output_type": "execute_result"
    }
   ],
   "source": [
    "f(1), f(4)"
   ]
  },
  {
   "cell_type": "markdown",
   "id": "33e8d55c-95a2-4111-bde4-05e83fe1c471",
   "metadata": {},
   "source": [
    "We see that $f$ has a solution in $[1,4]$. A good guess might be $z=2$."
   ]
  },
  {
   "cell_type": "code",
   "execution_count": 106,
   "id": "08f45176-f845-4d08-ab87-6d9f0c153af8",
   "metadata": {},
   "outputs": [
    {
     "name": "stdout",
     "output_type": "stream",
     "text": [
      "p_1 = 3.25\n",
      "p_2 = 2.811036789297659\n",
      "p_3 = 2.697989502468529\n",
      "p_4 = 2.6906771528603617\n",
      "2.690647448517619\n"
     ]
    }
   ],
   "source": [
    "print(newton(2, 10, f, 0.0004))"
   ]
  },
  {
   "cell_type": "markdown",
   "id": "8dbd1693-9f7d-4fc0-af8c-f41364d30e79",
   "metadata": {},
   "source": [
    "#### <span style=\"color:red\">Solution: We see that $p_4 = 2.6906771528603617$ is accurate within $10^{-4}$.</span>"
   ]
  },
  {
   "cell_type": "markdown",
   "id": "b3fc2768-3d66-447d-a924-9d5db45f36fa",
   "metadata": {},
   "source": [
    "### (b) $x^3 + 3x^2 − 1 = 0, \\ \\ [−3, −2]$"
   ]
  },
  {
   "cell_type": "code",
   "execution_count": 107,
   "id": "b65eeace-adb5-4668-b84e-f13088ef83a2",
   "metadata": {},
   "outputs": [],
   "source": [
    "# Function for computing in Newton's method\n",
    "def f(z):\n",
    "    return z**3 - 3*z**2 - 1\n",
    "\n",
    "# Function for equation in sympy diff func\n",
    "def fdiff():\n",
    "    return x**3 - 3*x**2 - 1"
   ]
  },
  {
   "cell_type": "code",
   "execution_count": 108,
   "id": "27b7f3b4-5e24-4326-a68e-a6d809e7c3bf",
   "metadata": {},
   "outputs": [
    {
     "data": {
      "text/plain": [
       "(-55, -21)"
      ]
     },
     "execution_count": 108,
     "metadata": {},
     "output_type": "execute_result"
    }
   ],
   "source": [
    "f(-3), f(-2)"
   ]
  },
  {
   "cell_type": "markdown",
   "id": "9b265b8f-4d82-4cac-81a4-033a5331dd7b",
   "metadata": {},
   "source": [
    "By the Intermediate Value Theorem (IVT), there are no solutions for this equation in the interval $[-3,-2]$ because both endpoints have the same sign."
   ]
  },
  {
   "cell_type": "code",
   "execution_count": 109,
   "id": "ae4faa33-4e08-4b10-9fb7-19dc6ade8a2f",
   "metadata": {},
   "outputs": [
    {
     "name": "stdout",
     "output_type": "stream",
     "text": [
      "p_1 = -1.451851851851852\n",
      "p_2 = -0.7611882918800966\n",
      "p_3 = -0.25697205800872513\n",
      "p_4 = 0.4413713227352529\n",
      "p_5 = -0.2846881453917618\n",
      "p_6 = 0.36423007608469904\n",
      "p_7 = -0.39087694196166356\n",
      "p_8 = 0.1505932161049699\n",
      "p_9 = -1.123600353621353\n",
      "p_10 = -0.5341870324377\n",
      "p_11 = -0.03962732481615194\n",
      "p_12 = 4.104195829479922\n",
      "p_13 = 3.4248891529206533\n",
      "p_14 = 3.1527702080782065\n",
      "p_15 = 3.105212888825903\n",
      "p_16 = 3.103804621117199\n",
      "3.1038034027364474\n"
     ]
    }
   ],
   "source": [
    "print(newton(-2.5,100,f,0.0004))"
   ]
  },
  {
   "cell_type": "markdown",
   "id": "33e380df-aef1-4025-9c98-5b711d5038b6",
   "metadata": {},
   "source": [
    "#### <span style=\"color:red\">Solution: We see that a solution exists at $p_{16} = 3.103804621117199$ with $p_0 = -2.5$ given our tolerance. However, $p_{16} \\notin [-3,-2]$.</span>"
   ]
  },
  {
   "cell_type": "markdown",
   "id": "59ce2c05-d19c-4736-b168-fc1c3f2b1a1d",
   "metadata": {},
   "source": [
    "### (c) $x − \\cos x = 0, [0, \\pi/2]$"
   ]
  },
  {
   "cell_type": "code",
   "execution_count": 110,
   "id": "0c4fc6c3-3b4b-4eb6-8a59-bc69e4337411",
   "metadata": {},
   "outputs": [],
   "source": [
    "# Function for computing in Newton's method\n",
    "def f(z):\n",
    "    return z - math.cos(z)\n",
    "\n",
    "# Function for equation in sympy diff func\n",
    "def fdiff():\n",
    "    return x - cos(x)"
   ]
  },
  {
   "cell_type": "code",
   "execution_count": 111,
   "id": "303d1fb1-b73e-4294-baa7-f89d4e0bd8ec",
   "metadata": {},
   "outputs": [
    {
     "data": {
      "text/plain": [
       "(-1.0, 1.5707963267948966)"
      ]
     },
     "execution_count": 111,
     "metadata": {},
     "output_type": "execute_result"
    }
   ],
   "source": [
    "f(0), f(math.pi/2)"
   ]
  },
  {
   "cell_type": "markdown",
   "id": "335ae533-1c28-4111-9dd1-637dff76b57e",
   "metadata": {},
   "source": [
    "By IVT, this function has a solution in the interval $[0, \\pi/2]$. A good guess is $\\pi/4$."
   ]
  },
  {
   "cell_type": "code",
   "execution_count": 112,
   "id": "749a61c0-e543-4365-a0f0-79a532b2ad4d",
   "metadata": {},
   "outputs": [
    {
     "name": "stdout",
     "output_type": "stream",
     "text": [
      "p_1 = 0.7395361335152383\n",
      "p_2 = 0.7390851781060102\n",
      "0.739085133215161\n"
     ]
    }
   ],
   "source": [
    "print(newton(math.pi/4,100,f,0.0004))"
   ]
  },
  {
   "cell_type": "markdown",
   "id": "6f29f0b1-c655-4f85-ae40-29ead4eabb24",
   "metadata": {},
   "source": [
    "#### <span style=\"color:red\">Solution: $p_2 = 0.7390851781060102$."
   ]
  },
  {
   "cell_type": "markdown",
   "id": "097a29f9-8cb6-44ad-a21b-a6133efbc0c2",
   "metadata": {},
   "source": [
    "### (d) $x − 0.8 − 0.2 \\sin x = 0, \\ \\ [0, \\pi/2]$"
   ]
  },
  {
   "cell_type": "code",
   "execution_count": 113,
   "id": "7dc849b6-cc56-4a6a-82d3-88e3f21daf6e",
   "metadata": {},
   "outputs": [],
   "source": [
    "# Function for computing in Newton's method\n",
    "def f(z):\n",
    "    return z - 0.8 - 0.2*math.sin(z)\n",
    "\n",
    "# Function for equation in sympy diff func\n",
    "def fdiff():\n",
    "    return x - 0.8 - 0.2*sin(x)"
   ]
  },
  {
   "cell_type": "code",
   "execution_count": 114,
   "id": "c431355e-fdc2-4206-86ba-1d0e62d7dde1",
   "metadata": {},
   "outputs": [
    {
     "data": {
      "text/plain": [
       "(-0.8, 0.5707963267948966)"
      ]
     },
     "execution_count": 114,
     "metadata": {},
     "output_type": "execute_result"
    }
   ],
   "source": [
    "f(0), f(math.pi/2)"
   ]
  },
  {
   "cell_type": "markdown",
   "id": "c7d69002-7679-42dc-b5af-e8d6291db2c3",
   "metadata": {},
   "source": [
    "By IVT, we have a solution. We start with the guess $\\pi/4$."
   ]
  },
  {
   "cell_type": "code",
   "execution_count": 115,
   "id": "0e6ab22a-da68-45a0-952c-b9d17b45d0c4",
   "metadata": {},
   "outputs": [
    {
     "name": "stdout",
     "output_type": "stream",
     "text": [
      "p_1 = 0.9671208209237235\n",
      "p_2 = 0.9643346085485506\n",
      "0.9643338876952708\n"
     ]
    }
   ],
   "source": [
    "print(newton(math.pi/4,100,f,0.0004))"
   ]
  },
  {
   "cell_type": "markdown",
   "id": "1da42158-7fa4-49a2-bfea-0b530ffee5d3",
   "metadata": {},
   "source": [
    "#### <span style=\"color:red\">Solution: $p_2 = 0.9643346085485506$.</span>"
   ]
  },
  {
   "cell_type": "markdown",
   "id": "ac09979d-4b4b-437e-9dbe-f50af7f1d18d",
   "metadata": {},
   "source": [
    "## Problem 29. A."
   ]
  },
  {
   "cell_type": "code",
   "execution_count": 116,
   "id": "ec47cc5d-76f6-419a-a6bd-1c9f5d221c5f",
   "metadata": {},
   "outputs": [],
   "source": [
    "# Helper functions for computing main function in Newton's method\n",
    "def A(l,b1):\n",
    "    return l*math.sin(b1)\n",
    "\n",
    "def B(l,b1):\n",
    "    return l*math.cos(b1)\n",
    "\n",
    "def C(h,d,b1):\n",
    "    return (h+0.5*d)*math.sin(b1) - 0.5*d*math.tan(b1)\n",
    "\n",
    "def E(h,d,b1):\n",
    "    return (h+0.5*d)*math.cos(b1) - 0.5*d\n",
    "\n",
    "#l = 89, h = 49, D = 55, b1 = 11.5\n",
    "# Main function for Newton's method\n",
    "def f(a):\n",
    "    return A(89,11.5*math.pi/180)*math.sin(a)*math.cos(a) + B(89,11.5*math.pi/180)*math.sin(a)**2 - C(49,55,11.5*math.pi/180)*math.cos(a) - E(49,55,11.5*math.pi/180)*math.sin(a)\n",
    "\n",
    "\n",
    "\n"
   ]
  },
  {
   "cell_type": "code",
   "execution_count": 117,
   "id": "7b9429b1-95bb-4364-9dff-a27b0130b2a6",
   "metadata": {},
   "outputs": [
    {
     "data": {
      "text/plain": [
       "0.02541130581158768"
      ]
     },
     "execution_count": 117,
     "metadata": {},
     "output_type": "execute_result"
    }
   ],
   "source": [
    "f(33*math.pi/180)"
   ]
  },
  {
   "cell_type": "markdown",
   "id": "f085045c-6f22-4b58-ba2a-67adff30c9d2",
   "metadata": {},
   "source": [
    "#### <span style=\"color:red\">Solution: We see that $f(33^o) \\approx 0$, which means that $\\alpha \\approx 33^o$ gives $f(\\alpha) = 0$ and therefore is a root."
   ]
  },
  {
   "cell_type": "markdown",
   "id": "d205e373-f44b-4cca-a644-7d6675d78b68",
   "metadata": {},
   "source": [
    "## Problem 29. B."
   ]
  },
  {
   "cell_type": "code",
   "execution_count": 118,
   "id": "63e8239a-d215-4b18-8951-57dff7476dfa",
   "metadata": {},
   "outputs": [],
   "source": [
    "# Helper functions for computing main function in Newton's method\n",
    "def A(l,b1):\n",
    "    return l*math.sin(b1)\n",
    "\n",
    "def B(l,b1):\n",
    "    return l*math.cos(b1)\n",
    "\n",
    "def C(h,d,b1):\n",
    "    return (h+0.5*d)*math.sin(b1) - 0.5*d*math.tan(b1)\n",
    "\n",
    "def E(h,d,b1):\n",
    "    return (h+0.5*d)*math.cos(b1) - 0.5*d\n",
    "\n",
    "#l = 89, h = 49, D = 55, b1 = 11.5\n",
    "# Main function for Newton's method\n",
    "def f(a):\n",
    "    return A(89,11.5*math.pi/180)*math.sin(a)*math.cos(a) + B(89,11.5*math.pi/180)*math.sin(a)**2 - C(49,30,11.5*math.pi/180)*math.cos(a) - E(49,30,11.5*math.pi/180)*math.sin(a)\n",
    "\n",
    "# Function for equation in sympy diff func\n",
    "def fdiff():\n",
    "    return A(89,11.5*math.pi/180)*sin(x)*cos(x) + B(89,11.5*math.pi/180)*sin(x)**2 - C(49,30,11.5*math.pi/180)*cos(x) - E(49,30,11.5*math.pi/180)*sin(x)"
   ]
  },
  {
   "cell_type": "code",
   "execution_count": 119,
   "id": "2aad76ea-8d56-4d3d-a9e3-1c4da81ae8d9",
   "metadata": {},
   "outputs": [
    {
     "name": "stdout",
     "output_type": "stream",
     "text": [
      "p_1 = 0.5815592326046858\n",
      "p_2 = 0.5789113452693035\n",
      "p_3 = 0.5789065809579442\n",
      "p_4 = 0.5789065809424\n",
      "p_5 = 0.5789065809423998\n",
      "p_6 = 0.5789065809423999\n",
      "p_7 = 0.5789065809423998\n",
      "p_8 = 0.5789065809423999\n",
      "p_9 = 0.5789065809423998\n",
      "p_10 = 0.5789065809423999\n",
      "Failed after 10 iterations.\n"
     ]
    }
   ],
   "source": [
    "print(newton(30*math.pi/180,10,f))"
   ]
  },
  {
   "cell_type": "code",
   "execution_count": 120,
   "id": "62915b8a-1c4f-4cea-9c2b-4c2d3ffce1ca",
   "metadata": {},
   "outputs": [
    {
     "data": {
      "text/plain": [
       "33.16890382034809"
      ]
     },
     "execution_count": 120,
     "metadata": {},
     "output_type": "execute_result"
    }
   ],
   "source": [
    "0.5789065809423999*(180/math.pi)"
   ]
  },
  {
   "cell_type": "markdown",
   "id": "0357c9b3-5b1c-49fe-b4fd-ca7ddbb50c86",
   "metadata": {},
   "source": [
    "#### <span style=\"color:red\">Solution: $\\alpha = 33.16890382034809$."
   ]
  },
  {
   "cell_type": "markdown",
   "id": "13ab840a-b9c4-445f-ae85-88d6e6168cd7",
   "metadata": {
    "jp-MarkdownHeadingCollapsed": true,
    "tags": []
   },
   "source": [
    "# $\\S 2.4$"
   ]
  },
  {
   "cell_type": "markdown",
   "id": "acb4aa56-49be-493d-8c89-e879342bba62",
   "metadata": {},
   "source": [
    "## Problem 1"
   ]
  },
  {
   "cell_type": "markdown",
   "id": "eb307def-73fa-425f-85e4-940a69628f27",
   "metadata": {},
   "source": [
    "Use Newton’s method to find solutions accurate to within $10^{−5}$ to the following problems."
   ]
  },
  {
   "cell_type": "markdown",
   "id": "e79896ff-d952-4bc1-9572-e3af5345f0fa",
   "metadata": {},
   "source": [
    "#### (a) $x^2 − 2xe^{−x} + e^{−2x} = 0$, for $0 ≤ x ≤ 1$"
   ]
  },
  {
   "cell_type": "code",
   "execution_count": 121,
   "id": "a20d0093-1595-41ad-b797-5b524894399a",
   "metadata": {},
   "outputs": [],
   "source": [
    "# Function for computing in Newton's method\n",
    "def f(z):\n",
    "    return z**2 - 2*z*math.e**(-z) + math.e**(-2*z)\n",
    "\n",
    "# Function for equation in sympy diff func\n",
    "def fdiff():\n",
    "    return x**2 - 2*x*math.e**(-x) + math.e**(-2*x)"
   ]
  },
  {
   "cell_type": "markdown",
   "id": "0914a971-9327-425a-a398-00c53505c9ad",
   "metadata": {},
   "source": [
    "Let's choose $p_0=0.5$."
   ]
  },
  {
   "cell_type": "code",
   "execution_count": 122,
   "id": "47678723-e462-4e8e-871a-8616ce122060",
   "metadata": {},
   "outputs": [
    {
     "name": "stdout",
     "output_type": "stream",
     "text": [
      "p_1 = 0.5331555015986092\n",
      "p_2 = 0.5500438056228882\n",
      "p_3 = 0.5585669565504401\n",
      "p_4 = 0.5628484514220423\n",
      "p_5 = 0.5649941998805688\n",
      "p_6 = 0.5660683270089566\n",
      "p_7 = 0.5666057041281631\n",
      "p_8 = 0.5668744711177544\n",
      "p_9 = 0.567008874225304\n",
      "p_10 = 0.5670760806826248\n",
      "p_11 = 0.5671096851375983\n",
      "p_12 = 0.5671264876717672\n",
      "0.5671348890156375\n"
     ]
    }
   ],
   "source": [
    "print(newton(0.5,100,f,0.00001))"
   ]
  },
  {
   "cell_type": "markdown",
   "id": "b6574973-6f22-4eea-81f4-89b4f461ab6e",
   "metadata": {},
   "source": [
    "#### <span style=\"color:red\">Solution: $p_{12} = 0.5671264876717672$."
   ]
  },
  {
   "cell_type": "markdown",
   "id": "7ad91b30-7cf6-4a38-b826-89c2c822ae6c",
   "metadata": {},
   "source": [
    "#### (d) $e^{6x} + 3(\\ln 2)^2e^{2x} − (\\ln 8)e^{4x} − (\\ln 2)^3 = 0$, for $−1 ≤ x ≤ 0$"
   ]
  },
  {
   "cell_type": "code",
   "execution_count": 123,
   "id": "bf8f2afa-2f04-46a9-8d76-93e3a2263fac",
   "metadata": {},
   "outputs": [],
   "source": [
    "from math import e, log\n",
    "\n",
    "# Function for computing in Newton's method\n",
    "def f(z):\n",
    "    return e**(6*z) + 3*log(2)**2*e**(2*z) - log(8)*e**(4*z) - log(2)**3\n",
    "\n",
    "# Function for equation in sympy diff func\n",
    "def fdiff():\n",
    "    return e**(6*x) + 3*log(2)**2*e**(2*x) - log(8)*e**(4*x) - log(2)**3"
   ]
  },
  {
   "cell_type": "markdown",
   "id": "8ae75333-42a5-4a3f-b74d-2f6670d84980",
   "metadata": {},
   "source": [
    "Let's choose $p_0 = -0.5$."
   ]
  },
  {
   "cell_type": "code",
   "execution_count": 124,
   "id": "9d80f562-6896-4268-a2fd-9689d465e29c",
   "metadata": {},
   "outputs": [
    {
     "name": "stdout",
     "output_type": "stream",
     "text": [
      "p_1 = -0.35263843577271403\n",
      "p_2 = -0.2854364225630798\n",
      "p_3 = -0.24764648794627175\n",
      "p_4 = -0.22473983414938858\n",
      "p_5 = -0.21032222095717718\n",
      "p_6 = -0.2010516492862044\n",
      "p_7 = -0.19501309988653298\n",
      "p_8 = -0.19104778392223762\n",
      "p_9 = -0.18843033562173553\n",
      "p_10 = -0.186696756659131\n",
      "p_11 = -0.18554603692266078\n",
      "p_12 = -0.18478109465495024\n",
      "p_13 = -0.1842721075778995\n",
      "p_14 = -0.1839332143942448\n",
      "p_15 = -0.18370747695799367\n",
      "p_16 = -0.18355707024831425\n",
      "p_17 = -0.18345683691912198\n",
      "p_18 = -0.18339003157432046\n",
      "p_19 = -0.18334550135427216\n",
      "p_20 = -0.18331581925532686\n",
      "p_21 = -0.18329603011259576\n",
      "p_22 = -0.18328284949636225\n",
      "-0.18327404212566822\n"
     ]
    }
   ],
   "source": [
    "print(newton(-0.5,100,f,0.00001))"
   ]
  },
  {
   "cell_type": "markdown",
   "id": "33574fec-c9c2-4492-9425-52394f239833",
   "metadata": {},
   "source": [
    "#### <span style=\"color:red\">Solution: $p_{22} = -0.18328284949636225$."
   ]
  },
  {
   "cell_type": "markdown",
   "id": "550adfdd-1acc-4b39-a0fe-382ebc79c29a",
   "metadata": {},
   "source": [
    "## Problem 5"
   ]
  },
  {
   "cell_type": "markdown",
   "id": "1353363d-4166-4cca-a023-b962c5ee7bbc",
   "metadata": {},
   "source": [
    "Use Newton’s method and the modified Newton’s method described in Eq. (2.13) to find a solution accurate to within $10^{−5}$ to the problem $$e^{6x} + 1.441e^{2x} − 2.079e^{4x} − 0.3330 = 0, for − 1 ≤ x ≤ 0.$$ This is the same problem as 1(d) with the coefficients replaced by their four-digit approximations. Compare the solutions to the results in 1(d) and 2(d)."
   ]
  },
  {
   "cell_type": "code",
   "execution_count": 125,
   "id": "40b1b6b9-a0e4-4a22-8812-25439a38b168",
   "metadata": {},
   "outputs": [],
   "source": [
    "# Modified Newton method\n",
    "def mod_newton(p0, N, f, TOL=None):\n",
    "    i = 1 # Counter for number of iterations\n",
    "    \n",
    "    while (i <= N):\n",
    "        \n",
    "        fp = diff(fdiff(),x) # Get f' by sympy\n",
    "        fpp = diff(fp,x)\n",
    "        \n",
    "        fp = lambdify(x,fp) # Turn fp into a function\n",
    "        fpp = lambdify(x,fpp) # Turn fpp into a function\n",
    "        \n",
    "        p = p0 - ( (f(p0) * fp(p0)) / (fp(p0)**2 - f(p0)*fpp(p0)) ) # Compute p\n",
    "        \n",
    "        # Check if p is close enough\n",
    "        if TOL != None:\n",
    "            if abs(p - p0) < TOL:\n",
    "                return p\n",
    "        \n",
    "        print(f\"p_{i} =\", p) # Print out each iteration\n",
    "        \n",
    "        i += 1 # Next iteration\n",
    "        \n",
    "        p0 = p # Update p0\n",
    "        \n",
    "    return f\"Failed after {N} iterations.\""
   ]
  },
  {
   "cell_type": "code",
   "execution_count": 126,
   "id": "5220c90b-34b5-458c-aa32-c8a5c9b7938b",
   "metadata": {},
   "outputs": [],
   "source": [
    "from math import e, log\n",
    "\n",
    "# Function for computing in Newton's method\n",
    "def f(z):\n",
    "    return e**(6*z) + 1.441*e**(2*z) - 2.079*e**(4*z) - 0.3330\n",
    "\n",
    "# Function for equation in sympy diff func\n",
    "def fdiff():\n",
    "    return e**(6*x) + 1.441*e**(2*x) - 2.079*e**(4*x) - 0.3330"
   ]
  },
  {
   "cell_type": "markdown",
   "id": "4d4eb23e-21dc-4086-8825-f520c8725153",
   "metadata": {},
   "source": [
    "Let's choose $p_0 = -0.5$."
   ]
  },
  {
   "cell_type": "code",
   "execution_count": 127,
   "id": "993b3af5-3a2d-4868-8e34-f50f868969e5",
   "metadata": {},
   "outputs": [
    {
     "name": "stdout",
     "output_type": "stream",
     "text": [
      "p_1 = -0.352418390794109\n",
      "p_2 = -0.28498026416326533\n",
      "p_3 = -0.24681352821302127\n",
      "p_4 = -0.22323285347614585\n",
      "p_5 = -0.20750945835308304\n",
      "p_6 = -0.19540082353533894\n",
      "p_7 = -0.1810351782180801\n",
      "p_8 = -0.1525930918117031\n",
      "p_9 = -0.16201454173472227\n",
      "p_10 = -0.16736111400529263\n",
      "p_11 = -0.1693411335734311\n",
      "p_12 = -0.16960232053199342\n",
      "-0.16960654689895904\n"
     ]
    }
   ],
   "source": [
    "print(newton(-0.5,100,f,0.00001))"
   ]
  },
  {
   "cell_type": "code",
   "execution_count": 128,
   "id": "32201684-d48d-40fc-af96-c61129677fb3",
   "metadata": {},
   "outputs": [
    {
     "name": "stdout",
     "output_type": "stream",
     "text": [
      "p_1 = -0.2648968499447546\n",
      "p_2 = -0.18557875399632764\n",
      "p_3 = -0.20275906145866215\n",
      "p_4 = -0.44218269478800387\n",
      "p_5 = -0.2394289355121628\n",
      "p_6 = -0.17873578568860854\n",
      "p_7 = -0.17365776818821568\n",
      "p_8 = -0.17062242171578237\n",
      "p_9 = -0.16967055911224765\n",
      "p_10 = -0.16960679874406792\n",
      "-0.16960654799492844\n"
     ]
    }
   ],
   "source": [
    "print(mod_newton(-0.5,100,f,0.00001))"
   ]
  },
  {
   "cell_type": "markdown",
   "id": "816f0b99-d778-49c6-840d-adb59a52d162",
   "metadata": {},
   "source": [
    "#### <span style=\"color:red\">Solution: Newton's method gives $p_{12} = -0.16960232053199342$ while modified Newton's method gives $p_{10} = -0.16960232053199342$."
   ]
  },
  {
   "cell_type": "markdown",
   "id": "fb836034-0d60-45ce-a1d6-07db80b86cd8",
   "metadata": {},
   "source": [
    "## Problem 6"
   ]
  },
  {
   "cell_type": "markdown",
   "id": "bc26f5f4-bbdc-433d-9573-079df5bcfd8a",
   "metadata": {},
   "source": [
    "Show that the following sequences converge linearly to $p = 0$. How large must $n$ be before $|p_n − p| \\leq 5 \\times 10^{−2}$?"
   ]
  },
  {
   "cell_type": "markdown",
   "id": "98e05f3c-41a2-4d27-a2c0-7e36ddf1b233",
   "metadata": {},
   "source": [
    "#### (a) $p_n = \\dfrac{1}{n}, \\ \\ n \\geq 1$"
   ]
  },
  {
   "cell_type": "markdown",
   "id": "5a24e312-7173-4ab8-b727-6a36066ec05b",
   "metadata": {},
   "source": [
    "<span style=\"color:red\">$\\lim_{n\\to\\infty} \\dfrac{p_{n+1} - 0}{p_n - 0} = \\lim_{n\\to\\infty} \\dfrac{\\frac{1}{n+1}}{\\frac{1}{n}} = \\lim_{n\\to\\infty} \\dfrac{n}{n+1} = 1$</span>\n",
    "\n",
    "<span style=\"color:red\">So the convergence is linear.</span>"
   ]
  },
  {
   "cell_type": "code",
   "execution_count": 129,
   "id": "2a634106-3f7c-4804-b17b-6f8540e36c90",
   "metadata": {},
   "outputs": [],
   "source": [
    "# Function for calculating n for second part of question\n",
    "def error(f, p, TOL):\n",
    "    n = 1 # Counter for n\n",
    "    while (abs(f(n) - p) > TOL): # The error inequality given\n",
    "        n += 1\n",
    "    return n\n",
    "\n",
    "# Function to be used in error\n",
    "# Defined by p_n\n",
    "def f(n):\n",
    "    return 1/n"
   ]
  },
  {
   "cell_type": "code",
   "execution_count": 130,
   "id": "31a02a73-af44-4fee-b9d6-03a41c2dc794",
   "metadata": {},
   "outputs": [
    {
     "name": "stdout",
     "output_type": "stream",
     "text": [
      "20\n"
     ]
    }
   ],
   "source": [
    "print(error(f,0,0.05))"
   ]
  },
  {
   "cell_type": "markdown",
   "id": "3aeb9be5-0f3a-492f-97ac-8726584a4c03",
   "metadata": {},
   "source": [
    "<span style=\"color:red\">$n = 20$</span>"
   ]
  },
  {
   "cell_type": "markdown",
   "id": "d7d95bb5-4023-42de-9570-4564d97d5a5f",
   "metadata": {},
   "source": [
    "#### (b) $p_n = \\dfrac{1}{n^2} , \\ \\ n \\geq 1$"
   ]
  },
  {
   "cell_type": "markdown",
   "id": "44150c38-dc65-432a-abab-40ba29523194",
   "metadata": {},
   "source": [
    "<span style=\"color:red\">$\\lim_{n\\to\\infty} \\dfrac{p_{n+1} - 0}{p_n - 0} = \\lim_{n\\to\\infty} \\dfrac{\\frac{1}{(n+1)^2}}{\\frac{1}{n^2}} = \\lim_{n\\to\\infty} \\dfrac{n^2}{(n+1)^2} = \\lim_{n\\to\\infty} \\dfrac{n^2}{n^2 + 2n + 1} = 1.$</span>\n",
    "\n",
    "<span style=\"color:red\">So the convergence is linear.</span>"
   ]
  },
  {
   "cell_type": "code",
   "execution_count": 131,
   "id": "5d3e734b-c020-4df2-a8e6-66b699000332",
   "metadata": {},
   "outputs": [],
   "source": [
    "# Function for calculating n, defined by p_n\n",
    "def f(n):\n",
    "    return 1 / n**2"
   ]
  },
  {
   "cell_type": "code",
   "execution_count": 132,
   "id": "e3646b42-860b-4089-9756-34b246b37c87",
   "metadata": {},
   "outputs": [
    {
     "name": "stdout",
     "output_type": "stream",
     "text": [
      "5\n"
     ]
    }
   ],
   "source": [
    "print(error(f,0,0.05))"
   ]
  },
  {
   "cell_type": "markdown",
   "id": "99dc4e89-b94f-4258-a5e0-64617c7c3327",
   "metadata": {},
   "source": [
    "<span style=\"color:red\">$n = 5$</span>"
   ]
  },
  {
   "cell_type": "markdown",
   "id": "64482641-7a2f-4266-8157-717ac4103877",
   "metadata": {},
   "source": [
    "## Problem 8. A."
   ]
  },
  {
   "cell_type": "markdown",
   "id": "d9c4978d-325e-45c2-ac4c-bd80c56573fa",
   "metadata": {},
   "source": [
    "Show that the sequence $p_n = 10^{−2^n} = \\dfrac{1}{10^{2^n}}$ converges quadratically to $0$."
   ]
  },
  {
   "cell_type": "markdown",
   "id": "c1dd9a58-a898-41a4-b481-8b7716494ab3",
   "metadata": {},
   "source": [
    "<span style=\"color:red\"> $\\lim_{n\\to\\infty} \\dfrac{|p_{n+1} - 0|}{|p_n - 0|^2} = \\lim_{n\\to\\infty} \\dfrac{|\\frac{1}{10^{2^{n+1}}}|}{|\\frac{1}{10^{2^n}}|^2} = \\lim_{n\\to\\infty} \\dfrac{10^{2^{n+1}}}{10^{2^{n+1}}} = 1.$ </span>\n",
    "\n",
    "<span style=\"color:red\"> So the convergence is quadratic. </span>"
   ]
  },
  {
   "cell_type": "markdown",
   "id": "b85c5f4a-8628-4e5f-b6aa-e54fdbf4040a",
   "metadata": {},
   "source": [
    "## Problem 8. B."
   ]
  },
  {
   "cell_type": "markdown",
   "id": "7727f903-73e8-4ad6-ab27-21203c7c7caa",
   "metadata": {},
   "source": [
    "Show that the sequence $p_n = 10^{−n^k}$ does not converge to $0$ quadratically, regardless of the size of the exponent $k > 1$."
   ]
  },
  {
   "cell_type": "markdown",
   "id": "105a4a4f-a5e1-4fc9-a9e5-9ff3ecad3a52",
   "metadata": {},
   "source": [
    "<span style=\"color:red\"> $ \\lim_{n\\to\\infty} \\dfrac{|p_{n+1}|}{|p_n|^2} = \\lim_{n\\to\\infty} \\dfrac{|10^{-(n+1)^k|}}{|10^{-n^k}|^2} = \\lim_{n\\to\\infty} \\dfrac{10^{2n^k}}{10^{(n+1)^k}} = \\lim_{n\\to\\infty} \\dfrac{10^{2n^k}}{10^{n^k+\\cdots}} = \\infty$ </span>\n",
    "    \n",
    " \n",
    "<span style=\"color:red\"> So this sequence does not converge to $0$ quadratically. </span>"
   ]
  },
  {
   "cell_type": "markdown",
   "id": "2dd48f72-753b-4147-9b26-148ee9021003",
   "metadata": {
    "tags": []
   },
   "source": [
    "# $\\S 3.1$"
   ]
  },
  {
   "cell_type": "markdown",
   "id": "603bfc19-96e0-4a58-b4dd-b1dcf6ff2fff",
   "metadata": {},
   "source": [
    "#### Problem 1"
   ]
  },
  {
   "cell_type": "markdown",
   "id": "b57edced-f17c-40b3-bac8-4b7b55c29fbf",
   "metadata": {},
   "source": [
    "For the given functions $f (x)$, let $x_0 = 0, x_1 = 0.6$, and $x_2 = 0.9$. Construct interpolation polynomials of degree at most one and at most two to approximate $f(0.45)$, and find the absolute error."
   ]
  },
  {
   "cell_type": "markdown",
   "id": "56998451-9724-49cb-a614-67177773baf8",
   "metadata": {},
   "source": [
    "#### (a) $f (x) = \\cos x$"
   ]
  },
  {
   "cell_type": "code",
   "execution_count": 133,
   "id": "7256b00d-1e86-4fd9-b10f-1c3c0aa86133",
   "metadata": {},
   "outputs": [],
   "source": [
    "# Function for getting L_{n,k}\n",
    "def lagrange(n,x,xlist):\n",
    "    L1 = [] # List for each (x-x_i) / (x_k - x_i) in L_{n,k}\n",
    "    L2 = [] # List for L_{n,k}\n",
    "    for k in range(n+1): \n",
    "        for i in range(n+1): \n",
    "            if k != i: # Makes sure we don't divide by zero\n",
    "                L1.append((x-xlist[i])/(xlist[k]-xlist[i])) # Append (x-x_i) / (x_k - x_i)\n",
    "        L2.append(prod(L1)) # Append the product of all (x-x_i) / (x_k - x_i) in L1\n",
    "        L1 = [] # Resets for new term\n",
    "    return L2\n",
    "\n",
    "# Function for polynomial P(x)\n",
    "def P(f,n,x,xlist):\n",
    "    poly = [] # List for each term in P(x)\n",
    "    L = lagrange(n,x,xlist) # Get list of all L_{n,k}\n",
    "    for i in range(n+1):\n",
    "        poly.append(f(xlist[i]) * L[i]) # Multiply L_{n,k} with f(x_k)\n",
    "    return sum(poly) # Sum them up\n",
    "    \n",
    "# Given function\n",
    "def f(x):\n",
    "    return math.cos(x)"
   ]
  },
  {
   "cell_type": "code",
   "execution_count": 134,
   "id": "ed193c97-4a47-4732-a40a-717f40e8ed53",
   "metadata": {},
   "outputs": [
    {
     "name": "stdout",
     "output_type": "stream",
     "text": [
      "0.8690017111822588\n"
     ]
    }
   ],
   "source": [
    "print(P(f,1,0.45,[0,0.6,0.9]))"
   ]
  },
  {
   "cell_type": "code",
   "execution_count": 135,
   "id": "f09d457e-e2c3-4530-8ef7-1b6256ee969a",
   "metadata": {},
   "outputs": [
    {
     "data": {
      "text/plain": [
       "0.9004471023526769"
      ]
     },
     "execution_count": 135,
     "metadata": {},
     "output_type": "execute_result"
    }
   ],
   "source": [
    "f(0.45)"
   ]
  },
  {
   "cell_type": "code",
   "execution_count": 136,
   "id": "19a7d210-f217-4981-9208-0aa700673464",
   "metadata": {},
   "outputs": [
    {
     "data": {
      "text/plain": [
       "0.03144539117041811"
      ]
     },
     "execution_count": 136,
     "metadata": {},
     "output_type": "execute_result"
    }
   ],
   "source": [
    "f(0.45)-P(f,1,0.45,[0,0.6,0.9])"
   ]
  },
  {
   "cell_type": "markdown",
   "id": "aa12341c-8b57-433e-8a1b-7a688dc26737",
   "metadata": {},
   "source": [
    "#### <span style=\"color:red\">$P_1(0.45) = 0.8690017111822588$. And the absolute error is $|0.9004471023526769-0.8690017111822588| = 0.03144539117041811$."
   ]
  },
  {
   "cell_type": "code",
   "execution_count": 137,
   "id": "a7db7ff1-7ce6-438a-9efa-32f3c6f0214a",
   "metadata": {},
   "outputs": [
    {
     "name": "stdout",
     "output_type": "stream",
     "text": [
      "0.8981000747057218\n"
     ]
    }
   ],
   "source": [
    "print(P(f,2,0.45,[0,0.6,0.9]))"
   ]
  },
  {
   "cell_type": "code",
   "execution_count": 138,
   "id": "b8c3b86e-455b-4dca-bd57-d38118e8aeee",
   "metadata": {},
   "outputs": [
    {
     "data": {
      "text/plain": [
       "0.0023470276469550466"
      ]
     },
     "execution_count": 138,
     "metadata": {},
     "output_type": "execute_result"
    }
   ],
   "source": [
    "f(0.45)-P(f,2,0.45,[0,0.6,0.9])"
   ]
  },
  {
   "cell_type": "markdown",
   "id": "5c11dcc4-1ac9-43c4-ac1b-ba195f2558d7",
   "metadata": {},
   "source": [
    "#### <span style=\"color:red\">$P_2(0.45) = 0.8981000747057218$. And the absolute error is $|0.9004471023526769-0.8981000747057218| = 0.0023470276469550466$."
   ]
  },
  {
   "cell_type": "markdown",
   "id": "a7687c47-7de8-4438-95b1-bb29cdcfd5dd",
   "metadata": {},
   "source": [
    "#### (d) $f (x) = \\tan x$"
   ]
  },
  {
   "cell_type": "code",
   "execution_count": 139,
   "id": "09b0a2f6-6dc0-41af-befe-49fad9021b24",
   "metadata": {},
   "outputs": [],
   "source": [
    "def f(x):\n",
    "    return math.tan(x)"
   ]
  },
  {
   "cell_type": "code",
   "execution_count": 140,
   "id": "e95c5c66-d7dc-496b-8c8f-c0b23e31b067",
   "metadata": {},
   "outputs": [
    {
     "name": "stdout",
     "output_type": "stream",
     "text": [
      "0.5131026062562692\n"
     ]
    }
   ],
   "source": [
    "print(P(f,1,0.45,[0,0.6,0.9]))"
   ]
  },
  {
   "cell_type": "code",
   "execution_count": 141,
   "id": "0ce4a16c-70c0-4c86-9464-e0fd7cd99fa4",
   "metadata": {},
   "outputs": [
    {
     "data": {
      "text/plain": [
       "0.4830550656165784"
      ]
     },
     "execution_count": 141,
     "metadata": {},
     "output_type": "execute_result"
    }
   ],
   "source": [
    "f(0.45)"
   ]
  },
  {
   "cell_type": "code",
   "execution_count": 142,
   "id": "29585773-eb73-4034-ab2f-b3959f77c7da",
   "metadata": {},
   "outputs": [
    {
     "data": {
      "text/plain": [
       "0.03004754063969084"
      ]
     },
     "execution_count": 142,
     "metadata": {},
     "output_type": "execute_result"
    }
   ],
   "source": [
    "abs(f(0.45)-P(f,1,0.45,[0,0.6,0.9]))"
   ]
  },
  {
   "cell_type": "markdown",
   "id": "7cb1dc8a-96c2-4bf0-b1be-2b33c38ce21c",
   "metadata": {},
   "source": [
    "#### <span style=\"color:red\">$P_1(0.45) = 0.5131026062562692$. And the absolute error is $|0.4830550656165784-0.5131026062562692| = 0.03004754063969084$."
   ]
  },
  {
   "cell_type": "code",
   "execution_count": 143,
   "id": "1573feb0-4ff8-493b-96e0-b692e81630f6",
   "metadata": {},
   "outputs": [
    {
     "name": "stdout",
     "output_type": "stream",
     "text": [
      "0.45461435499681907\n"
     ]
    }
   ],
   "source": [
    "print(P(f,2,0.45,[0,0.6,0.9]))"
   ]
  },
  {
   "cell_type": "code",
   "execution_count": 144,
   "id": "7fae4fba-52b4-4cee-9907-b8fc1d3749de",
   "metadata": {},
   "outputs": [
    {
     "data": {
      "text/plain": [
       "0.028440710619759335"
      ]
     },
     "execution_count": 144,
     "metadata": {},
     "output_type": "execute_result"
    }
   ],
   "source": [
    "abs(f(0.45)-P(f,2,0.45,[0,0.6,0.9]))"
   ]
  },
  {
   "cell_type": "markdown",
   "id": "c6dab786-5e09-4bed-a544-fe027fd8e8d5",
   "metadata": {},
   "source": [
    "#### <span style=\"color:red\">$P_2(0.45) = 0.45461435499681907$. And the absolute error is $|0.4830550656165784-0.45461435499681907| = 0.028440710619759335$."
   ]
  },
  {
   "cell_type": "markdown",
   "id": "db30242e-b529-4c71-9233-156d1e2e90bb",
   "metadata": {},
   "source": [
    "## Problem 2"
   ]
  },
  {
   "cell_type": "markdown",
   "id": "c4ed428d-39c4-4b0d-8d14-878ff0d1e3f2",
   "metadata": {},
   "source": [
    "For the given functions $f(x)$, let $x_0 = 1, x_1 = 1.25$, and $x_2 = 1.6$. Construct interpolation polynomials of degree at most one and at most two to approximate $f (1.4)$, and find the absolute error."
   ]
  },
  {
   "cell_type": "markdown",
   "id": "77a9014a-025b-47de-b031-e63a45558862",
   "metadata": {},
   "source": [
    "#### (a) $f (x) = \\sin \\pi x$"
   ]
  },
  {
   "cell_type": "code",
   "execution_count": 145,
   "id": "e41d9719-4bda-4efb-9336-767461607df4",
   "metadata": {},
   "outputs": [],
   "source": [
    "def f(x):\n",
    "    return math.sin(math.pi*x)"
   ]
  },
  {
   "cell_type": "code",
   "execution_count": 146,
   "id": "5d8308d4-3663-4011-a8a6-012e305e5a2b",
   "metadata": {},
   "outputs": [
    {
     "name": "stdout",
     "output_type": "stream",
     "text": [
      "-1.1313708498984756\n"
     ]
    }
   ],
   "source": [
    "print(P(f,1,1.4,[1,1.25,1.6]))"
   ]
  },
  {
   "cell_type": "code",
   "execution_count": 147,
   "id": "62fd7c9f-861b-4368-ba57-0d37753d36ef",
   "metadata": {},
   "outputs": [
    {
     "data": {
      "text/plain": [
       "-0.9510565162951535"
      ]
     },
     "execution_count": 147,
     "metadata": {},
     "output_type": "execute_result"
    }
   ],
   "source": [
    "f(1.4)"
   ]
  },
  {
   "cell_type": "code",
   "execution_count": 148,
   "id": "97135eb0-677d-446b-9e42-ac6b77496f1f",
   "metadata": {},
   "outputs": [
    {
     "data": {
      "text/plain": [
       "0.18031433360332205"
      ]
     },
     "execution_count": 148,
     "metadata": {},
     "output_type": "execute_result"
    }
   ],
   "source": [
    "abs(f(1.4)-P(f,1,1.4,[1,1.25,1.6]))"
   ]
  },
  {
   "cell_type": "markdown",
   "id": "8a9c640f-3337-4aed-ae05-71fe080880ec",
   "metadata": {},
   "source": [
    "#### <span style=\"color:red\">$P_1(1.4) = -1.1313708498984756$. And the absolute error is $|-0.9510565162951535 - (-1.1313708498984756)| = 0.18031433360332205$."
   ]
  },
  {
   "cell_type": "code",
   "execution_count": 149,
   "id": "8cea8c23-8483-475d-b2cf-1f95dfd48676",
   "metadata": {},
   "outputs": [
    {
     "name": "stdout",
     "output_type": "stream",
     "text": [
      "-0.9182280617406016\n"
     ]
    }
   ],
   "source": [
    "print(P(f,2,1.4,[1,1.25,1.6]))"
   ]
  },
  {
   "cell_type": "code",
   "execution_count": 150,
   "id": "e68cc479-ccb7-4fa8-900a-b21288cc8cce",
   "metadata": {},
   "outputs": [
    {
     "data": {
      "text/plain": [
       "0.03282845455455197"
      ]
     },
     "execution_count": 150,
     "metadata": {},
     "output_type": "execute_result"
    }
   ],
   "source": [
    "abs(f(1.4)-P(f,2,1.4,[1,1.25,1.6]))"
   ]
  },
  {
   "cell_type": "markdown",
   "id": "eb586cc3-2c0f-4d56-9949-400a49f9ee96",
   "metadata": {},
   "source": [
    "#### <span style=\"color:red\">$P_2(1.4) = -0.9182280617406016$. And the absolute error is $|-0.9510565162951535 - (-0.9182280617406016)| = 0.03282845455455197$."
   ]
  },
  {
   "cell_type": "markdown",
   "id": "63f87b3c-0b9e-451e-b317-8e86acf33e90",
   "metadata": {},
   "source": [
    "#### (b) $f (x) = \\sqrt[3]{x-1}$"
   ]
  },
  {
   "cell_type": "code",
   "execution_count": 151,
   "id": "e6ff633b-7c8d-44b8-b21c-646560402d44",
   "metadata": {},
   "outputs": [],
   "source": [
    "def f(x):\n",
    "    return (x-1)**(1/3)"
   ]
  },
  {
   "cell_type": "code",
   "execution_count": 152,
   "id": "98853a4c-1beb-4a25-807b-68cbd64a485a",
   "metadata": {},
   "outputs": [
    {
     "name": "stdout",
     "output_type": "stream",
     "text": [
      "1.0079368399158983\n"
     ]
    }
   ],
   "source": [
    "print(P(f,1,1.4,[1,1.25,1.6]))"
   ]
  },
  {
   "cell_type": "code",
   "execution_count": 153,
   "id": "361f748a-d75f-49d7-836c-559f1f5db05f",
   "metadata": {},
   "outputs": [
    {
     "data": {
      "text/plain": [
       "0.7368062997280773"
      ]
     },
     "execution_count": 153,
     "metadata": {},
     "output_type": "execute_result"
    }
   ],
   "source": [
    "f(1.4)"
   ]
  },
  {
   "cell_type": "code",
   "execution_count": 154,
   "id": "b6a7bbe5-194c-427f-958b-ce5538db7e82",
   "metadata": {},
   "outputs": [
    {
     "data": {
      "text/plain": [
       "0.271130540187821"
      ]
     },
     "execution_count": 154,
     "metadata": {},
     "output_type": "execute_result"
    }
   ],
   "source": [
    "abs(f(1.4)-P(f,1,1.4,[1,1.25,1.6]))"
   ]
  },
  {
   "cell_type": "markdown",
   "id": "b60fe6e8-5750-4e39-916e-05eb86dfff3a",
   "metadata": {},
   "source": [
    "#### <span style=\"color:red\">$P_1(1.4) = 1.0079368399158983$. And the absolute error is $|0.7368062997280773 - 1.0079368399158983| = 0.271130540187821$."
   ]
  },
  {
   "cell_type": "code",
   "execution_count": 155,
   "id": "8bd7a305-7a37-4167-91d6-d532360333a4",
   "metadata": {},
   "outputs": [
    {
     "name": "stdout",
     "output_type": "stream",
     "text": [
      "0.8169446700381561\n"
     ]
    }
   ],
   "source": [
    "print(P(f,2,1.4,[1,1.25,1.6]))"
   ]
  },
  {
   "cell_type": "code",
   "execution_count": 156,
   "id": "556e51d3-8172-4bdd-a07a-05b68a821239",
   "metadata": {},
   "outputs": [
    {
     "data": {
      "text/plain": [
       "0.08013837031007875"
      ]
     },
     "execution_count": 156,
     "metadata": {},
     "output_type": "execute_result"
    }
   ],
   "source": [
    "abs(f(1.4)-P(f,2,1.4,[1,1.25,1.6]))"
   ]
  },
  {
   "cell_type": "markdown",
   "id": "9cf0044e-1b02-490d-820b-1711b3578488",
   "metadata": {},
   "source": [
    "#### <span style=\"color:red\">$P_2(1.4) = 0.8169446700381561$. And the absolute error is $|0.7368062997280773 - 0.8169446700381561| = 0.08013837031007875$."
   ]
  },
  {
   "cell_type": "markdown",
   "id": "6e5fd006-74db-441d-9b5f-a399beed7978",
   "metadata": {},
   "source": [
    "## Problem 3"
   ]
  },
  {
   "cell_type": "markdown",
   "id": "8ad1e5b5-1f24-48b8-b1de-86d0b3ea35fb",
   "metadata": {},
   "source": [
    "Use Theorem 3.3 to find an error bound for the approximations in Exercise 1."
   ]
  },
  {
   "cell_type": "markdown",
   "id": "36db5b11-df02-4a85-8930-c342c3f16c32",
   "metadata": {},
   "source": [
    "#### (a) $f(x) = \\cos(x)$"
   ]
  },
  {
   "cell_type": "markdown",
   "id": "fa600903-1aac-4084-8f5f-0af436fa2e36",
   "metadata": {},
   "source": [
    "For the first degree polynomial, we have \n",
    "\n",
    "$$ \\Bigg|\\dfrac{f''(\\xi)}{2}(0.45-0)(0.45-0.6)\\Bigg| = \\Bigg|-\\cos(\\xi) \\cdot -0.03375\\Bigg| \\leq 0.03375.$$\n",
    "\n",
    "For the second degree polynomial, we have\n",
    "\n",
    "$$ \\Bigg| \\dfrac{f'''(\\xi)}{6}(0.45-0)(0.45-0.6)(0.45-0.9) \\Bigg| = \\Bigg| sin(\\xi) \\cdot 0.0050625 \\Bigg| \\leq 0.783326909627 \\cdot 0.0050625 = 0.004556$$\n",
    "\n",
    "We take $\\xi = 0.9$."
   ]
  },
  {
   "cell_type": "markdown",
   "id": "a0cd057a-450f-469e-811e-6639bf364e07",
   "metadata": {},
   "source": [
    "#### (d) $f(x) = \\tan(x)$"
   ]
  },
  {
   "cell_type": "markdown",
   "id": "03fc1952-42e5-49f9-958a-151f082a3965",
   "metadata": {},
   "source": [
    "For the first degree polynomial, we have \n",
    "\n",
    "$$ \\Bigg|\\dfrac{f''(\\xi)}{2}(0.45-0)(0.45-0.6)\\Bigg| = \\Bigg|2\\sec^2(\\xi)\\tan(\\xi) \\cdot -0.03375\\Bigg| \\leq \\Bigg| 2.00868474112 \\cdot -0.03375 \\Bigg| = 0.0677931100129. $$\n",
    "\n",
    "We take $\\xi = 0.6$.\n",
    "\n",
    "For the second degree polynomial, we have\n",
    "\n",
    "$$ \\Bigg| \\dfrac{f'''(\\xi)}{6}(0.45-0)(0.45-0.6)(0.45-0.9) \\Bigg| = \\Bigg| \\big[2\\sec^4(\\xi)+4\\sec^2(\\xi)\\tan^2(\\xi)\\big] \\cdot 0.0050625 \\Bigg| \\leq 29.8344297271 \\cdot 0.0050625 = 0.151036800493$$"
   ]
  },
  {
   "cell_type": "code",
   "execution_count": 157,
   "id": "ea7f3263-eb2c-4923-a4ff-0b0e58533a4d",
   "metadata": {},
   "outputs": [
    {
     "data": {
      "text/latex": [
       "$\\displaystyle \\left(2 \\tan^{2}{\\left(x \\right)} + 2\\right) \\tan{\\left(x \\right)}$"
      ],
      "text/plain": [
       "(2*tan(x)**2 + 2)*tan(x)"
      ]
     },
     "execution_count": 157,
     "metadata": {},
     "output_type": "execute_result"
    }
   ],
   "source": [
    "diff(diff(tan(x)))"
   ]
  },
  {
   "cell_type": "code",
   "execution_count": 158,
   "id": "bf128c7d-7a9a-485f-a920-9886278e862c",
   "metadata": {},
   "outputs": [
    {
     "data": {
      "text/latex": [
       "$\\displaystyle \\left(\\tan^{2}{\\left(x \\right)} + 1\\right) \\left(2 \\tan^{2}{\\left(x \\right)} + 2\\right) + 2 \\left(2 \\tan^{2}{\\left(x \\right)} + 2\\right) \\tan^{2}{\\left(x \\right)}$"
      ],
      "text/plain": [
       "(tan(x)**2 + 1)*(2*tan(x)**2 + 2) + 2*(2*tan(x)**2 + 2)*tan(x)**2"
      ]
     },
     "execution_count": 158,
     "metadata": {},
     "output_type": "execute_result"
    }
   ],
   "source": [
    "diff(diff(diff(tan(x))))"
   ]
  },
  {
   "cell_type": "markdown",
   "id": "dc2125fe-2a53-4c13-b1e8-870d086964b8",
   "metadata": {},
   "source": [
    "## Problem 4\n",
    "\n",
    "Use Theorem 3.3 to find an error bound for the approximations in Exercise 2.\n",
    "\n",
    "#### (a) $f(x) = \\sin(\\pi x)$.\n",
    "\n",
    "The first degree polynomial has the error form\n",
    "\n",
    "$$ \\Bigg|\\dfrac{f''(\\xi)}{2}(1.4-1)(1.4-1.25)\\Bigg| = \\Bigg|-\\pi^2 \\sin(\\pi \\xi) \\cdot 0.03\\Bigg| \\leq 6.97886419964 \\cdot 0.03 = 0.209365925989.$$\n",
    "\n",
    "We take $\\xi = 1.25$.\n",
    "\n",
    "The second degree polynomial has the error form\n",
    "\n",
    "$$ \\Bigg| \\dfrac{f'''(\\xi)}{6}(1.4-1)(1.4-1.25)(1.45-1.6) \\Bigg| = \\Bigg| -\\pi^3\\cos(\\pi \\xi) \\cdot -0.0015 \\Bigg| \\leq \\pi^3 \\cdot 0.0015 = 0.0465094150204.$$\n",
    "\n",
    "We take $\\xi = 1$."
   ]
  },
  {
   "cell_type": "markdown",
   "id": "cbf6bf50-a85d-4246-95bc-a892f1deff04",
   "metadata": {},
   "source": [
    "#### (b) $f(x) = \\sqrt[3]{x-1}$.\n",
    "\n",
    "The first degree polynomial has the error form\n",
    "\n",
    "$$ \\Bigg|\\dfrac{f''(\\xi)}{2}(1.4-1.6)(1.4-1.25)\\Bigg| = \\Bigg|-\\frac{2}{9\\left(\\xi-1\\right)^{\\frac{5}{3}}} \\cdot -0.015\\Bigg| \\leq 2.23985964426 \\cdot 0.015 = 0.0335978946639.$$\n",
    "\n",
    "We take $\\xi = 1.25$.\n",
    "\n",
    "The second degree polynomial has the error form\n",
    "\n",
    "$$ \\Bigg| \\dfrac{f'''(\\xi)}{6}(1.4-1.25)(1.45-1.6) \\Bigg| = \\Bigg| \\frac{10}{27\\left(\\xi-1\\right)^{\\frac{8}{3}}} \\cdot -0.005 \\Bigg| \\leq 14.9323976284 \\cdot 0.005 = 0.0746619881419.$$\n",
    "\n",
    "We take $\\xi = 1.25$."
   ]
  },
  {
   "cell_type": "markdown",
   "id": "23450c2f-be57-498d-b1c9-ef8151163d67",
   "metadata": {},
   "source": [
    "## Problem 11\n",
    "\n",
    "Use the following values and four-digit rounding arithmetic to construct a third Lagrange polynomial approximation to $f(1.09)$. The function being approximated is $f (x) = \\log_{10}(\\tan x)$. Use this knowledge to find a bound for the error in the approximation.\n",
    "$$ f (1.00) = 0.1924 \\ \\ f (1.05) = 0.2414 \\ \\ f (1.10) = 0.2933 \\ \\ f (1.15) = 0.3492 $$"
   ]
  },
  {
   "cell_type": "code",
   "execution_count": 159,
   "id": "1bfa50c6-2ada-4e86-affc-a272435639d3",
   "metadata": {},
   "outputs": [],
   "source": [
    "# Lagrange function with rounding arthmetic\n",
    "def lagrange_round(n,x,xlist,sig_fig):\n",
    "    L1 = [] # List for each (x-x_i) / (x_k - x_i) in L_{n,k}\n",
    "    L2 = [] # List for L_{n,k}\n",
    "    for k in range(n+1): \n",
    "        for i in range(n+1): \n",
    "            if k != i: # Makes sure we don't divide by zero\n",
    "                L1.append( round((x-xlist[i])/(xlist[k]-xlist[i]),sig_fig) ) # Append (x-x_i) / (x_k - x_i)\n",
    "        \n",
    "        # Get the product of all (x-x_i) / (x_k - x_i) in L1 with rounding arthmetic\n",
    "        product = 1\n",
    "        for L in L1:\n",
    "            prod = round(product * L, sig_fig)\n",
    "        L2.append(product) # Append the product of all (x-x_i) / (x_k - x_i) in L1\n",
    "        L1 = [] # Resets for new term\n",
    "        \n",
    "    return L2\n",
    "\n",
    "# Function for polynomial P(x) with rounding arthmetic\n",
    "# Added an f(x) list and removed function f, since the f(x) are provided\n",
    "def P_round(n,x,xlist,flist,sig_fig):\n",
    "    poly = [] # List for each term in P(x)\n",
    "    L = lagrange(n,x,xlist) # Get list of all L_{n,k}\n",
    "    for i in range(n+1):\n",
    "        poly.append(round(flist[i] * L[i], sig_fig)) # Multiply L_{n,k} with f(x_k)\n",
    "    \n",
    "    # Sum them up with rounding arthmetic\n",
    "    s = 0\n",
    "    for term in poly:\n",
    "        s = round(s + term, sig_fig)\n",
    "    \n",
    "    return s\n",
    "    \n",
    "# Given function\n",
    "def f(x):\n",
    "    return math.log10(math.tan(x))"
   ]
  },
  {
   "cell_type": "code",
   "execution_count": 160,
   "id": "e6395bf1-5237-4da4-95ff-87c6a2f626f5",
   "metadata": {},
   "outputs": [
    {
     "name": "stdout",
     "output_type": "stream",
     "text": [
      "0.2825\n"
     ]
    }
   ],
   "source": [
    "print(P_round(3,1.09,[1.00,1.05,1.10,1.15],[0.1924,0.2414,0.2933,0.3492],4))"
   ]
  },
  {
   "cell_type": "markdown",
   "id": "1d0817fb-0cae-4ce1-842a-38b30581271f",
   "metadata": {},
   "source": [
    "$f^4(x) = \\dfrac{2\\sec ^2\\left(x\\right)\\left(4\\tan ^6\\left(x\\right)+8\\sec ^4\\left(x\\right)\\tan ^2\\left(x\\right)-3\\sec ^6\\left(x\\right)-6\\tan ^4\\left(x\\right)\\sec ^2\\left(x\\right)\\right)}{\\ln \\left(10\\right)\\tan ^4\\left(x\\right)}$.\n",
    "\n",
    "The third degree polynomial has the error form\n",
    "\n",
    "$$ \\Bigg| \\dfrac{f^4(\\xi)}{4!}(1.09-1)(1.09-1.05)(1.09-1.10)(1.09-1.15) \\Bigg| = \\Bigg| f^4(\\xi) \\cdot 9 \\times 10^{−8} \\Bigg| \\leq 81.508 \\cdot 9 \\times 10^{−8} = 7.33572 \\times 10^{-6}.$$\n",
    "\n",
    "We choose $\\xi = 1.15$.\n",
    "\n",
    "#### $P_3(1.09) = 0.2825$ with 4-digit rounding arthmetic."
   ]
  },
  {
   "cell_type": "markdown",
   "id": "62486cba-8db4-44bb-aa5b-3f9359a269cb",
   "metadata": {},
   "source": [
    "## Problem 18 A.\n",
    "\n",
    "From $\\S 1.1 \\ 24$, Maclaurin series : erf$(x) = \\dfrac{2}{\\sqrt{\\pi}} \\sum_{k=0}^\\infty \\dfrac{(-1)^k x^{2k+1}}{(2k+1)k!}$. \n",
    "\n",
    "0.0  |0.2  |0.4  |0.6  |0.8  |1.0\n",
    "-----|-----|-----|-----|-----|-----   \n",
    "0|0.22267|0.42844|0.60381|0.74217|0.84271\n",
    "1|1|2|3|4|6\n"
   ]
  },
  {
   "cell_type": "code",
   "execution_count": 161,
   "id": "f3e63bf8-d645-4203-a788-21cb0081b4c7",
   "metadata": {},
   "outputs": [],
   "source": [
    "# erf function as given by Section 1.1 Exercise 24\n",
    "def erf(n, x):\n",
    "    sum_list = []\n",
    "    for k in range(n+1):\n",
    "        sum_list.append(((-1)**k * x**(2*k+1)) / ((2*k+1)*math.factorial(k)))\n",
    "        \n",
    "    return (2 / math.sqrt(math.pi)) * sum(sum_list)\n",
    "\n",
    "# Find the number of terms needed for erf to be accurate within TOL\n",
    "def erf_n(x, TOL):\n",
    "    n = 1\n",
    "    while abs((erf(n,x) - math.erf(x))) > TOL:\n",
    "        n += 1\n",
    "    return n"
   ]
  },
  {
   "cell_type": "code",
   "execution_count": 162,
   "id": "9caa1914-93ec-4a0d-bb04-84c8e5382f80",
   "metadata": {},
   "outputs": [
    {
     "data": {
      "text/plain": [
       "(1, 0.2226668223068478, 0.22270258921047847)"
      ]
     },
     "execution_count": 162,
     "metadata": {},
     "output_type": "execute_result"
    }
   ],
   "source": [
    "erf_n(0.2, 0.0001), erf(1,0.2), math.erf(0.2)"
   ]
  },
  {
   "cell_type": "code",
   "execution_count": 163,
   "id": "9471aee9-1632-4839-94ef-8dbbd2dbcfb4",
   "metadata": {},
   "outputs": [
    {
     "data": {
      "text/plain": [
       "(2, 0.4284350382072733, 0.42839235504666845)"
      ]
     },
     "execution_count": 163,
     "metadata": {},
     "output_type": "execute_result"
    }
   ],
   "source": [
    "erf_n(0.4, 0.0001), erf(2, 0.4), math.erf(0.4)"
   ]
  },
  {
   "cell_type": "code",
   "execution_count": 164,
   "id": "9f78ebab-a711-4275-909f-e256cd75e61e",
   "metadata": {},
   "outputs": [
    {
     "data": {
      "text/plain": [
       "(3, 0.6038063957951938, 0.6038560908479259)"
      ]
     },
     "execution_count": 164,
     "metadata": {},
     "output_type": "execute_result"
    }
   ],
   "source": [
    "erf_n(0.6, 0.0001), erf(3,0.6), math.erf(0.6)"
   ]
  },
  {
   "cell_type": "code",
   "execution_count": 165,
   "id": "fa5585fd-da5e-4532-883c-b598725b9d0d",
   "metadata": {},
   "outputs": [
    {
     "data": {
      "text/plain": [
       "(4, 0.7421682570974268, 0.7421009647076605)"
      ]
     },
     "execution_count": 165,
     "metadata": {},
     "output_type": "execute_result"
    }
   ],
   "source": [
    "erf_n(0.8, 0.0001), erf(4,0.8), math.erf(0.8)"
   ]
  },
  {
   "cell_type": "code",
   "execution_count": 166,
   "id": "d36cc8ef-2753-4dff-bfe7-29d6c27c97f2",
   "metadata": {},
   "outputs": [
    {
     "data": {
      "text/plain": [
       "(6, 0.8427142223810101, 0.8427007929497148)"
      ]
     },
     "execution_count": 166,
     "metadata": {},
     "output_type": "execute_result"
    }
   ],
   "source": [
    "erf_n(1.0, 0.0001), erf(6,1), math.erf(1)"
   ]
  },
  {
   "cell_type": "markdown",
   "id": "1d7e9ca5-cc75-4667-9fc6-22d0724ea298",
   "metadata": {},
   "source": [
    "## Problem 18 B.\n",
    "\n",
    "We have erf(0) = 0, erf(0.2) = 0.22269, erf(0.4) = 0.42838, etc. The rest are shown above. So we have use our P function from before, but with an f(x) list instead of function f, to get $P_1(1/3)$ and $P_2(1/3)$."
   ]
  },
  {
   "cell_type": "code",
   "execution_count": 167,
   "id": "ed0eb64f-b070-4ec1-b41e-03f43f587046",
   "metadata": {},
   "outputs": [],
   "source": [
    "# Function for polynomial P(x) with flist\n",
    "def P_flist(flist,n,x,xlist):\n",
    "    poly = [] # List for each term in P(x)\n",
    "    L = lagrange(n,x,xlist) # Get list of all L_{n,k}\n",
    "    for i in range(n+1):\n",
    "        poly.append(flist[i] * L[i]) # Multiply L_{n,k} with f(x_k)\n",
    "    return sum(poly) # Sum them up"
   ]
  },
  {
   "cell_type": "code",
   "execution_count": 168,
   "id": "3ef4e8da-62ed-4964-bd9e-cc52338ad740",
   "metadata": {},
   "outputs": [
    {
     "name": "stdout",
     "output_type": "stream",
     "text": [
      "0.37117098201746407\n"
     ]
    }
   ],
   "source": [
    "print(P_flist([0.0,math.erf(0.2),math.erf(0.4),math.erf(0.6),math.erf(0.8),math.erf(1.0)], 1, 1/3, [0.0,0.2,0.4,0.6,0.8,1.0]))"
   ]
  },
  {
   "cell_type": "code",
   "execution_count": 169,
   "id": "28989415-451a-4913-8b82-c84851efc9aa",
   "metadata": {},
   "outputs": [
    {
     "name": "stdout",
     "output_type": "stream",
     "text": [
      "0.3617194134761927\n"
     ]
    }
   ],
   "source": [
    "print(P_flist([0.0,math.erf(0.2),math.erf(0.4),math.erf(0.6),math.erf(0.8),math.erf(1.0)], 2, 1/3, [0.0,0.2,0.4,0.6,0.8,1.0]))"
   ]
  },
  {
   "cell_type": "code",
   "execution_count": 170,
   "id": "c252e8c9-9d27-4801-92ab-048324769926",
   "metadata": {},
   "outputs": [
    {
     "data": {
      "text/plain": [
       "0.3626481117660628"
      ]
     },
     "execution_count": 170,
     "metadata": {},
     "output_type": "execute_result"
    }
   ],
   "source": [
    "math.erf(1/3)"
   ]
  },
  {
   "cell_type": "markdown",
   "id": "7ba0b857-8367-4409-82ff-ed8574c50922",
   "metadata": {},
   "source": [
    "#### <span style=\"color:red\">Solution: The real value of erf(1/3) = 0.3626481117660628. We have $P_1(1/3) = 0.37117098201746407$ and $P_2(1/3) = 0.3617194134761927$. This means that quadratic interpolation is more feasible.</span>"
   ]
  },
  {
   "cell_type": "markdown",
   "id": "b6ac8c69-d057-4c2b-9c48-32138398e3c1",
   "metadata": {},
   "source": [
    "## Problem 23 A."
   ]
  },
  {
   "cell_type": "code",
   "execution_count": 171,
   "id": "f9e944b8-f74d-4581-9650-1023d837cfb9",
   "metadata": {},
   "outputs": [],
   "source": [
    "# Helper functions\n",
    "def n_choose_k(n,k):\n",
    "    return math.factorial(n) / ( math.factorial(k) * math.factorial(n-k) )\n",
    "\n",
    "def f(x):\n",
    "    return x\n",
    "\n",
    "# Function for Bernstein polynomial of degree n\n",
    "def bernstein(n, f, x):\n",
    "    s = 0\n",
    "    for k in range(n+1):\n",
    "        s += n_choose_k(n,k) * f(k/n) * x**k*(1-x)**(n-k)\n",
    "    return s"
   ]
  },
  {
   "cell_type": "markdown",
   "id": "7b438bb6-d901-4377-b38d-51f8bf6b6609",
   "metadata": {},
   "source": [
    "(i) $f(x) = x$. \n",
    "\n",
    "\\begin{align*} \n",
    "B_3(x) &= \\binom{3}{0} \\cdot \\frac{0}{3} \\cdot x^0(1-x)^3 + \\binom{3}{1}\\cdot\\frac{1}{3}\\cdot x^1(1-x)^2 + \\binom{3}{2}\\cdot\\frac{2}{3}\\cdot x^2(1-x)^1 + \\binom{3}{3} \\cdot\\frac{3}{3} \\cdot x^3(1-x)^0 \\\\\n",
    "&= 0 + x(1-x)^2 + 2x^2(1-x) + x^3 \\\\\n",
    "&= x^3-2x^2+x + 2x^2 - 2x^3 + x^3 \\\\\n",
    "&= x\n",
    "\\end{align*}\n",
    "\n",
    "(ii) $f(x) = 1$.\n",
    "\n",
    "\\begin{align*} \n",
    "B_3(x) &= \\binom{3}{0} \\cdot x^0(1-x)^3 + \\binom{3}{1}\\cdot x^1(1-x)^2 + \\binom{3}{2}\\cdot x^2(1-x)^1 + \\binom{3}{3} \\cdot x^3(1-x)^0 \\\\\n",
    "&= (1-x)^3 + 3x(1-x)^2 + 3x^2(1-x) + x^3 \\\\\n",
    "&= -x^3+3x^2-3x+1 + 3x^3 - 6x^2 +3x + 3x^2 - 3x^3 + x^3 \\\\\n",
    "&= 1\n",
    "\\end{align*}\n",
    "\n",
    "## Problem 23 B.\n",
    "\n",
    "\\begin{align*}\n",
    "\\binom{n-1}{k-1} &= \\dfrac{(n-1)!}{(k-1)!(n-1+k-1)!} \\\\\n",
    "&= \\dfrac{(n-1)!}{(k-1)!(n-k)!} \\\\\n",
    "\\dfrac{k}{n} \\binom{n}{k} &= \\dfrac{k}{n} \\cdot \\dfrac{n!}{k!(n-k)!} \\\\\n",
    "&= \\dfrac{(n-1)!}{(k-1)!(n-k)!}\n",
    "\\end{align*}\n",
    "\n",
    "Therefore $\\binom{n-1}{k-1} = \\dfrac{k}{n} \\cdot \\binom{n}{k}$.\n",
    "\n",
    "## Problem 23 C.\n",
    "\n",
    "\\begin{align*}\n",
    "B_n(x) &= \\sum_{k=0}^{n}\\binom{n}{k}f(\\dfrac{k}{n})x^k(1-x)^{n-k}\\\\\n",
    "&= \\sum_{k=0}^{n}\\binom{n}{k}\\left(\\dfrac{k}{n}\\right)^2x^k(1-x)^{n-k} \\\\\n",
    "&= \\sum_{k=1}^{n}\\binom{n}{k}\\left(\\dfrac{k}{n}\\right)^2x^k(1-x)^{n-k} \\\\\n",
    "&= \\sum_{k=1}^{n}\\binom{n}{k}\\left(\\dfrac{k}{n}\\right)\\left(\\dfrac{k}{n}\\right)x^k(1-x)^{n-k} \\\\\n",
    "&= \\sum_{k=1}^{n} \\binom{n-1}{k-1} \\left(\\dfrac{k}{n}\\right) x^k (1-x)^{n-k} \\\\\n",
    "&= \\dfrac{n-1}{n} \\sum_{k=1}^{n} \\binom{n-1}{k-1} \\left(\\dfrac{(k-1)+1}{n-1}\\right) x^k (1-x)^{n-k} \\\\\n",
    "&= \\dfrac{n-1}{n} \\left[ \\sum_{k=1}^{n} \\binom{n-1}{k-1} \\left(\\dfrac{k-1}{n-1}\\right) x^k (1-x)^{n-k} + \\sum_{k=1}^{n} \\binom{n-1}{k-1} \\left(\\dfrac{1}{n-1}\\right) x^k (1-x)^{n-k} \\right] \\\\\n",
    "&= \\dfrac{n-1}{n} \\left[ \\sum_{k=2}^{n} \\binom{n-1}{k-1} \\left(\\dfrac{k-1}{n-1}\\right) x^k (1-x)^{n-k} + \\sum_{k=1}^{n} \\binom{n-1}{k-1} \\left(\\dfrac{1}{n-1}\\right) x^k (1-x)^{n-k} \\right] \\\\\n",
    "&= \\dfrac{n-1}{n} \\left[ \\sum_{k=2}^{n} \\binom{n-2}{k-2}  x^k (1-x)^{n-k}\\right] + \\dfrac{1}{n} \\left[\\sum_{k=1}^{n} \\binom{n-1}{k-1} x^k (1-x)^{n-k} \\right] \\\\\n",
    "&= \\dfrac{n-1}{n}x^2 \\left[ \\sum_{k=2}^{n} \\binom{n-2}{k-2}  x^{k-2} (1-x)^{n-k}\\right] + \\dfrac{x}{n} \\left[\\sum_{k=1}^{n} \\binom{n-1}{k-1} x^{k-1} (1-x)^{n-k} \\right] \\\\\n",
    "\\end{align*}\n",
    "Let $i = k-2$ and $j = k-1$.\n",
    "\\begin{align*}\n",
    "B_n(x) &= \\dfrac{n-1}{n}x^2 \\left[ \\sum_{i=0}^{n-2} \\binom{n-2}{i}  x^i (1-x)^{(n-2)-i}\\right] + \\dfrac{x}{n} \\left[\\sum_{j=0}^{n-1} \\binom{n-1}{j} x^j (1-x)^{(n-1)-j} \\right] \\\\\n",
    "&= \\left(\\dfrac{n-1}{n}\\right)x^2 + \\dfrac{1}{n}x.\n",
    "\\end{align*}\n",
    "\n",
    "## Problem 23 D."
   ]
  },
  {
   "cell_type": "code",
   "execution_count": 172,
   "id": "00ba8fb2-29db-49e1-a22b-cbf148f09dd0",
   "metadata": {},
   "outputs": [],
   "source": [
    "def B_n_error(z):\n",
    "    n = 1\n",
    "    while abs( (((n-1)/n)*z**2 + (1/n)*z) - z**2 ) > 0.000001:\n",
    "        n += 1\n",
    "    return n"
   ]
  },
  {
   "cell_type": "markdown",
   "id": "3c9948e8-9f85-4f6a-89e2-c782171892d2",
   "metadata": {},
   "source": [
    "\\begin{align*}\n",
    "|B_n(x) - x^2| &= \\dfrac{n-1}{n}x^2 + \\dfrac{1}{n}x - x^2 \\\\\n",
    "&= \\dfrac{-1}{n}x^2 + \\dfrac{1}{n}x \\\\\n",
    "\\dfrac{d}{dx} \\dfrac{-1}{n}x^2 + \\dfrac{1}{n}x &= -\\dfrac{1}{n}2x \\cdot \\dfrac{1}{n} \\\\\n",
    "\\implies \\dfrac{1}{n} &= \\dfrac{2x}{n} \\\\\n",
    "\\implies x &= \\dfrac{1}{2}.\n",
    "\\end{align*}\n",
    "\n",
    "So at $x=1/2$, we have the maximum value of $B_n(x) - x^2$."
   ]
  },
  {
   "cell_type": "code",
   "execution_count": 173,
   "id": "bcbf40b4-e64e-4980-99c1-bcb944bc8034",
   "metadata": {},
   "outputs": [
    {
     "name": "stdout",
     "output_type": "stream",
     "text": [
      "250000\n"
     ]
    }
   ],
   "source": [
    "print(B_n_error(0.5))"
   ]
  },
  {
   "cell_type": "markdown",
   "id": "54af1e07-50de-4e7f-b51b-e80191126924",
   "metadata": {},
   "source": [
    "#### <span style=\"color:red\">Solution: $n \\geq 250,000$."
   ]
  }
 ],
 "metadata": {
  "kernelspec": {
   "display_name": "Python 3 (ipykernel)",
   "language": "python",
   "name": "python3"
  },
  "language_info": {
   "codemirror_mode": {
    "name": "ipython",
    "version": 3
   },
   "file_extension": ".py",
   "mimetype": "text/x-python",
   "name": "python",
   "nbconvert_exporter": "python",
   "pygments_lexer": "ipython3",
   "version": "3.8.5"
  }
 },
 "nbformat": 4,
 "nbformat_minor": 5
}
