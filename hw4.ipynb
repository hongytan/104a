{
 "cells": [
  {
   "cell_type": "markdown",
   "metadata": {},
   "source": [
    "# Homework \\#4 - Due Nov. 4\n",
    "## Hong Tan"
   ]
  },
  {
   "cell_type": "code",
   "execution_count": 2,
   "metadata": {},
   "outputs": [],
   "source": [
    "import math\n",
    "import numpy as np"
   ]
  },
  {
   "cell_type": "markdown",
   "metadata": {},
   "source": [
    "## Chapter 3.2\n",
    "\n",
    "1. Use Neville’s method to obtain the approximations for Lagrange interpolating polynomials of degrees one, two, and three to approximate each of the following:"
   ]
  },
  {
   "cell_type": "code",
   "execution_count": 3,
   "metadata": {},
   "outputs": [],
   "source": [
    "# Neville function from professor\n",
    "def neville(x, vec_x, vec_f, Q_table = None, i0 = -1, j0 = -1):\n",
    "    n = np.size(vec_x) - 1; # x0, x1, ..., xn.\n",
    "    \n",
    "    if (Q_table == None):\n",
    "        Q_table = np.zeros((n + 1, n + 1));\n",
    "        \n",
    "    for i in np.arange(0, n + 1):\n",
    "        Q_table[i][0] = vec_f[i];\n",
    "\n",
    "    for j in np.arange(1, n + 1):\n",
    "        for i in np.arange(j, n + 1):\n",
    "            # compute Q_{i,j}\n",
    "            Q_table[i][j] = 0.0;\n",
    "            Q_table[i][j] += (x - vec_x[i - j])*Q_table[i][j - 1];\n",
    "            Q_table[i][j] -= (x - vec_x[i])*Q_table[i - 1][j - 1];\n",
    "            Q_table[i][j] /= (vec_x[i] - vec_x[i - j]);\n",
    "\n",
    "    return Q_table[n][n], Q_table; "
   ]
  },
  {
   "cell_type": "markdown",
   "metadata": {},
   "source": [
    "#### 1.a. $f (8.4)$ if $f (8.1) = 16.94410, f (8.3) = 17.56492, f (8.6) = 18.50515, f (8.7) = 18.82091$."
   ]
  },
  {
   "cell_type": "code",
   "execution_count": 4,
   "metadata": {},
   "outputs": [
    {
     "data": {
      "text/plain": [
       "(17.8721425,\n",
       " array([[16.9941   ,  0.       ,  0.       ,  0.       ],\n",
       "        [17.56492  , 17.85033  ,  0.       ,  0.       ],\n",
       "        [18.50515  , 17.87833  , 17.86713  ,  0.       ],\n",
       "        [18.82091  , 17.87363  , 17.877155 , 17.8721425]]))"
      ]
     },
     "execution_count": 4,
     "metadata": {},
     "output_type": "execute_result"
    }
   ],
   "source": [
    "neville(8.4,[8.1,8.3,8.6,8.7],[16.99410,17.56492,18.50515,18.82091])"
   ]
  },
  {
   "cell_type": "markdown",
   "metadata": {},
   "source": [
    "Solution: $P_1(8.4) = 17.85033, P_2(8.4)=17.86713, P_3(8.4)=17.8721425$.\n",
    "\n",
    "#### 1.b. $f(-\\frac{1}{3})$ if $f (-0.75) = -0.07181250, f (0.5) = 0.02475000, f (0.25) = 0.33493750,\n",
    "f (0) = 1.10100000$."
   ]
  },
  {
   "cell_type": "code",
   "execution_count": 5,
   "metadata": {},
   "outputs": [
    {
     "data": {
      "text/plain": [
       "(1.7588703703703699,\n",
       " array([[-0.0718125 ,  0.        ,  0.        ,  0.        ],\n",
       "        [ 0.02475   , -0.039625  ,  0.        ,  0.        ],\n",
       "        [ 0.3349375 ,  1.05870833,  0.41801389,  0.        ],\n",
       "        [ 1.101     ,  2.12241667,  2.83155556,  1.75887037]]))"
      ]
     },
     "execution_count": 5,
     "metadata": {},
     "output_type": "execute_result"
    }
   ],
   "source": [
    "neville(-1/3, [-0.75,0.5,0.25,0], [-0.07181250,0.02475000,0.33493750,1.10100000])"
   ]
  },
  {
   "cell_type": "markdown",
   "metadata": {},
   "source": [
    "Solution: $P_1(-\\frac{1}{3}) = -0.039625, P_2(-\\frac{1}{3})=0.41801389, P_3(-\\frac{1}{3})=1.75887037$.\n",
    "\n",
    "#### 3. Use Neville’s method to approximate $\\sqrt{3}$ with the following functions and values.\n",
    "#### (a) $f (x) = 3^x$ and the values $x_0 = -2, x_1 = -1, x_2 = 0, x_3 = 1,$ and $x_4 = 2$."
   ]
  },
  {
   "cell_type": "code",
   "execution_count": 6,
   "metadata": {},
   "outputs": [
    {
     "data": {
      "text/plain": [
       "(6.78024599976228,\n",
       " array([[0.11111111, 0.        , 0.        , 0.        , 0.        ],\n",
       "        [0.33333333, 0.94045574, 0.        , 0.        , 0.        ],\n",
       "        [1.        , 2.15470054, 3.20626738, 0.        , 0.        ],\n",
       "        [3.        , 4.46410162, 5.30940108, 5.82260132, 0.        ],\n",
       "        [9.        , 7.39230485, 7.        , 6.84900179, 6.780246  ]]))"
      ]
     },
     "execution_count": 6,
     "metadata": {},
     "output_type": "execute_result"
    }
   ],
   "source": [
    "def f(x):\n",
    "    return 3**x\n",
    "\n",
    "neville(math.sqrt(3),[-2,-1,0,1,2],[f(-2),f(-1),f(0),f(1),f(2)])"
   ]
  },
  {
   "cell_type": "markdown",
   "metadata": {},
   "source": [
    "Solution: $P_4(\\sqrt{3}) = 6.78024599976228$.\n",
    "\n",
    "#### (b) $f(x) = \\sqrt{x}$ and the values $x_0 = 0, x_1 = 1, x_2 = 2, x_3 = 4$, and $x_4 = 5$."
   ]
  },
  {
   "cell_type": "code",
   "execution_count": 16,
   "metadata": {},
   "outputs": [
    {
     "data": {
      "text/plain": [
       "(1.3303367684185772,\n",
       " array([[0.        , 0.        , 0.        , 0.        , 0.        ],\n",
       "        [1.        , 1.73205081, 0.        , 0.        , 0.        ],\n",
       "        [1.41421356, 1.30322537, 1.36067709, 0.        , 0.        ],\n",
       "        [2.        , 1.33573306, 1.3111578 , 1.33923461, 0.        ],\n",
       "        [2.23606798, 1.46460982, 1.32422225, 1.31354876, 1.33033677]]))"
      ]
     },
     "execution_count": 16,
     "metadata": {},
     "output_type": "execute_result"
    }
   ],
   "source": [
    "def g(x):\n",
    "    return math.sqrt(x)\n",
    "\n",
    "neville(math.sqrt(3),[0,1,2,4,5],[g(0),g(1),g(2),g(4),g(5)])"
   ]
  },
  {
   "cell_type": "markdown",
   "metadata": {},
   "source": [
    "Solution: $P_4(\\sqrt{3}) = 1.3303367684185772$.\n",
    "\n",
    "#### (c) Compare the accuracy of the approximation in parts (a) and (b)."
   ]
  },
  {
   "cell_type": "code",
   "execution_count": 8,
   "metadata": {},
   "outputs": [
    {
     "name": "stdout",
     "output_type": "stream",
     "text": [
      "0.0752541459364009 0.014262755466084798\n"
     ]
    }
   ],
   "source": [
    "a = abs(3**math.sqrt(3) - 6.78024599976228)\n",
    "b = abs(math.sqrt(math.sqrt(3)) - 1.3303367684185772)\n",
    "print(a,b)"
   ]
  },
  {
   "cell_type": "markdown",
   "metadata": {},
   "source": [
    "We see that the accuracy is better for (b).\n",
    "\n",
    "#### 6. Neville’s method is used to approximate $f (0.5)$, giving the following table. Determine $P_2 = f(0.7)$.\n",
    "\n",
    "\\begin{align*}\n",
    "P_{0,1,2} = \\dfrac{27}{7} &= \\dfrac{(x-x_0)P_{1,2} - (x-x_2)P_{0,1}}{x_2-x_0} \\\\\n",
    "&= \\dfrac{(0.5-0)P_{1,2} - (0.5-0.75)3.5}{0.7} \\\\\n",
    "2.7 &= 0.5P_{1,2} + (0.2)3.5 \\\\\n",
    "2 &= 0.5P_{1,2} \\\\\n",
    "4 &= P_{1,2} \\\\\n",
    "&= \\dfrac{(x-x_1)P_{2} - (x-x_2)P_{1}}{x_2-x_1} \\\\\n",
    "&= \\dfrac{0.5-0.4(P_2) - (0.5-0.7)2.8}{0.7-0.4} \\\\\n",
    "1.2 &= 0.1P_2 + 0.56 \\\\\n",
    "0.64 &= 0.1P_2 \\\\\n",
    "P_2 &= 6.4.\n",
    "\\end{align*}\n",
    "\n",
    "#### 12. Use iterated inverse interpolation to find an approximation to the solution of $x - e^{-x} = 0$, using the data."
   ]
  },
  {
   "cell_type": "code",
   "execution_count": 9,
   "metadata": {},
   "outputs": [
    {
     "data": {
      "text/plain": [
       "(2.288172726124393,\n",
       " array([[0.3       , 0.        , 0.        , 0.        ],\n",
       "        [0.4       , 1.35083548, 0.        , 0.        ],\n",
       "        [0.5       , 1.45083949, 1.90252526, 0.        ],\n",
       "        [0.6       , 1.55083421, 2.00247778, 2.28817273]]))"
      ]
     },
     "execution_count": 9,
     "metadata": {},
     "output_type": "execute_result"
    }
   ],
   "source": [
    "neville(0,[0.740818,0.670320,0.606531,0.548812],[0.3,0.4,0.5,0.6])"
   ]
  },
  {
   "cell_type": "markdown",
   "metadata": {},
   "source": [
    "One solution would be $x = 2.288172726124393$.\n",
    "\n",
    "## Section 3.3\n",
    "\n",
    "#### 1. Use Eq. (3.10) or Algorithm 3.2 to construct interpolating polynomials of degree one, two, and three for the following data. Approximate the specified value using each of the polynomials."
   ]
  },
  {
   "cell_type": "code",
   "execution_count": 167,
   "metadata": {},
   "outputs": [],
   "source": [
    "# Newton's Divided Difference coefficients (Algorithm 3.2)\n",
    "def div_diff_coeff(vec_x, vec_f, F_table = None):\n",
    "    n = np.size(vec_x) - 1; # x0, x1, ..., xn.\n",
    "    \n",
    "    if (F_table == None):\n",
    "        F_table = np.zeros((n + 1, n + 1))\n",
    "        \n",
    "    for i in np.arange(0, n + 1):\n",
    "        F_table[i][0] = vec_f[i]\n",
    "\n",
    "    for j in np.arange(1, n + 1):\n",
    "        for i in np.arange(j, n + 1):\n",
    "            # compute Q_{i,j}\n",
    "            F_table[i][j] = 0.0\n",
    "            F_table[i][j] += F_table[i][j-1]\n",
    "            F_table[i][j] -= F_table[i - 1][j - 1]\n",
    "            F_table[i][j] /= (vec_x[i] - vec_x[i - j])\n",
    "\n",
    "    return F_table\n",
    "\n",
    "# Divided Difference Polynomial \n",
    "def div_diff_poly(x,xlist,F_table, order):\n",
    "    total = F_table[0][0]\n",
    "    xprod = 1\n",
    "    for i in range(order):\n",
    "        for j in range(i+1):\n",
    "            xprod *= (x - xlist[j])\n",
    "        total += F_table[i+1][i+1]*xprod\n",
    "    return total"
   ]
  },
  {
   "cell_type": "markdown",
   "metadata": {},
   "source": [
    "#### (a) $f (8.4)$ if $f (8.1) = 16.94410, f (8.3) = 17.56492, f (8.6) = 18.50515, f (8.7) = 18.82091$."
   ]
  },
  {
   "cell_type": "code",
   "execution_count": 168,
   "metadata": {},
   "outputs": [
    {
     "name": "stdout",
     "output_type": "stream",
     "text": [
      "Degree 1: 17.875329999999998\n",
      "Degree 2: 17.87587\n",
      "Degree 3: 17.8758701125\n"
     ]
    }
   ],
   "source": [
    "F_table = div_diff_coeff([8.1,8.3,8.6,8.7],[16.94410,17.56492,18.50515,18.82091])\n",
    "print(\"Degree 1:\", div_diff_poly(8.4,[8.1,8.3,8.6,8.7], F_table,1))\n",
    "print(\"Degree 2:\", div_diff_poly(8.4,[8.1,8.3,8.6,8.7], F_table,2))\n",
    "print(\"Degree 3:\", div_diff_poly(8.4,[8.1,8.3,8.6,8.7], F_table,3))"
   ]
  },
  {
   "cell_type": "markdown",
   "metadata": {},
   "source": [
    "#### (b) $f (0.9)$ if $f (0.6) = −0.17694460, f (0.7) = 0.01375227, f (0.8) = 0.22363362, f (1.0) = 0.65809197$."
   ]
  },
  {
   "cell_type": "code",
   "execution_count": 169,
   "metadata": {},
   "outputs": [
    {
     "name": "stdout",
     "output_type": "stream",
     "text": [
      "Degree 1: 0.39514601000000027\n",
      "Degree 2: 0.41241204200000003\n",
      "Degree 3: 0.412219181945\n"
     ]
    }
   ],
   "source": [
    "F_table = div_diff_coeff([0.6,0.7,0.8,1.0],[-0.17694460,0.01375227,0.22363362,0.65809197])\n",
    "print(\"Degree 1:\", div_diff_poly(0.9,[0.6,0.7,0.8,1.0], F_table,1))\n",
    "print(\"Degree 2:\", div_diff_poly(0.9,[0.6,0.7,0.8,1.0], F_table,2))\n",
    "print(\"Degree 3:\", div_diff_poly(0.9,[0.6,0.7,0.8,1.0], F_table,3))"
   ]
  },
  {
   "cell_type": "markdown",
   "metadata": {},
   "source": [
    "#### 3. Use Newton the forward-difference formula to construct interpolating polynomials of degree one, two, and three for the following data. Approximate the specified value using each of the polynomials."
   ]
  },
  {
   "cell_type": "code",
   "execution_count": 161,
   "metadata": {},
   "outputs": [],
   "source": [
    "# Newton's Forward Difference\n",
    "def for_diff(vec_x, vec_f, F_table = None):\n",
    "    n = np.size(vec_x) - 1; # x0, x1, ..., xn.\n",
    "    \n",
    "    if (F_table == None):\n",
    "        F_table = np.zeros((n + 1, n + 1))\n",
    "        \n",
    "    for i in np.arange(0, n + 1):\n",
    "        F_table[i][0] = vec_f[i]\n",
    "\n",
    "    for j in np.arange(1, n + 1):\n",
    "        for i in np.arange(j, n + 1):\n",
    "            # compute forward difference\n",
    "            F_table[i][j] = F_table[i][j-1] - F_table[i-1][j-1]\n",
    "\n",
    "    return F_table\n",
    "\n",
    "# Helper function for getting s\n",
    "def s_cal(s, n):\n",
    "    temp = s;\n",
    "    for i in range(1, n):\n",
    "        temp = temp * (s - i);\n",
    "    return temp;\n",
    "\n",
    "# Forward Difference Polynomial\n",
    "def for_diff_poly(x,xlist,F_table,sf,f0,degree):\n",
    "    su = f0\n",
    "    s = (x - xlist[0]) / (xlist[1] - xlist[0]);\n",
    "    for k in range(1, degree+1):\n",
    "        su = su + (s_cal(s, k) * F_table[k][k]) / math.factorial(k);\n",
    "    return round(su,7)"
   ]
  },
  {
   "cell_type": "markdown",
   "metadata": {},
   "source": [
    "#### (a) $f (-\\frac{1}{3}) $ if $f (-0.75) = -0.07181250, f (-0.5) = -0.02475000, f (-0.25) = 0.33493750,f (0) = 1.10100000$."
   ]
  },
  {
   "cell_type": "code",
   "execution_count": 162,
   "metadata": {},
   "outputs": [
    {
     "name": "stdout",
     "output_type": "stream",
     "text": [
      "Degree 1: 0.006625\n",
      "Degree 2: 0.1803056\n",
      "Degree 3: 0.1745185\n"
     ]
    }
   ],
   "source": [
    "F_table = for_diff([-0.75,-0.5,-0.25,0], [-0.0718125,-0.02475,0.3349375,1.101])\n",
    "print(\"Degree 1:\", for_diff_poly(-1/3,[-0.75,-0.5,-0.25,0],F_table,sf,-0.07181250,1))\n",
    "print(\"Degree 2:\", for_diff_poly(-1/3,[-0.75,-0.5,-0.25,0],F_table,sf,-0.07181250,2))\n",
    "print(\"Degree 3:\", for_diff_poly(-1/3,[-0.75,-0.5,-0.25,0],F_table,sf,-0.07181250,3))"
   ]
  },
  {
   "cell_type": "markdown",
   "metadata": {},
   "source": [
    "#### (b) $f (0.25)$ if $f (0.1) = −0.62049958, f (0.2) = −0.28398668, f (0.3) = 0.00660095, f (0.4) = 0.24842440$."
   ]
  },
  {
   "cell_type": "code",
   "execution_count": 163,
   "metadata": {},
   "outputs": [
    {
     "name": "stdout",
     "output_type": "stream",
     "text": [
      "Degree 1: -0.1157302\n",
      "Degree 2: -0.1329522\n",
      "Degree 3: -0.1327748\n"
     ]
    }
   ],
   "source": [
    "F_table = for_diff([0.1,0.2,0.3,0.4], [-0.62049958,-0.28398668,0.00660095,0.2484244])\n",
    "print(\"Degree 1:\", for_diff_poly(0.25,[0.1,0.2,0.3,0.4],F_table,sf,-0.62049958,1))\n",
    "print(\"Degree 2:\", for_diff_poly(0.25,[0.1,0.2,0.3,0.4],F_table,sf,-0.62049958,2))\n",
    "print(\"Degree 3:\", for_diff_poly(0.25,[0.1,0.2,0.3,0.4],F_table,sf,-0.62049958,3))"
   ]
  },
  {
   "cell_type": "markdown",
   "metadata": {},
   "source": [
    "#### 4. Use the Newton forward-difference formula to construct interpolating polynomials of degree one, two, and three for the following data. Approximate the specified value using each of the polynomials.\n",
    "\n",
    "#### (a) $f (0.43)$ if $f (0) = 1, f (0.25) = 1.64872, f (0.5) = 2.71828, f (0.75) = 4.48169$."
   ]
  },
  {
   "cell_type": "code",
   "execution_count": 166,
   "metadata": {},
   "outputs": [
    {
     "name": "stdout",
     "output_type": "stream",
     "text": [
      "Degree 1: 2.1157984\n",
      "Degree 2: 2.3763825\n",
      "Degree 3: 2.3606047\n"
     ]
    }
   ],
   "source": [
    "F_table = for_diff([0,0.25,0.5,0.75], [1.0,1.64872,2.71828,4.48169])\n",
    "print(\"Degree 1:\", for_diff_poly(0.43,[0,0.25,0.5,0.75],F_table,sf,1.0,1))\n",
    "print(\"Degree 2:\", for_diff_poly(0.43,[0,0.25,0.5,0.75],F_table,sf,1.0,2))\n",
    "print(\"Degree 3:\", for_diff_poly(0.43,[0,0.25,0.5,0.75],F_table,sf,1.0,3))"
   ]
  },
  {
   "cell_type": "markdown",
   "metadata": {},
   "source": [
    "#### (b) $f (0.18)$ if $f (0.1) = −0.29004986, f (0.2) = −0.56079734, f (0.3) = −0.81401972, f (0.4) = −1.0526302$."
   ]
  },
  {
   "cell_type": "code",
   "execution_count": 165,
   "metadata": {},
   "outputs": [
    {
     "name": "stdout",
     "output_type": "stream",
     "text": [
      "Degree 1: 0.783402\n",
      "Degree 2: 0.782\n",
      "Degree 3: 0.7819068\n"
     ]
    }
   ],
   "source": [
    "F_table = for_diff([0.1,0.2,0.3,0.4], [-0.29004986,-0.56079734,-0.81401972,-1.0526302])\n",
    "print(\"Degree 1:\", for_diff_poly(0.18,[0.1,0.2,0.3,0.4],F_table,sf,1.0,1))\n",
    "print(\"Degree 2:\", for_diff_poly(0.18,[0.1,0.2,0.3,0.4],F_table,sf,1.0,2))\n",
    "print(\"Degree 3:\", for_diff_poly(0.18,[0.1,0.2,0.3,0.4],F_table,sf,1.0,3))"
   ]
  },
  {
   "cell_type": "markdown",
   "metadata": {},
   "source": [
    "#### 7a. Use Algorithm 3.2 to construct the interpolating polynomial of degree three for the unequally spaced points given in the following table. $$ f(-0.1) = 5.3, f(0.0)=2.0,f(0.1)=3.19,f(0.2)=1.0 $$\n",
    " \n",
    "Solution: $P_3(x) = 5.3 − 33(x + 0.1) + 129.83333(x + 0.1)x − 556.6667(x + 0.1)x(x − 0.2)$\n",
    "\n",
    "#### 7b. Add $f (0.35) = 0.97260$ to the table, and construct the interpolating polynomial of degree four.\n",
    "\n",
    "Solution: $P_4(x) = P_3(x) + 2730.243387(x + 0.1)x(x − 0.2)(x − 0.3)$."
   ]
  },
  {
   "cell_type": "code",
   "execution_count": 179,
   "metadata": {},
   "outputs": [
    {
     "data": {
      "text/plain": [
       "-1311.666666666666"
      ]
     },
     "execution_count": 179,
     "metadata": {},
     "output_type": "execute_result"
    }
   ],
   "source": [
    "div_diff_coeff([-0.1,0.0,0.1,0.2],[5.3,2.0,3.19,1.0])[3][3]"
   ]
  },
  {
   "cell_type": "code",
   "execution_count": null,
   "metadata": {},
   "outputs": [],
   "source": []
  }
 ],
 "metadata": {
  "kernelspec": {
   "display_name": "Python 3",
   "language": "python",
   "name": "python3"
  },
  "language_info": {
   "codemirror_mode": {
    "name": "ipython",
    "version": 3
   },
   "file_extension": ".py",
   "mimetype": "text/x-python",
   "name": "python",
   "nbconvert_exporter": "python",
   "pygments_lexer": "ipython3",
   "version": "3.8.5"
  }
 },
 "nbformat": 4,
 "nbformat_minor": 5
}
