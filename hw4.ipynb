{
 "cells": [
  {
   "cell_type": "markdown",
   "id": "7c31d673-fa70-4306-b353-9b936c5f70e8",
   "metadata": {},
   "source": [
    "# Homework \\#4 - Due Nov. 4\n",
    "## Hong Tan"
   ]
  },
  {
   "cell_type": "code",
   "execution_count": 31,
   "id": "7d8b77c1-6ff5-480b-a299-8fe6140a6a7e",
   "metadata": {},
   "outputs": [],
   "source": [
    "import math\n",
    "import numpy as np"
   ]
  },
  {
   "cell_type": "markdown",
   "id": "2918208e-9885-4beb-8938-02e7ad11f9f9",
   "metadata": {},
   "source": [
    "## Chapter 3.2\n",
    "\n",
    "1. Use Neville’s method to obtain the approximations for Lagrange interpolating polynomials of degrees one, two, and three to approximate each of the following:"
   ]
  },
  {
   "cell_type": "code",
   "execution_count": 32,
   "id": "ba6feda8-04d2-4581-82d6-f296f2d3d5d8",
   "metadata": {},
   "outputs": [],
   "source": [
    "# Neville function from professor\n",
    "def neville(x, vec_x, vec_f, Q_table = None, i0 = -1, j0 = -1):\n",
    "    n = np.size(vec_x) - 1; # x0, x1, ..., xn.\n",
    "    \n",
    "    if (Q_table == None):\n",
    "        Q_table = np.zeros((n + 1, n + 1));\n",
    "        \n",
    "    for i in np.arange(0, n + 1):\n",
    "        Q_table[i][0] = vec_f[i];\n",
    "\n",
    "    for j in np.arange(1, n + 1):\n",
    "        for i in np.arange(j, n + 1):\n",
    "            # compute Q_{i,j}\n",
    "            Q_table[i][j] = 0.0;\n",
    "            Q_table[i][j] += (x - vec_x[i - j])*Q_table[i][j - 1];\n",
    "            Q_table[i][j] -= (x - vec_x[i])*Q_table[i - 1][j - 1];\n",
    "            Q_table[i][j] /= (vec_x[i] - vec_x[i - j]);\n",
    "\n",
    "    return Q_table[n][n], Q_table; "
   ]
  },
  {
   "cell_type": "markdown",
   "id": "193bebc6-8d34-408e-9252-2503d7dae96c",
   "metadata": {},
   "source": [
    "#### 1.a. $f (8.4)$ if $f (8.1) = 16.94410, f (8.3) = 17.56492, f (8.6) = 18.50515, f (8.7) = 18.82091$."
   ]
  },
  {
   "cell_type": "code",
   "execution_count": 33,
   "id": "07266754-2b81-48d2-a7db-49092e3b7f14",
   "metadata": {},
   "outputs": [
    {
     "data": {
      "text/plain": [
       "(17.8721425,\n",
       " array([[16.9941   ,  0.       ,  0.       ,  0.       ],\n",
       "        [17.56492  , 17.85033  ,  0.       ,  0.       ],\n",
       "        [18.50515  , 17.87833  , 17.86713  ,  0.       ],\n",
       "        [18.82091  , 17.87363  , 17.877155 , 17.8721425]]))"
      ]
     },
     "execution_count": 33,
     "metadata": {},
     "output_type": "execute_result"
    }
   ],
   "source": [
    "neville(8.4,[8.1,8.3,8.6,8.7],[16.99410,17.56492,18.50515,18.82091])"
   ]
  },
  {
   "cell_type": "markdown",
   "id": "31ae2a33-5ac8-4005-b22d-e204621ea491",
   "metadata": {},
   "source": [
    "Solution: $P_1(8.4) = 17.85033, P_2(8.4)=17.86713, P_3(8.4)=17.8721425$.\n",
    "\n",
    "#### 1.b. $f(-\\frac{1}{3})$ if $f (-0.75) = -0.07181250, f (0.5) = 0.02475000, f (0.25) = 0.33493750,\n",
    "f (0) = 1.10100000$."
   ]
  },
  {
   "cell_type": "code",
   "execution_count": 34,
   "id": "aa83d0c8-3cfc-47e6-9b26-2f8623b7cb75",
   "metadata": {},
   "outputs": [
    {
     "data": {
      "text/plain": [
       "(1.7588703703703699,\n",
       " array([[-0.0718125 ,  0.        ,  0.        ,  0.        ],\n",
       "        [ 0.02475   , -0.039625  ,  0.        ,  0.        ],\n",
       "        [ 0.3349375 ,  1.05870833,  0.41801389,  0.        ],\n",
       "        [ 1.101     ,  2.12241667,  2.83155556,  1.75887037]]))"
      ]
     },
     "execution_count": 34,
     "metadata": {},
     "output_type": "execute_result"
    }
   ],
   "source": [
    "neville(-1/3, [-0.75,0.5,0.25,0], [-0.07181250,0.02475000,0.33493750,1.10100000])"
   ]
  },
  {
   "cell_type": "markdown",
   "id": "7f0f0dd0-72a0-4994-853e-0b815db86aa4",
   "metadata": {},
   "source": [
    "Solution: $P_1(-\\frac{1}{3}) = -0.039625, P_2(-\\frac{1}{3})=0.41801389, P_3(-\\frac{1}{3})=1.75887037$.\n",
    "\n",
    "#### 3. Use Neville’s method to approximate $\\sqrt{3}$ with the following functions and values.\n",
    "#### (a) $f (x) = 3^x$ and the values $x_0 = -2, x_1 = -1, x_2 = 0, x_3 = 1,$ and $x_4 = 2$."
   ]
  },
  {
   "cell_type": "code",
   "execution_count": 39,
   "id": "ca577a75-1157-49b1-9051-778fa809db1d",
   "metadata": {},
   "outputs": [
    {
     "data": {
      "text/plain": [
       "(6.78024599976228,\n",
       " array([[0.11111111, 0.        , 0.        , 0.        , 0.        ],\n",
       "        [0.33333333, 0.94045574, 0.        , 0.        , 0.        ],\n",
       "        [1.        , 2.15470054, 3.20626738, 0.        , 0.        ],\n",
       "        [3.        , 4.46410162, 5.30940108, 5.82260132, 0.        ],\n",
       "        [9.        , 7.39230485, 7.        , 6.84900179, 6.780246  ]]))"
      ]
     },
     "execution_count": 39,
     "metadata": {},
     "output_type": "execute_result"
    }
   ],
   "source": [
    "def f(x):\n",
    "    return 3**x\n",
    "\n",
    "neville(math.sqrt(3),[-2,-1,0,1,2],[f(-2),f(-1),f(0),f(1),f(2)])"
   ]
  },
  {
   "cell_type": "markdown",
   "id": "fc6a265f-c25e-41f6-a100-68263ec30bd4",
   "metadata": {},
   "source": [
    "Solution: $P_4(\\sqrt{3}) = 6.78024599976228$.\n",
    "\n",
    "#### (b) $f(x) = \\sqrt{x}$ and the values $x_0 = 0, x_1 = 1, x_2 = 2, x_3 = 4$, and $x_4 = 5$."
   ]
  },
  {
   "cell_type": "code",
   "execution_count": 40,
   "id": "a5bb326f-4417-4df7-a81d-e68ba64bd206",
   "metadata": {},
   "outputs": [
    {
     "data": {
      "text/plain": [
       "(1.3303367684185772,\n",
       " array([[0.        , 0.        , 0.        , 0.        , 0.        ],\n",
       "        [1.        , 1.73205081, 0.        , 0.        , 0.        ],\n",
       "        [1.41421356, 1.30322537, 1.36067709, 0.        , 0.        ],\n",
       "        [2.        , 1.33573306, 1.3111578 , 1.33923461, 0.        ],\n",
       "        [2.23606798, 1.46460982, 1.32422225, 1.31354876, 1.33033677]]))"
      ]
     },
     "execution_count": 40,
     "metadata": {},
     "output_type": "execute_result"
    }
   ],
   "source": [
    "def g(x):\n",
    "    return math.sqrt(x)\n",
    "\n",
    "neville(math.sqrt(3),[0,1,2,4,5],[g(0),g(1),g(2),g(4),g(5)])"
   ]
  },
  {
   "cell_type": "markdown",
   "id": "7b43dcde-4bc7-45b3-984d-764c8d60a63e",
   "metadata": {},
   "source": [
    "Solution: $P_4(\\sqrt{3}) = 1.3303367684185772$.\n",
    "\n",
    "#### (c) Compare the accuracy of the approximation in parts (a) and (b)."
   ]
  },
  {
   "cell_type": "code",
   "execution_count": 41,
   "id": "c46fdaeb-a16f-43f5-b45c-f051f647983e",
   "metadata": {},
   "outputs": [
    {
     "name": "stdout",
     "output_type": "stream",
     "text": [
      "0.0752541459364009 0.014262755466084798\n"
     ]
    }
   ],
   "source": [
    "a = abs(3**math.sqrt(3) - 6.78024599976228)\n",
    "b = abs(math.sqrt(math.sqrt(3)) - 1.3303367684185772)\n",
    "print(a,b)"
   ]
  },
  {
   "cell_type": "markdown",
   "id": "41b4b099-df05-4cec-a74b-8dae06599be3",
   "metadata": {},
   "source": [
    "We see that the accuracy is better for (b).\n",
    "\n",
    "#### 6. Neville’s method is used to approximate $f (0.5)$, giving the following table. Determine $P_2 = f(0.7)$.\n",
    "\n",
    "\\begin{align*}\n",
    "P_{0,1,2} = \\dfrac{27}{7} &= \\dfrac{(x-x_0)P_{1,2} - (x-x_2)P_{0,1}}{x_2-x_0} \\\\\n",
    "&= \\dfrac{(0.5-0)P_{1,2} - (0.5-0.75)3.5}{0.7} \\\\\n",
    "2.7 &= 0.5P_{1,2} + (0.2)3.5 \\\\\n",
    "2 &= 0.5P_{1,2} \\\\\n",
    "4 &= P_{1,2} \\\\\n",
    "&= \\dfrac{(x-x_1)P_{2} - (x-x_2)P_{1}}{x_2-x_1} \\\\\n",
    "&= \\dfrac{0.5-0.4(P_2) - (0.5-0.7)2.8}{0.7-0.4} \\\\\n",
    "1.2 &= 0.1P_2 + 0.56 \\\\\n",
    "0.64 &= 0.1P_2 \\\\\n",
    "P_2 &= 6.4.\n",
    "\\end{align*}\n",
    "\n",
    "#### 12. Use iterated inverse interpolation to find an approximation to the solution of $x - e^{-x} = 0$, using the data."
   ]
  },
  {
   "cell_type": "code",
   "execution_count": 42,
   "id": "1d7423a9-41aa-4e6f-a065-b14e27a02803",
   "metadata": {},
   "outputs": [
    {
     "data": {
      "text/plain": [
       "(2.288172726124393,\n",
       " array([[0.3       , 0.        , 0.        , 0.        ],\n",
       "        [0.4       , 1.35083548, 0.        , 0.        ],\n",
       "        [0.5       , 1.45083949, 1.90252526, 0.        ],\n",
       "        [0.6       , 1.55083421, 2.00247778, 2.28817273]]))"
      ]
     },
     "execution_count": 42,
     "metadata": {},
     "output_type": "execute_result"
    }
   ],
   "source": [
    "neville(0,[0.740818,0.670320,0.606531,0.548812],[0.3,0.4,0.5,0.6])"
   ]
  },
  {
   "cell_type": "markdown",
   "id": "f01c1514-58da-4292-973c-2c2719b45eb7",
   "metadata": {},
   "source": [
    "One solution would be $x = 2.288172726124393$.\n",
    "\n",
    "## Section 3.3"
   ]
  },
  {
   "cell_type": "code",
   "execution_count": null,
   "id": "da93d3f4-1dde-41c0-b047-792e665d74c1",
   "metadata": {},
   "outputs": [],
   "source": []
  }
 ],
 "metadata": {
  "kernelspec": {
   "display_name": "Python 3 (ipykernel)",
   "language": "python",
   "name": "python3"
  },
  "language_info": {
   "codemirror_mode": {
    "name": "ipython",
    "version": 3
   },
   "file_extension": ".py",
   "mimetype": "text/x-python",
   "name": "python",
   "nbconvert_exporter": "python",
   "pygments_lexer": "ipython3",
   "version": "3.8.5"
  }
 },
 "nbformat": 4,
 "nbformat_minor": 5
}
