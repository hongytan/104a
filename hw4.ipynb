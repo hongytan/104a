{
 "cells": [
  {
   "cell_type": "markdown",
   "metadata": {},
   "source": [
    "# Homework \\#4 - Hong Tan"
   ]
  },
  {
   "cell_type": "code",
   "execution_count": 1,
   "metadata": {},
   "outputs": [],
   "source": [
    "import math\n",
    "import numpy as np"
   ]
  },
  {
   "cell_type": "markdown",
   "metadata": {},
   "source": [
    "## Chapter 3.2\n",
    "\n",
    "1. Use Neville’s method to obtain the approximations for Lagrange interpolating polynomials of degrees one, two, and three to approximate each of the following:"
   ]
  },
  {
   "cell_type": "code",
   "execution_count": 2,
   "metadata": {},
   "outputs": [],
   "source": [
    "# Neville function from professor\n",
    "def neville(x, vec_x, vec_f, Q_table = None, i0 = -1, j0 = -1):\n",
    "    n = np.size(vec_x) - 1; # x0, x1, ..., xn.\n",
    "    \n",
    "    if (Q_table == None):\n",
    "        Q_table = np.zeros((n + 1, n + 1));\n",
    "        \n",
    "    for i in np.arange(0, n + 1):\n",
    "        Q_table[i][0] = vec_f[i];\n",
    "\n",
    "    for j in np.arange(1, n + 1):\n",
    "        for i in np.arange(j, n + 1):\n",
    "            # compute Q_{i,j}\n",
    "            Q_table[i][j] = 0.0;\n",
    "            Q_table[i][j] += (x - vec_x[i - j])*Q_table[i][j - 1];\n",
    "            Q_table[i][j] -= (x - vec_x[i])*Q_table[i - 1][j - 1];\n",
    "            Q_table[i][j] /= (vec_x[i] - vec_x[i - j]);\n",
    "\n",
    "    return Q_table[n][n], Q_table; "
   ]
  },
  {
   "cell_type": "markdown",
   "metadata": {},
   "source": [
    "#### 1.a. $f (8.4)$ if $f (8.1) = 16.94410, f (8.3) = 17.56492, f (8.6) = 18.50515, f (8.7) = 18.82091$."
   ]
  },
  {
   "cell_type": "code",
   "execution_count": 3,
   "metadata": {},
   "outputs": [
    {
     "data": {
      "text/plain": [
       "(17.8721425,\n",
       " array([[16.9941   ,  0.       ,  0.       ,  0.       ],\n",
       "        [17.56492  , 17.85033  ,  0.       ,  0.       ],\n",
       "        [18.50515  , 17.87833  , 17.86713  ,  0.       ],\n",
       "        [18.82091  , 17.87363  , 17.877155 , 17.8721425]]))"
      ]
     },
     "execution_count": 3,
     "metadata": {},
     "output_type": "execute_result"
    }
   ],
   "source": [
    "neville(8.4,[8.1,8.3,8.6,8.7],[16.99410,17.56492,18.50515,18.82091])"
   ]
  },
  {
   "cell_type": "markdown",
   "metadata": {},
   "source": [
    "Solution: $P_1(8.4) = 17.85033, P_2(8.4)=17.86713, P_3(8.4)=17.8721425$.\n",
    "\n",
    "#### 1.b. $f(-\\frac{1}{3})$ if $f (-0.75) = -0.07181250, f (0.5) = 0.02475000, f (0.25) = 0.33493750,\n",
    "f (0) = 1.10100000$."
   ]
  },
  {
   "cell_type": "code",
   "execution_count": 4,
   "metadata": {},
   "outputs": [
    {
     "data": {
      "text/plain": [
       "(1.7588703703703699,\n",
       " array([[-0.0718125 ,  0.        ,  0.        ,  0.        ],\n",
       "        [ 0.02475   , -0.039625  ,  0.        ,  0.        ],\n",
       "        [ 0.3349375 ,  1.05870833,  0.41801389,  0.        ],\n",
       "        [ 1.101     ,  2.12241667,  2.83155556,  1.75887037]]))"
      ]
     },
     "execution_count": 4,
     "metadata": {},
     "output_type": "execute_result"
    }
   ],
   "source": [
    "neville(-1/3, [-0.75,0.5,0.25,0], [-0.07181250,0.02475000,0.33493750,1.10100000])"
   ]
  },
  {
   "cell_type": "markdown",
   "metadata": {},
   "source": [
    "Solution: $P_1(-\\frac{1}{3}) = -0.039625, P_2(-\\frac{1}{3})=0.41801389, P_3(-\\frac{1}{3})=1.75887037$.\n",
    "\n",
    "#### 3. Use Neville’s method to approximate $\\sqrt{3}$ with the following functions and values.\n",
    "#### (a) $f (x) = 3^x$ and the values $x_0 = -2, x_1 = -1, x_2 = 0, x_3 = 1,$ and $x_4 = 2$."
   ]
  },
  {
   "cell_type": "code",
   "execution_count": 5,
   "metadata": {},
   "outputs": [
    {
     "data": {
      "text/plain": [
       "(6.78024599976228,\n",
       " array([[0.11111111, 0.        , 0.        , 0.        , 0.        ],\n",
       "        [0.33333333, 0.94045574, 0.        , 0.        , 0.        ],\n",
       "        [1.        , 2.15470054, 3.20626738, 0.        , 0.        ],\n",
       "        [3.        , 4.46410162, 5.30940108, 5.82260132, 0.        ],\n",
       "        [9.        , 7.39230485, 7.        , 6.84900179, 6.780246  ]]))"
      ]
     },
     "execution_count": 5,
     "metadata": {},
     "output_type": "execute_result"
    }
   ],
   "source": [
    "def f(x):\n",
    "    return 3**x\n",
    "\n",
    "neville(math.sqrt(3),[-2,-1,0,1,2],[f(-2),f(-1),f(0),f(1),f(2)])"
   ]
  },
  {
   "cell_type": "markdown",
   "metadata": {},
   "source": [
    "Solution: $P_4(\\sqrt{3}) = 6.78024599976228$.\n",
    "\n",
    "#### (b) $f(x) = \\sqrt{x}$ and the values $x_0 = 0, x_1 = 1, x_2 = 2, x_3 = 4$, and $x_4 = 5$."
   ]
  },
  {
   "cell_type": "code",
   "execution_count": 6,
   "metadata": {},
   "outputs": [
    {
     "data": {
      "text/plain": [
       "(1.3303367684185772,\n",
       " array([[0.        , 0.        , 0.        , 0.        , 0.        ],\n",
       "        [1.        , 1.73205081, 0.        , 0.        , 0.        ],\n",
       "        [1.41421356, 1.30322537, 1.36067709, 0.        , 0.        ],\n",
       "        [2.        , 1.33573306, 1.3111578 , 1.33923461, 0.        ],\n",
       "        [2.23606798, 1.46460982, 1.32422225, 1.31354876, 1.33033677]]))"
      ]
     },
     "execution_count": 6,
     "metadata": {},
     "output_type": "execute_result"
    }
   ],
   "source": [
    "def g(x):\n",
    "    return math.sqrt(x)\n",
    "\n",
    "neville(math.sqrt(3),[0,1,2,4,5],[g(0),g(1),g(2),g(4),g(5)])"
   ]
  },
  {
   "cell_type": "markdown",
   "metadata": {},
   "source": [
    "Solution: $P_4(\\sqrt{3}) = 1.3303367684185772$.\n",
    "\n",
    "#### (c) Compare the accuracy of the approximation in parts (a) and (b)."
   ]
  },
  {
   "cell_type": "code",
   "execution_count": 7,
   "metadata": {},
   "outputs": [
    {
     "name": "stdout",
     "output_type": "stream",
     "text": [
      "0.0752541459364009 0.014262755466084798\n"
     ]
    }
   ],
   "source": [
    "a = abs(3**math.sqrt(3) - 6.78024599976228)\n",
    "b = abs(math.sqrt(math.sqrt(3)) - 1.3303367684185772)\n",
    "print(a,b)"
   ]
  },
  {
   "cell_type": "markdown",
   "metadata": {},
   "source": [
    "We see that the accuracy is better for (b).\n",
    "\n",
    "#### 6. Neville’s method is used to approximate $f (0.5)$, giving the following table. Determine $P_2 = f(0.7)$.\n",
    "\n",
    "\\begin{align*}\n",
    "P_{0,1,2} = \\dfrac{27}{7} &= \\dfrac{(x-x_0)P_{1,2} - (x-x_2)P_{0,1}}{x_2-x_0} \\\\\n",
    "&= \\dfrac{(0.5-0)P_{1,2} - (0.5-0.75)3.5}{0.7} \\\\\n",
    "2.7 &= 0.5P_{1,2} + (0.2)3.5 \\\\\n",
    "2 &= 0.5P_{1,2} \\\\\n",
    "4 &= P_{1,2} \\\\\n",
    "&= \\dfrac{(x-x_1)P_{2} - (x-x_2)P_{1}}{x_2-x_1} \\\\\n",
    "&= \\dfrac{0.5-0.4(P_2) - (0.5-0.7)2.8}{0.7-0.4} \\\\\n",
    "1.2 &= 0.1P_2 + 0.56 \\\\\n",
    "0.64 &= 0.1P_2 \\\\\n",
    "P_2 &= 6.4.\n",
    "\\end{align*}\n",
    "\n",
    "#### 12. Use iterated inverse interpolation to find an approximation to the solution of $x - e^{-x} = 0$, using the data."
   ]
  },
  {
   "cell_type": "code",
   "execution_count": 8,
   "metadata": {},
   "outputs": [
    {
     "data": {
      "text/plain": [
       "(2.288172726124393,\n",
       " array([[0.3       , 0.        , 0.        , 0.        ],\n",
       "        [0.4       , 1.35083548, 0.        , 0.        ],\n",
       "        [0.5       , 1.45083949, 1.90252526, 0.        ],\n",
       "        [0.6       , 1.55083421, 2.00247778, 2.28817273]]))"
      ]
     },
     "execution_count": 8,
     "metadata": {},
     "output_type": "execute_result"
    }
   ],
   "source": [
    "neville(0,[0.740818,0.670320,0.606531,0.548812],[0.3,0.4,0.5,0.6])"
   ]
  },
  {
   "cell_type": "markdown",
   "metadata": {},
   "source": [
    "One solution would be $x = 2.288172726124393$.\n",
    "\n",
    "## Chapter 3.3\n",
    "\n",
    "#### 1. Use Eq. (3.10) or Algorithm 3.2 to construct interpolating polynomials of degree one, two, and three for the following data. Approximate the specified value using each of the polynomials."
   ]
  },
  {
   "cell_type": "code",
   "execution_count": 9,
   "metadata": {},
   "outputs": [],
   "source": [
    "# Newton's Divided Difference coefficients (Algorithm 3.2)\n",
    "def div_diff_coeff(vec_x, vec_f, F_table = None):\n",
    "    n = np.size(vec_x) - 1; # x0, x1, ..., xn.\n",
    "    \n",
    "    if (F_table == None):\n",
    "        F_table = np.zeros((n + 1, n + 1))\n",
    "        \n",
    "    for i in np.arange(0, n + 1):\n",
    "        F_table[i][0] = vec_f[i]\n",
    "\n",
    "    for j in np.arange(1, n + 1):\n",
    "        for i in np.arange(j, n + 1):\n",
    "            # compute Q_{i,j}\n",
    "            F_table[i][j] = 0.0\n",
    "            F_table[i][j] += F_table[i][j-1]\n",
    "            F_table[i][j] -= F_table[i - 1][j - 1]\n",
    "            F_table[i][j] /= (vec_x[i] - vec_x[i - j])\n",
    "\n",
    "    return F_table\n",
    "\n",
    "# Divided Difference Polynomial \n",
    "def div_diff_poly(x,xlist,F_table, order):\n",
    "    total = F_table[0][0]\n",
    "    xprod = 1\n",
    "    for i in range(order):\n",
    "        for j in range(i+1):\n",
    "            xprod *= (x - xlist[j])\n",
    "        total += F_table[i+1][i+1]*xprod\n",
    "    return total"
   ]
  },
  {
   "cell_type": "markdown",
   "metadata": {},
   "source": [
    "#### (a) $f (8.4)$ if $f (8.1) = 16.94410, f (8.3) = 17.56492, f (8.6) = 18.50515, f (8.7) = 18.82091$."
   ]
  },
  {
   "cell_type": "code",
   "execution_count": 10,
   "metadata": {},
   "outputs": [
    {
     "name": "stdout",
     "output_type": "stream",
     "text": [
      "Degree 1: 17.875329999999998\n",
      "Degree 2: 17.87587\n",
      "Degree 3: 17.8758701125\n"
     ]
    }
   ],
   "source": [
    "F_table = div_diff_coeff([8.1,8.3,8.6,8.7],[16.94410,17.56492,18.50515,18.82091])\n",
    "print(\"Degree 1:\", div_diff_poly(8.4,[8.1,8.3,8.6,8.7], F_table,1))\n",
    "print(\"Degree 2:\", div_diff_poly(8.4,[8.1,8.3,8.6,8.7], F_table,2))\n",
    "print(\"Degree 3:\", div_diff_poly(8.4,[8.1,8.3,8.6,8.7], F_table,3))"
   ]
  },
  {
   "cell_type": "markdown",
   "metadata": {},
   "source": [
    "#### (b) $f (0.9)$ if $f (0.6) = −0.17694460, f (0.7) = 0.01375227, f (0.8) = 0.22363362, f (1.0) = 0.65809197$."
   ]
  },
  {
   "cell_type": "code",
   "execution_count": 11,
   "metadata": {},
   "outputs": [
    {
     "name": "stdout",
     "output_type": "stream",
     "text": [
      "Degree 1: 0.39514601000000027\n",
      "Degree 2: 0.41241204200000003\n",
      "Degree 3: 0.412219181945\n"
     ]
    }
   ],
   "source": [
    "F_table = div_diff_coeff([0.6,0.7,0.8,1.0],[-0.17694460,0.01375227,0.22363362,0.65809197])\n",
    "print(\"Degree 1:\", div_diff_poly(0.9,[0.6,0.7,0.8,1.0], F_table,1))\n",
    "print(\"Degree 2:\", div_diff_poly(0.9,[0.6,0.7,0.8,1.0], F_table,2))\n",
    "print(\"Degree 3:\", div_diff_poly(0.9,[0.6,0.7,0.8,1.0], F_table,3))"
   ]
  },
  {
   "cell_type": "markdown",
   "metadata": {},
   "source": [
    "#### 3. Use Newton the forward-difference formula to construct interpolating polynomials of degree one, two, and three for the following data. Approximate the specified value using each of the polynomials."
   ]
  },
  {
   "cell_type": "code",
   "execution_count": 12,
   "metadata": {},
   "outputs": [],
   "source": [
    "# Newton's Forward Difference\n",
    "def for_diff(vec_x, vec_f, F_table = None):\n",
    "    n = np.size(vec_x) - 1; # x0, x1, ..., xn.\n",
    "    \n",
    "    if (F_table == None):\n",
    "        F_table = np.zeros((n + 1, n + 1))\n",
    "        \n",
    "    for i in np.arange(0, n + 1):\n",
    "        F_table[i][0] = vec_f[i]\n",
    "\n",
    "    for j in np.arange(1, n + 1):\n",
    "        for i in np.arange(j, n + 1):\n",
    "            # compute difference\n",
    "            F_table[i][j] = F_table[i][j-1] - F_table[i-1][j-1]\n",
    "\n",
    "    return F_table\n",
    "\n",
    "# Helper function for getting s\n",
    "def s_cal(s, n):\n",
    "    temp = s;\n",
    "    for i in range(1, n):\n",
    "        temp = temp * (s - i);\n",
    "    return temp;\n",
    "\n",
    "# Forward Difference Polynomial\n",
    "def for_diff_poly(x,xlist,F_table,s_cal,f0,degree):\n",
    "    su = f0\n",
    "    s = (x - xlist[0]) / (xlist[1] - xlist[0]);\n",
    "    for k in range(1, degree+1):\n",
    "        su = su + (s_cal(s, k) * F_table[k][k]) / math.factorial(k);\n",
    "    return round(su,7)"
   ]
  },
  {
   "cell_type": "markdown",
   "metadata": {},
   "source": [
    "#### (a) $f (-\\frac{1}{3}) $ if $f (-0.75) = -0.07181250, f (-0.5) = -0.02475000, f (-0.25) = 0.33493750,f (0) = 1.10100000$."
   ]
  },
  {
   "cell_type": "code",
   "execution_count": 13,
   "metadata": {},
   "outputs": [
    {
     "name": "stdout",
     "output_type": "stream",
     "text": [
      "Degree 1: 0.006625\n",
      "Degree 2: 0.1803056\n",
      "Degree 3: 0.1745185\n"
     ]
    }
   ],
   "source": [
    "F_table = for_diff([-0.75,-0.5,-0.25,0], [-0.0718125,-0.02475,0.3349375,1.101])\n",
    "print(\"Degree 1:\", for_diff_poly(-1/3,[-0.75,-0.5,-0.25,0],F_table,s_cal,-0.07181250,1))\n",
    "print(\"Degree 2:\", for_diff_poly(-1/3,[-0.75,-0.5,-0.25,0],F_table,s_cal,-0.07181250,2))\n",
    "print(\"Degree 3:\", for_diff_poly(-1/3,[-0.75,-0.5,-0.25,0],F_table,s_cal,-0.07181250,3))"
   ]
  },
  {
   "cell_type": "markdown",
   "metadata": {},
   "source": [
    "#### (b) $f (0.25)$ if $f (0.1) = −0.62049958, f (0.2) = −0.28398668, f (0.3) = 0.00660095, f (0.4) = 0.24842440$."
   ]
  },
  {
   "cell_type": "code",
   "execution_count": 14,
   "metadata": {},
   "outputs": [
    {
     "name": "stdout",
     "output_type": "stream",
     "text": [
      "Degree 1: -0.1157302\n",
      "Degree 2: -0.1329522\n",
      "Degree 3: -0.1327748\n"
     ]
    }
   ],
   "source": [
    "F_table = for_diff([0.1,0.2,0.3,0.4], [-0.62049958,-0.28398668,0.00660095,0.2484244])\n",
    "print(\"Degree 1:\", for_diff_poly(0.25,[0.1,0.2,0.3,0.4],F_table,s_cal,-0.62049958,1))\n",
    "print(\"Degree 2:\", for_diff_poly(0.25,[0.1,0.2,0.3,0.4],F_table,s_cal,-0.62049958,2))\n",
    "print(\"Degree 3:\", for_diff_poly(0.25,[0.1,0.2,0.3,0.4],F_table,s_cal,-0.62049958,3))"
   ]
  },
  {
   "cell_type": "markdown",
   "metadata": {},
   "source": [
    "#### 4. Use the Newton forward-difference formula to construct interpolating polynomials of degree one, two, and three for the following data. Approximate the specified value using each of the polynomials.\n",
    "\n",
    "#### (a) $f (0.43)$ if $f (0) = 1, f (0.25) = 1.64872, f (0.5) = 2.71828, f (0.75) = 4.48169$."
   ]
  },
  {
   "cell_type": "code",
   "execution_count": 15,
   "metadata": {},
   "outputs": [
    {
     "name": "stdout",
     "output_type": "stream",
     "text": [
      "Degree 1: 2.1157984\n",
      "Degree 2: 2.3763825\n",
      "Degree 3: 2.3606047\n"
     ]
    }
   ],
   "source": [
    "F_table = for_diff([0,0.25,0.5,0.75], [1.0,1.64872,2.71828,4.48169])\n",
    "print(\"Degree 1:\", for_diff_poly(0.43,[0,0.25,0.5,0.75],F_table,s_cal,1.0,1))\n",
    "print(\"Degree 2:\", for_diff_poly(0.43,[0,0.25,0.5,0.75],F_table,s_cal,1.0,2))\n",
    "print(\"Degree 3:\", for_diff_poly(0.43,[0,0.25,0.5,0.75],F_table,s_cal,1.0,3))"
   ]
  },
  {
   "cell_type": "markdown",
   "metadata": {},
   "source": [
    "#### (b) $f (0.18)$ if $f (0.1) = −0.29004986, f (0.2) = −0.56079734, f (0.3) = −0.81401972, f (0.4) = −1.0526302$."
   ]
  },
  {
   "cell_type": "code",
   "execution_count": 16,
   "metadata": {},
   "outputs": [
    {
     "name": "stdout",
     "output_type": "stream",
     "text": [
      "Degree 1: -0.5066478\n",
      "Degree 2: -0.5080499\n",
      "Degree 3: -0.5081431\n"
     ]
    }
   ],
   "source": [
    "F_table = for_diff([0.1,0.2,0.3,0.4], [-0.29004986,-0.56079734,-0.81401972,-1.0526302])\n",
    "print(\"Degree 1:\", for_diff_poly(0.18,[0.1,0.2,0.3,0.4],F_table,s_cal,-0.29004986,1))\n",
    "print(\"Degree 2:\", for_diff_poly(0.18,[0.1,0.2,0.3,0.4],F_table,s_cal,-0.29004986,2))\n",
    "print(\"Degree 3:\", for_diff_poly(0.18,[0.1,0.2,0.3,0.4],F_table,s_cal,-0.29004986,3))"
   ]
  },
  {
   "cell_type": "markdown",
   "metadata": {},
   "source": [
    "#### 7a. Use Algorithm 3.2 to construct the interpolating polynomial of degree three for the unequally spaced points given in the following table. $$ f(-0.1) = 5.3, f(0.0)=2.0,f(0.2)=3.19,f(0.3)=1.0 $$"
   ]
  },
  {
   "cell_type": "code",
   "execution_count": 17,
   "metadata": {},
   "outputs": [
    {
     "data": {
      "text/plain": [
       "array([[   5.3       ,    0.        ,    0.        ,    0.        ],\n",
       "       [   2.        ,  -33.        ,    0.        ,    0.        ],\n",
       "       [   3.19      ,    5.95      ,  129.83333333,    0.        ],\n",
       "       [   1.        ,  -21.9       ,  -92.83333333, -556.66666667]])"
      ]
     },
     "execution_count": 17,
     "metadata": {},
     "output_type": "execute_result"
    }
   ],
   "source": [
    "div_diff_coeff([-0.1,0.0,0.2,0.3],[5.3,2.0,3.19,1.0])"
   ]
  },
  {
   "cell_type": "markdown",
   "metadata": {},
   "source": [
    "Solution: $P_3(x) = 5.3 − 33(x + 0.1) + 129.83333(x + 0.1)x − 556.6667(x + 0.1)x(x − 0.2)$\n",
    "\n",
    "#### 7b. Add $f (0.35) = 0.97260$ to the table, and construct the interpolating polynomial of degree four."
   ]
  },
  {
   "cell_type": "code",
   "execution_count": 18,
   "metadata": {},
   "outputs": [
    {
     "data": {
      "text/plain": [
       "array([[ 5.30000000e+00,  0.00000000e+00,  0.00000000e+00,\n",
       "         0.00000000e+00,  0.00000000e+00],\n",
       "       [ 2.00000000e+00, -3.30000000e+01,  0.00000000e+00,\n",
       "         0.00000000e+00,  0.00000000e+00],\n",
       "       [ 3.19000000e+00,  5.95000000e+00,  1.29833333e+02,\n",
       "         0.00000000e+00,  0.00000000e+00],\n",
       "       [ 1.00000000e+00, -2.19000000e+01, -9.28333333e+01,\n",
       "        -5.56666667e+02,  0.00000000e+00],\n",
       "       [ 9.72600000e-01, -5.48000000e-01,  1.42346667e+02,\n",
       "         6.71942857e+02,  2.73024339e+03]])"
      ]
     },
     "execution_count": 18,
     "metadata": {},
     "output_type": "execute_result"
    }
   ],
   "source": [
    "div_diff_coeff([-0.1,0.0,0.2,0.3,0.35],[5.3,2.0,3.19,1.0,0.9726])"
   ]
  },
  {
   "cell_type": "markdown",
   "metadata": {},
   "source": [
    "Solution: $P_4(x) = P_3(x) + 2730.24339(x + 0.1)x(x − 0.2)(x − 0.3)$.\n",
    "\n",
    "#### 10a. Approximate $f (-0.05)$ using the following data and the Newton forward-difference formula: \n",
    "$$ f(-1.2)=0.18232,f(-0.9)=-0.105083,f(-0.6)=-0.51036,f(-0.3)=-1.20397,f(0.0)=-3.12145 $$"
   ]
  },
  {
   "cell_type": "code",
   "execution_count": 19,
   "metadata": {},
   "outputs": [
    {
     "name": "stdout",
     "output_type": "stream",
     "text": [
      "f(-0.05) = -2.6541779\n"
     ]
    }
   ],
   "source": [
    "F_table = for_diff([-1.2,-0.9,-0.6,-0.3,0.0], [0.18232,-0.105083,-0.51036,-1.20397,-3.12145])\n",
    "print(\"f(-0.05) =\", for_diff_poly(-0.05,[-1.2,-0.9,-0.6,-0.3,0.0],F_table,s_cal,0.18232,4))"
   ]
  },
  {
   "cell_type": "markdown",
   "metadata": {},
   "source": [
    "#### 10b. Use the Newton backward-difference formula to approximate $f (-0.2)$."
   ]
  },
  {
   "cell_type": "code",
   "execution_count": 20,
   "metadata": {},
   "outputs": [
    {
     "name": "stdout",
     "output_type": "stream",
     "text": [
      "f(-0.2) = -2.4073958\n"
     ]
    }
   ],
   "source": [
    "# Backward Difference Polynomial\n",
    "def back_diff_poly(x,xlist,F_table,s_cal,fn,degree):\n",
    "    su = fn\n",
    "    s = (x - xlist[len(xlist)-1]) / (xlist[1] - xlist[0]);\n",
    "    for k in range(1, degree+1):\n",
    "        su = su + (s_cal(s, k) * F_table[degree][k]) / math.factorial(k);\n",
    "    return round(su,7)\n",
    "\n",
    "print(\"f(-0.2) =\", back_diff_poly(-0.2,[-1.2,-0.9,-0.6,-0.3,0.0],F_table,s_cal,-3.12145,4))"
   ]
  },
  {
   "cell_type": "markdown",
   "metadata": {},
   "source": [
    "#### 10c. Use Stirling’s formula to approximate $f (0.43)$."
   ]
  },
  {
   "cell_type": "markdown",
   "metadata": {},
   "source": [
    "#### 12. The following data are given for a polynomial P(x) of unknown degree.\n",
    "$$ P(0) = 4, P(1)=9,P(2)=15,P(3)=18 $$\n",
    "#### Determine the coefficient of $x^3$ in $P(x)$ if all fourth-order forward differences are 1."
   ]
  },
  {
   "cell_type": "code",
   "execution_count": 21,
   "metadata": {},
   "outputs": [
    {
     "data": {
      "text/plain": [
       "array([[ 4.,  0.,  0.,  0.],\n",
       "       [ 9.,  5.,  0.,  0.],\n",
       "       [15.,  6.,  1.,  0.],\n",
       "       [18.,  3., -3., -4.]])"
      ]
     },
     "execution_count": 21,
     "metadata": {},
     "output_type": "execute_result"
    }
   ],
   "source": [
    "for_diff([0,1,2,3],[4,9,15,18])"
   ]
  },
  {
   "cell_type": "markdown",
   "metadata": {},
   "source": [
    "$P(x) = \\frac{4}{0!1^0} + \\frac{5}{1!1^1}(x-0) + \\frac{1}{2!1^2}(x-0)(x-1) + \\frac{-4}{3!1^3}(x-0)(x-1)(x-2) + \\frac{1}{4!1^4}(x-0)(x-1)(x-2)(x-3) + 0 + 0 + \\cdots + 0 + \\cdots$.\n",
    "\n",
    "$P(x) = 4 + 5x + \\frac{1}{2}(x)(x-1) + -\\frac{2}{3}(x)(x-1)(x-2) + \\frac{1}{4!}(x)(x-1)(x-2)(x-3)$."
   ]
  },
  {
   "cell_type": "markdown",
   "metadata": {},
   "source": [
    "$P(x) = 4 + 5x + \\frac{1}{2}(x)(x-1) + -\\frac{2}{3}(x^3-3x^2+2x) + \\frac{1}{24}(x^4-6x^3+11x^2-6x)$.\n",
    "\n",
    "We get that $-\\frac{2}{3}x^3 - \\frac{1}{4}x^3 = -\\frac{11}{12}x^3$. So the coefficient of $x^3$ in $P(x)$ is $-\\dfrac{11}{12}$.\n",
    "\n",
    "#### 18. The fastest time ever recorded in the Kentucky Derby was by a horse named Secretariat in 1973. He covered the 1.25 mile track in 1:59.4 (1min and 59.4 seconds). Times at the 0.25 mile, 0.5 mile, and mile poles were 25.2 seconds, 49.2 seconds, and 1:36.4.\n",
    "\n",
    "#### (a) Use interpolation to predict the time at the three-quarter mile pole and compare this to the actual time of 1:13."
   ]
  },
  {
   "cell_type": "code",
   "execution_count": 22,
   "metadata": {},
   "outputs": [
    {
     "name": "stdout",
     "output_type": "stream",
     "text": [
      "Degree 1: 73.2\n",
      "Degree 2: 73.06666666666666\n",
      "Degree 3: 73.06875\n"
     ]
    }
   ],
   "source": [
    "F_table = div_diff_coeff([0.25,0.5,1,1.25],[25.2,49.2,96.4,119.4])\n",
    "print(\"Degree 1:\", div_diff_poly(0.75,[0.25,0.5,1,1.25], F_table,1))\n",
    "print(\"Degree 2:\", div_diff_poly(0.75,[0.25,0.5,1,1.25], F_table,2))\n",
    "print(\"Degree 3:\", div_diff_poly(0.75,[0.25,0.5,1,1.25], F_table,3))"
   ]
  },
  {
   "cell_type": "markdown",
   "metadata": {},
   "source": [
    "We see that $P_2(0.75)$ gives the best time with an absolute error of $|73-73.067|= 0.067$ seconds.\n",
    "\n",
    "#### (b) Use the derivative of the interpolating polynomial to estimate the speed of Secretariat at the end of the race."
   ]
  },
  {
   "cell_type": "code",
   "execution_count": 23,
   "metadata": {},
   "outputs": [
    {
     "data": {
      "text/plain": [
       "array([[ 25.2       ,   0.        ,   0.        ,   0.        ],\n",
       "       [ 49.2       ,  96.        ,   0.        ,   0.        ],\n",
       "       [ 96.4       ,  94.4       ,  -2.13333333,   0.        ],\n",
       "       [119.4       ,  92.        ,  -3.2       ,  -1.06666667]])"
      ]
     },
     "execution_count": 23,
     "metadata": {},
     "output_type": "execute_result"
    }
   ],
   "source": [
    "F_table"
   ]
  },
  {
   "cell_type": "markdown",
   "metadata": {},
   "source": [
    "$P_2(x) = 25.2 + 96(x-0.25)-2.1\\overline{33}(x-0.25)(x-0.5)$.\n",
    "\n",
    "$P_2^{'}(x) = 96 - 2.1\\overline{33}(2x-0.75) = 96 + 1.6 - 4.2\\overline{66}x = 97.6 - 4.2\\overline{66}x$.\n",
    "\n",
    "$P_2^{'}(1.25) = 97.6 - 4.2\\overline{66}(1.25) = 92.2667$ mps."
   ]
  },
  {
   "cell_type": "markdown",
   "metadata": {},
   "source": [
    "## Chapter 3.4\n",
    "\n",
    "#### 1. Use Theorem 3.9 or Algorithm 3.3 to construct an approximating polynomial for the following data."
   ]
  },
  {
   "cell_type": "code",
   "execution_count": 24,
   "metadata": {},
   "outputs": [],
   "source": [
    "# Hermite Interpolation coefficients (Algorithm 3.3)\n",
    "def herm_coeff(x,f,fp):\n",
    "    n = np.size(x); # Size of x list\n",
    "    \n",
    "    Q = np.zeros((2*n, 2*n)) # Contruct dataframe of size 2n x 2n with zeros as entires\n",
    "    \n",
    "    z = [0 for i in range(2*n)] # Construct list of size 2n\n",
    "    \n",
    "    # Algorithm as given by textbook\n",
    "    for i in np.arange(0, n): \n",
    "        \n",
    "        z[2*i] = x[i]\n",
    "        z[2*i+1] = x[i]\n",
    "        Q[2*i][0] = f[i]\n",
    "        Q[2*i+1][0] = f[i]\n",
    "        Q[2*i+1][1] = fp[i]\n",
    "        \n",
    "        if i != 0:\n",
    "            Q[2*i][1] = (Q[2*i][0] - Q[2*i-1][0])/(z[2*i]-z[2*i-1])\n",
    "\n",
    "    for i in np.arange(2, 2*n):\n",
    "        for j in np.arange(2, i+1):\n",
    "\n",
    "            Q[i][j] = (Q[i][j-1] - Q[i-1][j-1]) / (z[i] - z[i-j])\n",
    "\n",
    "    return Q\n",
    "\n",
    "# Hermite Interpolation polynomial\n",
    "def herm_poly(x,xlist,Q):\n",
    "    n = len(xlist) \n",
    "    total = Q[0][0] \n",
    "    xprod = []\n",
    "    for i in range(0,n): \n",
    "        for _ in range(2): \n",
    "            xprod.append(x-xlist[i]) # Append x-x_i into list\n",
    "        \n",
    "    for i in range(1,2*n): \n",
    "        total += Q[i][i]*math.prod(xprod[:i]) # Formula given by Algorithm 3.3\n",
    "    return total"
   ]
  },
  {
   "cell_type": "code",
   "execution_count": 31,
   "metadata": {},
   "outputs": [
    {
     "name": "stdout",
     "output_type": "stream",
     "text": [
      "H_5(1.5) = 0.5118277017283951\n"
     ]
    }
   ],
   "source": [
    "Q = herm_coeff([1.3,1.6,1.9],[0.6200860,0.4554022, 0.2818186], [-0.5220232,-0.5698959,-0.5811571])\n",
    "print(\"H_5(1.5) =\",herm_poly(1.5,[1.3,1.6,1.9],Q))"
   ]
  },
  {
   "cell_type": "markdown",
   "metadata": {},
   "source": [
    "We see that the algorithm above is correct because it provides the same answer as Example 1.\n",
    "\n",
    "#### (a)"
   ]
  },
  {
   "cell_type": "code",
   "execution_count": 39,
   "metadata": {},
   "outputs": [
    {
     "name": "stdout",
     "output_type": "stream",
     "text": [
      "[17.56492  0.       0.       0.     ]\n",
      "[17.56492   3.116256  0.        0.      ]\n",
      "[18.50515  3.1341   0.05948  0.     ]\n",
      "[ 1.85051500e+01  3.15176200e+00  5.88733333e-02 -2.02222222e-03]\n"
     ]
    }
   ],
   "source": [
    "for row in herm_coeff([8.3,8.6],[17.56492,18.50515], [3.116256,3.151762]):\n",
    "    print(row)"
   ]
  },
  {
   "cell_type": "markdown",
   "metadata": {},
   "source": [
    "$H_3(x) = 17.56492 + 3.116256(x-8.3) + 0.5948(x-8.3)^2 - 0.0020\\overline{22}(x-8.3)^2(x-8.6)$.\n",
    "\n",
    "#### (c)"
   ]
  },
  {
   "cell_type": "code",
   "execution_count": 42,
   "metadata": {},
   "outputs": [
    {
     "name": "stdout",
     "output_type": "stream",
     "text": [
      "[-0.02475  0.       0.       0.       0.       0.     ]\n",
      "[-0.02475  0.751    0.       0.       0.       0.     ]\n",
      "[0.3349375 1.43875   2.751     0.        0.        0.       ]\n",
      "[0.3349375 2.189     3.001     1.        0.        0.       ]\n",
      "[ 1.10100000e+00  3.06425000e+00  3.50100000e+00  1.00000000e+00\n",
      " -7.10542736e-15  0.00000000e+00]\n",
      "[1.10100000e+00 4.00200000e+00 3.75100000e+00 1.00000000e+00\n",
      " 3.55271368e-15 2.13162821e-14]\n"
     ]
    }
   ],
   "source": [
    "for row in herm_coeff([-0.5,-0.25,0],[-0.0247500,0.3349375,1.1010000], [0.751,2.189,4.002]):\n",
    "    print(row)"
   ]
  },
  {
   "cell_type": "markdown",
   "metadata": {},
   "source": [
    "$H_5(x) = -0.02475 + 0.751(x+0.5) + 2.751(x+0.5)^2 + (x+0.5)^2(x+0.25) - 7.10542736\\times10^{-15}(x+0.5)^2(x+0.25)^2 + 2.13162821\\times10^{-14}(x+0.5)^2(x+0.25)^2x.$\n",
    "\n",
    "Since the last two terms are so insignificant, we have \n",
    "\n",
    "$$ H_5(x) = -0.02475 + 0.751(x+0.5) + 2.751(x+0.5)^2 + (x+0.5)^2(x+0.25). $$"
   ]
  },
  {
   "cell_type": "markdown",
   "metadata": {},
   "source": [
    "#### 3. The data in Exercise 1 were generated using the following functions. Use the polynomials constructed in Exercise 1 for the given value of $x$ to approximate $f (x)$, and calculate the absolute error.\n",
    "\n",
    "#### (a) $f (x) = x \\ln x$; approximate $f (8.4)$."
   ]
  },
  {
   "cell_type": "code",
   "execution_count": 26,
   "metadata": {},
   "outputs": [
    {
     "name": "stdout",
     "output_type": "stream",
     "text": [
      "H(1.5) = 17.877144\n",
      "f(1.5) = 17.877146\n",
      "Absolute error = |f(1.5)-H(1.5)| = 1.8846894036528283e-06\n"
     ]
    }
   ],
   "source": [
    "Q = herm_coeff([8.3,8.6],[17.56492,18.50515], [3.116256,3.151762])\n",
    "p = herm_poly(8.4,[8.3,8.6],Q)\n",
    "def f(x):\n",
    "    return x * math.log(x)\n",
    "q = f(8.4)\n",
    "\n",
    "print(\"H(1.5) =\", round(p,6))\n",
    "print(\"f(1.5) =\", round(q,6))\n",
    "print(\"Absolute error = |f(1.5)-H(1.5)| =\", abs(q-p))"
   ]
  },
  {
   "cell_type": "markdown",
   "metadata": {},
   "source": [
    "#### (c) $f (x) = x^3 + 4.001x^2 + 4.002x + 1.101$; approximate $f (-1/3)$."
   ]
  },
  {
   "cell_type": "code",
   "execution_count": 27,
   "metadata": {},
   "outputs": [
    {
     "name": "stdout",
     "output_type": "stream",
     "text": [
      "H(-1/3) = 0.1745185\n",
      "f(-1/3) = 0.1745185\n",
      "Absolute error = |f(-1/3)-H(-1/3)| = 2.220446049250313e-16\n"
     ]
    }
   ],
   "source": [
    "Q = herm_coeff([-0.5,-0.25,0],[-0.0247500,0.3349375,1.1010000], [0.751,2.189,4.002])\n",
    "p = herm_poly(-1/3,[-0.5,-0.25,0],Q)\n",
    "def f(x):\n",
    "    return x**3 + 4.001*x**2 + 4.002*x + 1.101\n",
    "q = f(-1/3)\n",
    "\n",
    "print(\"H(-1/3) =\", round(p,7))\n",
    "print(\"f(-1/3) =\", round(q,7))\n",
    "print(\"Absolute error = |f(-1/3)-H(-1/3)| =\", abs(q-p))"
   ]
  },
  {
   "cell_type": "markdown",
   "metadata": {},
   "source": [
    "#### 10. Let $z_0 = x_0, z_1 = x_0, z_2 = x_1$, and $z_3 = x_1$. \n",
    "\n",
    "From the book, we have that $H_3(x) = f[z_0] + f[z_0,z_1](x-z_0) + f[z_0,z_1,z_2](x-z_0)(x-z_1) + f[z_0,z_1,z_2,z_3](x-z_0)(x-z_1)(x-z_2)$. By the assumption, we have $H_3(x) = f[z_0] + f[z_0,z_1](x-x_0) + f[z_0,z_1,z_2](x-x_0)^2 + f[z_0,z_1,z_2,z_3](x-x_0)^2(x-x_1)$.\n",
    "\n",
    "#### 11.a. Show that $H_{2n+1}(x)$ is the unique polynomial of least degree agreeing with $f$ and $f'$  at $x_0, \\dots , x_n$."
   ]
  },
  {
   "cell_type": "code",
   "execution_count": null,
   "metadata": {},
   "outputs": [],
   "source": []
  }
 ],
 "metadata": {
  "kernelspec": {
   "display_name": "Python 3",
   "language": "python",
   "name": "python3"
  },
  "language_info": {
   "codemirror_mode": {
    "name": "ipython",
    "version": 3
   },
   "file_extension": ".py",
   "mimetype": "text/x-python",
   "name": "python",
   "nbconvert_exporter": "python",
   "pygments_lexer": "ipython3",
   "version": "3.8.5"
  }
 },
 "nbformat": 4,
 "nbformat_minor": 5
}
