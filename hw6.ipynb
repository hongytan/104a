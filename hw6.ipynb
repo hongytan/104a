{
 "cells": [
  {
   "cell_type": "markdown",
   "id": "f70729fc-1cd8-4d02-9bf2-80f415564152",
   "metadata": {},
   "source": [
    "# Homework 6\n",
    "\n",
    "In collaboration with Yan and Amelia\n",
    "\n",
    "## Chapter 4.1"
   ]
  },
  {
   "cell_type": "code",
   "execution_count": 93,
   "id": "c38fd5fa-9f8b-45bc-9c1f-7ea1977ac603",
   "metadata": {},
   "outputs": [],
   "source": [
    "import numpy as np\n",
    "import math"
   ]
  },
  {
   "cell_type": "code",
   "execution_count": 48,
   "id": "f1763197-f8ef-4b31-ac6d-4bdfa5429368",
   "metadata": {},
   "outputs": [],
   "source": [
    "def forward_diff(f_1,f_0,h):\n",
    "    f_prime = (f_1-f_0)/h\n",
    "    return f_prime\n",
    "\n",
    "def back_diff(f_1,f_0,h):\n",
    "    f_prime = (f_0-f_1)/h\n",
    "    return f_prime"
   ]
  },
  {
   "cell_type": "code",
   "execution_count": 49,
   "id": "57472da7-65e7-4484-a5ae-0de12daf1bb2",
   "metadata": {},
   "outputs": [
    {
     "name": "stdout",
     "output_type": "stream",
     "text": [
      "f'(x) = [0.852 0.796 0.796]\n"
     ]
    }
   ],
   "source": [
    "# Exercise 1. \n",
    "# (a) \n",
    "x=[0.5,0.6,0.7]\n",
    "f_x = [0.4794,0.5646,0.6442]\n",
    "\n",
    "fprime = [forward_diff(f_x[1],f_x[0],0.1),forward_diff(f_x[2],f_x[1],0.1),back_diff(f_x[1],f_x[2],0.1)]\n",
    "part_a = np.round(fprime,4)\n",
    "\n",
    "print(f\"f'(x) = {part_a}\")"
   ]
  },
  {
   "cell_type": "code",
   "execution_count": 50,
   "id": "c0e022b4-adc3-44e4-ab56-67fba522f788",
   "metadata": {},
   "outputs": [
    {
     "name": "stdout",
     "output_type": "stream",
     "text": [
      "f'(x) = [3.707 3.152 3.152]\n"
     ]
    }
   ],
   "source": [
    "# (b)\n",
    "x=[0.0,0.2,0.4]\n",
    "f_x = [0.00000,0.74140,1.3718]\n",
    "\n",
    "fprime = [forward_diff(f_x[1],f_x[0],0.2),forward_diff(f_x[2],f_x[1],0.2),back_diff(f_x[1],f_x[2],0.2)]\n",
    "part_b = np.round(fprime,4)\n",
    "print(f\"f'(x) = {part_b}\")\n"
   ]
  },
  {
   "cell_type": "code",
   "execution_count": 51,
   "id": "6a6498f7-342e-44af-a806-1feef6df2a1c",
   "metadata": {},
   "outputs": [
    {
     "name": "stdout",
     "output_type": "stream",
     "text": [
      "Actual error at x = 0.5: 0.02558.\n",
      "Actual error at x = 0.6: 0.02934.\n",
      "Actual error at x = 0.7: 0.03116.\n"
     ]
    }
   ],
   "source": [
    "# Exercise 3\n",
    "# (a)\n",
    "x=[0.5,0.6,0.7]\n",
    "f_x = [0.4794,0.5646,0.6442]\n",
    "for i in range(len(x)):\n",
    "    print(f'Actual error at x = {x[i]}: {np.abs(np.cos(x[i])-part_a[i]):.5f}.')"
   ]
  },
  {
   "cell_type": "markdown",
   "id": "eaef4f00-2f72-4f7a-bb9c-5be89e636f5f",
   "metadata": {},
   "source": [
    "Error bound:\n",
    "\n",
    "We know $f''(x) = - \\sin(x)$, so\n",
    "\n",
    "$$\n",
    "\\left|\\frac{h}{2} f^{(2)}(\\xi)\\right| \\leq 0.05\\left(\\max _{\\xi \\in[a a+h]}|-\\sin (\\xi)|\\right).\n",
    "$$\n",
    "\n",
    "Since $\\sin(x)$ is increasing on $[0.5,0.6]$ and $[0.6,0.7]$, we take $\\xi = 0.6$.\n",
    "\n",
    "$$0.05\\left(\\max _{\\xi \\in[a a+h]}|-\\sin (\\xi)|\\right) = 0.05\\times0.5646=0.02823.$$\n",
    "\n",
    "For $x =0.7$ we take $\\xi=0.7$\n",
    "\n",
    "$$0.05\\left(\\max _{\\xi \\in[a a+h]}|-\\sin (\\xi)|\\right) = 0.05\\times0.6442=0.03221.$$"
   ]
  },
  {
   "cell_type": "code",
   "execution_count": 52,
   "id": "fdfd3c6c-1f83-464c-b99b-3a061a5af55b",
   "metadata": {},
   "outputs": [
    {
     "name": "stdout",
     "output_type": "stream",
     "text": [
      "Actual error at x = 0.0: 0.29300.\n",
      "Actual error at x = 0.2: 0.26940.\n",
      "Actual error at x = 0.4: -0.26018.\n"
     ]
    }
   ],
   "source": [
    "# (b)\n",
    "x=[0.0,0.2,0.4]\n",
    "for i in range(len(x)):\n",
    "    print(f'Actual error at x = {x[i]}: {(np.exp(x[i])-4*x[i]+3)-part_b[i]:.5f}.')"
   ]
  },
  {
   "cell_type": "markdown",
   "id": "a22057ef-bf9c-4c0a-a4f8-aee1b4bae04b",
   "metadata": {},
   "source": [
    "Error bound:\n",
    "\n",
    "We know $f''(x) =  e^x-4$. So\n",
    "\n",
    "$$\n",
    "\\left|\\frac{h}{2} f^{(2)}(\\xi)\\right| \\leq 0.05\\left(\\max _{\\xi \\in[a a+h]}|e^x-4|\\right)\n",
    "$$\n",
    "\n",
    "Since $e^x$ is increasing on $[0.0,0.2]$ and $[0.2,0.4]$, we take $\\xi=0.0$ to maximize \n",
    "\n",
    "$$0.1\\left(\\max _{\\xi \\in[a a+h]}|e^x-4|\\right) = 0.1\\times 3=0.3.$$\n",
    "\n",
    "The bound associated with $x=0.2$ and $x=0.4$ will remain the same thus we take $\\xi = 0.2$ to maximize\n",
    "\n",
    "$$0.1\\left(\\max _{\\xi \\in[a a+h]}|e^x-4|\\right) = 0.1\\times0.5646=0.02823.$$\n",
    "\n",
    "For $x =0.7$ we take $\\xi=0.7$\n",
    "\n",
    "$$0.1\\left(\\max _{\\xi \\in[a a+h]}|e^x-4|\\right) = 0.1\\times2.77859=0.277859.$$"
   ]
  },
  {
   "cell_type": "code",
   "execution_count": 53,
   "id": "25a3f7fd-0e42-4c65-94b0-ec7312d20a28",
   "metadata": {},
   "outputs": [
    {
     "name": "stdout",
     "output_type": "stream",
     "text": [
      "f'(x) = [17.76971 22.19364 27.10735 32.51085]\n"
     ]
    }
   ],
   "source": [
    "# Exercise 5\n",
    "# (a)\n",
    "def three_endpoint(f_x0,f_x1,f_x2,h):\n",
    "    f_prime = (1/(2*h))*(-3*(f_x0)+4*f_x1 -f_x2)\n",
    "    return f_prime\n",
    "\n",
    "def three_midpoint(f_x0,f_x1,h):\n",
    "    f_prime = (1/(2*h))*((f_x1)-(f_x0))\n",
    "    return f_prime\n",
    "\n",
    "_5a = [three_endpoint(9.025013,11.02318,13.46374,0.1),three_midpoint(9.025013,13.46374,0.1),three_midpoint(11.02318,16.44465,0.1),three_endpoint(16.44465,13.46374 ,11.02318,-0.1)]\n",
    "_5a = np.round(_5a,5)\n",
    "\n",
    "print(f\"f'(x) = {_5a}\")"
   ]
  },
  {
   "cell_type": "code",
   "execution_count": 54,
   "id": "4f402edc-6f13-49fa-8937-b1a9951ffae2",
   "metadata": {},
   "outputs": [
    {
     "name": "stdout",
     "output_type": "stream",
     "text": [
      "f'(x) = [ 0.1353315 -0.0998955 -0.329896  -0.55467  ]\n"
     ]
    }
   ],
   "source": [
    "_5b = [three_endpoint(3.6887983,3.6905701,3.6688192,0.1),\n",
    "       three_midpoint(3.6887983,3.6688192,0.1),\n",
    "       three_midpoint(3.6905701,3.6245909,0.1),\n",
    "       three_endpoint(3.6245909,3.6688192,3.6905701,-0.1)]\n",
    "_5b = np.round(_5b,7)\n",
    "print(f\"f'(x) = {_5b}\")"
   ]
  },
  {
   "cell_type": "code",
   "execution_count": 55,
   "id": "9aa64ed1-2473-44cd-b919-f51ecd1705e4",
   "metadata": {},
   "outputs": [
    {
     "name": "stdout",
     "output_type": "stream",
     "text": [
      "Actual error at x = 1.1: 0.28032\n",
      "Actual error at x = 1.2: 0.14729\n",
      "Actual error at x = 1.3: 0.17987\n",
      "Actual error at x = 1.4: 0.37844\n"
     ]
    }
   ],
   "source": [
    "# Exercise 7 (a)\n",
    "x=[1.1,1.2,1.3,1.4]\n",
    "for i in range(len(x)):\n",
    "    print(f'Actual error at x = {x[i]}: {np.abs((2*np.exp(2*x[i]))-_5a[i]):.5f}')"
   ]
  },
  {
   "cell_type": "markdown",
   "id": "00290082-b0ae-4428-82a5-c3cc2aaaa8af",
   "metadata": {},
   "source": [
    "For endpoints we have error $\n",
    "\\frac{h^{2}}{3} f^{(3)}(\\xi)$ the bound $\\dfrac{Mh}{3}$ where $M$ is a bound on $|f^{(3)}|$ and $\\xi$ is in between $x=1.1$ and $x=1.3$. $8e^{2x}$ is an increasing function. So we take $1.3$ to maximize.\n",
    "\n",
    "For $x=1.1$ $$\\dfrac{Mh}{3}=\\frac{8e^{2\\left(1.3\\right)}\\left(0.1\\right)^{2}}{3}=0.359033.$$\n",
    "\n",
    "For midpoints we have error $\\frac{h^{2}}{6} f^{(3)}(\\xi)$, the bound $\\dfrac{Mh}{6}$ where $M$ is a bound on $|f^{(3)}|$ and $\\xi$ is in between $x=1.2$ and $x=1.3$. $8e^{2x}$ is an increasing function. So we take $1.3$ to maximize.\n",
    "\n",
    "For $x=1.2$ $$\\dfrac{Mh}{6}=\\frac{8e^{2\\left(1.3\\right)}\\left(0.1\\right)^{2}}{6}=0.17951.$$\n",
    "\n",
    "For $x=1.3$, we take $x=1.4$ to maximize $$\\dfrac{Mh}{6}=\\frac{8e^{2\\left(1.4\\right)}\\left(0.1\\right)^{2}}{6}=0.219262.$$\n",
    "\n",
    "For the last endpoint we take the endpoint bound with $[1.2,1.4]$. \n",
    "\n",
    "For $x=1.4$ we take $x=1.4$ to maximize $$\\dfrac{Mh}{3}=\\frac{8e^{2\\left(1.4\\right)}\\left(-0.1\\right)^{2}}{3}=0.4385239.$$"
   ]
  },
  {
   "cell_type": "code",
   "execution_count": 56,
   "id": "cb945145-f036-4282-a415-615078e8b816",
   "metadata": {},
   "outputs": [
    {
     "name": "stdout",
     "output_type": "stream",
     "text": [
      "Actual error at x = 2.0: 0.0025224\n",
      "Actual error at x = 2.1: 0.0014288\n",
      "Actual error at x = 2.2: 0.0020485\n",
      "Actual error at x = 2.3: 0.0043795\n"
     ]
    }
   ],
   "source": [
    "# Exercise 7 (d)\n",
    "x=[2.0,2.1,2.2,2.3]\n",
    "for i in range(len(x)):\n",
    "    print(f'Actual error at x = {x[i]}: {np.abs((4*np.log(x[i])/x[i])+3*np.cos(x[i])-_5b[i]):.7f}')"
   ]
  },
  {
   "cell_type": "markdown",
   "id": "f8b9e0fc-153f-4906-b17f-0ce28096fb69",
   "metadata": {},
   "source": [
    "For endpoints we have error $\\dfrac{h^{2}}{3} f^{(3)}(\\xi)$ the bound $\\dfrac{Mh}{3}$ where $M$ is a bound on $|f^{(3)}|$ and $\\xi$ is in between $x=2.0$ and $x=2.2$. $f^{(3)}(x)=\\frac{-12}{x^{3}}+\\frac{8 \\ln x}{x^{3}}-3 \\cos x$ is an increasing function on $[2.0.2.3]$. So we take $2.2$ to maximize. \n",
    "For $x=2.0$ $$\\dfrac{Mh}{3}=\\left(\\frac{\\left(\\frac{-12}{\\left(2.2\\right)^{3}}+\\frac{8\\ln\\left(2.2\\right)}{\\left(2.2\\right)^{3}}-3\\cos\\left(2.2\\right)\\right)}{3}\\right)\\cdot\\left(0.1\\right)^{2}=0.004103036. $$\n",
    "\n",
    "For $x=2.1$, we take $x=2.2$ to maximize using midpoint bound:\n",
    "$$\\dfrac{Mh}{6}=\\left(\\frac{\\left(\\frac{-12}{\\left(2.2\\right)^{3}}+\\frac{8\\ln\\left(2.2\\right)}{\\left(2.2\\right)^{3}}-3\\cos\\left(2.2\\right)\\right)}{6}\\right)\\cdot\\left(0.1\\right)^{2}=0.00205152.$$\n",
    "\n",
    "For $x=2.2$ we take $x=2.3$ to maximize using midpoint bound:\n",
    "$$\\dfrac{Mh}{6}=\\left(\\frac{\\left(\\frac{-12}{\\left(2.3\\right)^{3}}+\\frac{8\\ln\\left(2.3\\right)}{\\left(2.3\\right)^{3}}-3\\cos\\left(2.3\\right)\\right)}{6}\\right)\\cdot\\left(0.1\\right)^{2}=0.0026003.$$\n",
    "\n",
    "For endpoint $x=2.3$ we have $x\\in [2.1,2.3]$, thus $x=2.3$ to maximize:\n",
    "$$\\dfrac{Mh}{3}=\\left(\\frac{\\left(\\frac{-12}{\\left(2.3\\right)^{3}}+\\frac{8\\ln\\left(2.3\\right)}{\\left(2.3\\right)^{3}}-3\\cos\\left(2.3\\right)\\right)}{3}\\right)\\cdot\\left(0.1\\right)^{2}=0.00520068.$$\n"
   ]
  },
  {
   "cell_type": "code",
   "execution_count": 60,
   "id": "9c51dede-75ec-4bbd-8646-b1775ae3aafa",
   "metadata": {},
   "outputs": [],
   "source": [
    "# Exercise 22 \n",
    "# We will use 3-point formula:\n",
    "#R = 0.142, L=0.98, h = 0.01\n",
    "\n",
    "t_0=np.round(three_endpoint(3.10,3.12,3.14,0.01),5)  # t = 1.00\n",
    "t_1=np.round(three_midpoint(3.10,3.14,.01))          # t = 1.01\n",
    "t_2=np.round(three_midpoint(3.12,3.18,.01))          # t = 1.02\n",
    "t_3=np.round(three_midpoint(3.14,3.24,.01))          # t = 1.03\n",
    "t_4=np.round(three_endpoint(3.24,3.18,3.14,-0.01),5) # t = 1.04"
   ]
  },
  {
   "cell_type": "code",
   "execution_count": 65,
   "id": "fcde1eaf-7507-42bf-a1c8-307a3554ef1e",
   "metadata": {},
   "outputs": [
    {
     "data": {
      "text/plain": [
       "[2.0, 2.0, 3.0, 5.0, 7.0]"
      ]
     },
     "execution_count": 65,
     "metadata": {},
     "output_type": "execute_result"
    }
   ],
   "source": [
    "t_list = [t_0,t_1,t_2,t_3,t_4]\n",
    "t_list"
   ]
  },
  {
   "cell_type": "code",
   "execution_count": 68,
   "id": "5cd4bac9-4a93-491d-858f-8b4011d8bcc3",
   "metadata": {},
   "outputs": [
    {
     "name": "stdout",
     "output_type": "stream",
     "text": [
      "E(1.0) = 2.4002.\n",
      "E(1.01) = 2.40304.\n",
      "E(1.02) = 3.38588.\n",
      "E(1.03) = 5.35156.\n",
      "E(1.04) = 7.32008.\n"
     ]
    }
   ],
   "source": [
    "L = 0.98\n",
    "R = 0.142\n",
    "t = [1.00,1.01,1.02,1.03,1.04]\n",
    "i=[3.10,3.12,3.14,3.18,3.24]\n",
    "for j in range(len(t_list)):\n",
    "    print(f\"E({t[j]}) = {np.round(L*t_list[j]+ R*i[j],5)}.\")"
   ]
  },
  {
   "cell_type": "markdown",
   "id": "8d73ecbb-fb1a-4d37-a096-ef514a9b8d0e",
   "metadata": {},
   "source": [
    "#### Problem 29\n",
    "\n",
    "We have $$e(h)=\\frac{\\varepsilon}{h}+\\frac{h^{2}}{6} M,$$ where $\\mathrm{M}$ is the bound for the third derivative of a function.\n",
    "\n",
    "Taking the derivative gives $$e^{\\prime}(h)=-\\varepsilon / h^{2}+h M / 3.$$ \n",
    "\n",
    "If $e^{\\prime}(h)=0$, then $h=\\sqrt[3]{3 \\varepsilon / M}$. So, $e^{\\prime}(h)<0$ if $h<\\sqrt[3]{3 \\varepsilon / M}$ and $e^{\\prime}(h)>0$ if $h>\\sqrt[3]{3 \\varepsilon / M}$\n",
    "Hence  $e(h)$ has a minimum at $h=\\sqrt[3]{3 \\varepsilon / M}$."
   ]
  },
  {
   "cell_type": "markdown",
   "id": "2da2ccfb-d844-40d5-8f34-61be918e0589",
   "metadata": {},
   "source": [
    "## Chapter 4.3"
   ]
  },
  {
   "cell_type": "code",
   "execution_count": 101,
   "id": "10ad79bb-3f59-4d75-bb1e-09bee9b9aee9",
   "metadata": {},
   "outputs": [
    {
     "name": "stdout",
     "output_type": "stream",
     "text": [
      "The integral approximation is: 0.265625.\n"
     ]
    }
   ],
   "source": [
    "# Exercise 1 (a)\n",
    "def trap(f,a,b,N=10):\n",
    "    x = np.linspace(a,b,N+1)\n",
    "    y = f(x)\n",
    "    y_right = y[1:]\n",
    "    y_left = y[:-1]\n",
    "    dx = (b - a)/N\n",
    "    T = (dx/2) * np.sum(y_right + y_left) \n",
    "    return T\n",
    "\n",
    "def f(x):\n",
    "    return x ** 4\n",
    "print(f\"The integral approximation is: {trap(f,0.5,1,1)}.\") "
   ]
  },
  {
   "cell_type": "code",
   "execution_count": 102,
   "id": "d8aed9a6-7af9-49dc-b5c8-901eaa9107f3",
   "metadata": {},
   "outputs": [
    {
     "name": "stdout",
     "output_type": "stream",
     "text": [
      "The integral approximation is: 0.21748057537635235.\n"
     ]
    }
   ],
   "source": [
    "# Exercise 1 (d)\n",
    "def f(x):\n",
    "    return x**2 * np.exp(-x)\n",
    "print(f\"The integral approximation is: {trap(f,1,1.5,1)}.\") "
   ]
  },
  {
   "cell_type": "code",
   "execution_count": 104,
   "id": "096ade5a-f3a6-475f-b915-2c1c1f701455",
   "metadata": {},
   "outputs": [
    {
     "name": "stdout",
     "output_type": "stream",
     "text": [
      "The integral approximation is: 0.21808950623871498.\n"
     ]
    }
   ],
   "source": [
    "# Exercise 1 (g)\n",
    "def f(x):\n",
    "    return x * np.sin(x)\n",
    "print(f\"The integral approximation is: {trap(f,0,math.pi/4,1)}.\") "
   ]
  },
  {
   "cell_type": "markdown",
   "id": "7c575ff4-907e-4edb-a461-6bb4b277eab2",
   "metadata": {},
   "source": [
    "#### Exercise 3 (d)\n",
    "\n",
    "$$\\begin{aligned} \n",
    "\\int_{0}^{1} x^{2} e^{-x} d x &=-e^{-x}\\left(x^{2}+2 x+2\\right)_{0}^{1} \\\\ \n",
    "&=0.160602794. \n",
    "\\end{aligned}$$\n",
    "\n",
    "True error: $|0.160602794-0.21748057537635235| = 0.0568777813764.$\n",
    "\n",
    "$f''(x)=e^{-x}(2-4x+x^{2})$\n",
    "\n",
    "We have error $\\dfrac{h^{3}}{12} f^{\\prime \\prime}(\\xi), \\quad \\text { where } \\quad x_{0}<\\xi<x_{1}$, so $|f^{\\prime \\prime}(\\xi)|$ is maximized at $x=0$. Then\n",
    " \n",
    "$$\\dfrac{h^{3}}{12} |f^{\\prime \\prime}(\\xi)|\\leq 2\\cdot\\dfrac{1^3}{12}\\approx .166666666667.$$\n",
    "\n",
    "#### Exercise 3 (g)\n",
    "\n",
    "$$\\begin{aligned}\n",
    "\\int_{0}^{\\frac{\\pi}{4}} x \\sin x d x &=[-x \\cos x+\\sin x]_{0}^{\\frac{\\pi}{4}} \\\\\n",
    "&=0.152027958.\n",
    "\\end{aligned}$$\n",
    "\n",
    "True error: $|0.152027958-0.218089|\\approx 0.066061$\n",
    "\n",
    "\n",
    "$f''(x) = 2\\cos(x)-x\\sin(x)$ \n",
    "\n",
    "$|f''(x)|$ is maximized at at $x=0$, so \n",
    "\n",
    "$$\\dfrac{h^{3}}{12} |f^{\\prime \\prime}(\\xi)|\\leq 2\\cdot\\dfrac{(\\pi/4)^3}{12}\\approx 0.0807455.$$"
   ]
  },
  {
   "cell_type": "code",
   "execution_count": 113,
   "id": "53a89308-6e1a-45e6-b52c-9c947ca5cc1d",
   "metadata": {},
   "outputs": [
    {
     "name": "stdout",
     "output_type": "stream",
     "text": [
      "The integral approximation is: 0.19401041666666666.\n"
     ]
    }
   ],
   "source": [
    "# Exercise 5 (a)\n",
    "def simpsons(f,a,b,n): \n",
    "    if n % 2 == 1:\n",
    "        raise ValueError(\"n must be an even integer.\") \n",
    "    dx = (b-a)/n\n",
    "    x = np.linspace(a,b,n+1)\n",
    "    y = f(x)\n",
    "    S = dx/3 * np.sum(y[0:-1:2] + 4*y[1::2] + y[2::2]) \n",
    "    return S\n",
    "\n",
    "def f(x): \n",
    "    return x**4\n",
    "\n",
    "print(f\"The integral approximation is: {simpsons(f,0.5,1,2)}.\") "
   ]
  },
  {
   "cell_type": "code",
   "execution_count": 114,
   "id": "b7df421b-c31d-4662-a842-99e71bd949dd",
   "metadata": {},
   "outputs": [
    {
     "name": "stdout",
     "output_type": "stream",
     "text": [
      "The integral approximation is: 0.1624016834806793.\n"
     ]
    }
   ],
   "source": [
    "# Exercise 5 (d)\n",
    "def f(x): \n",
    "    return x**2 * np.exp(-x)\n",
    "\n",
    "print(f\"The integral approximation is: {simpsons(f,0,1,2)}.\") "
   ]
  }
 ],
 "metadata": {
  "kernelspec": {
   "display_name": "Python 3 (ipykernel)",
   "language": "python",
   "name": "python3"
  },
  "language_info": {
   "codemirror_mode": {
    "name": "ipython",
    "version": 3
   },
   "file_extension": ".py",
   "mimetype": "text/x-python",
   "name": "python",
   "nbconvert_exporter": "python",
   "pygments_lexer": "ipython3",
   "version": "3.10.0"
  }
 },
 "nbformat": 4,
 "nbformat_minor": 5
}
