{
 "cells": [
  {
   "cell_type": "markdown",
   "id": "bd5b561b-6c1b-4c50-94e0-863fabaf0f0e",
   "metadata": {},
   "source": [
    "# Using Gradient Descend to Find "
   ]
  },
  {
   "cell_type": "code",
   "execution_count": null,
   "id": "111ffbe1-82cf-49d7-97af-ca47c4e54419",
   "metadata": {},
   "outputs": [],
   "source": []
  }
 ],
 "metadata": {
  "kernelspec": {
   "display_name": "Python 3 (ipykernel)",
   "language": "python",
   "name": "python3"
  },
  "language_info": {
   "codemirror_mode": {
    "name": "ipython",
    "version": 3
   },
   "file_extension": ".py",
   "mimetype": "text/x-python",
   "name": "python",
   "nbconvert_exporter": "python",
   "pygments_lexer": "ipython3",
   "version": "3.10.0"
  }
 },
 "nbformat": 4,
 "nbformat_minor": 5
}
