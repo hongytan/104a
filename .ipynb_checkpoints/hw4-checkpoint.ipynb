{
 "cells": [
  {
   "cell_type": "markdown",
   "id": "7c31d673-fa70-4306-b353-9b936c5f70e8",
   "metadata": {},
   "source": [
    "# Homework \\#4 - Due Nov. 4\n",
    "## Hong Tan"
   ]
  },
  {
   "cell_type": "code",
   "execution_count": 31,
   "id": "7d8b77c1-6ff5-480b-a299-8fe6140a6a7e",
   "metadata": {},
   "outputs": [],
   "source": [
    "import math\n",
    "import numpy as np"
   ]
  },
  {
   "cell_type": "markdown",
   "id": "2918208e-9885-4beb-8938-02e7ad11f9f9",
   "metadata": {},
   "source": [
    "## Chapter 3.2\n",
    "\n",
    "1. Use Neville’s method to obtain the approximations for Lagrange interpolating polynomials of degrees one, two, and three to approximate each of the following:"
   ]
  },
  {
   "cell_type": "code",
   "execution_count": 32,
   "id": "ba6feda8-04d2-4581-82d6-f296f2d3d5d8",
   "metadata": {},
   "outputs": [],
   "source": [
    "# Neville function from professor\n",
    "def neville(x, vec_x, vec_f, Q_table = None, i0 = -1, j0 = -1):\n",
    "    n = np.size(vec_x) - 1; # x0, x1, ..., xn.\n",
    "    \n",
    "    if (Q_table == None):\n",
    "        Q_table = np.zeros((n + 1, n + 1));\n",
    "        \n",
    "    for i in np.arange(0, n + 1):\n",
    "        Q_table[i][0] = vec_f[i];\n",
    "\n",
    "    for j in np.arange(1, n + 1):\n",
    "        for i in np.arange(j, n + 1):\n",
    "            # compute Q_{i,j}\n",
    "            Q_table[i][j] = 0.0;\n",
    "            Q_table[i][j] += (x - vec_x[i - j])*Q_table[i][j - 1];\n",
    "            Q_table[i][j] -= (x - vec_x[i])*Q_table[i - 1][j - 1];\n",
    "            Q_table[i][j] /= (vec_x[i] - vec_x[i - j]);\n",
    "\n",
    "    return Q_table[n][n], Q_table; "
   ]
  },
  {
   "cell_type": "markdown",
   "id": "193bebc6-8d34-408e-9252-2503d7dae96c",
   "metadata": {},
   "source": [
    "#### 1.a. $f (8.4)$ if $f (8.1) = 16.94410, f (8.3) = 17.56492, f (8.6) = 18.50515, f (8.7) = 18.82091$."
   ]
  },
  {
   "cell_type": "code",
   "execution_count": 33,
   "id": "07266754-2b81-48d2-a7db-49092e3b7f14",
   "metadata": {},
   "outputs": [
    {
     "data": {
      "text/plain": [
       "(17.8721425,\n",
       " array([[16.9941   ,  0.       ,  0.       ,  0.       ],\n",
       "        [17.56492  , 17.85033  ,  0.       ,  0.       ],\n",
       "        [18.50515  , 17.87833  , 17.86713  ,  0.       ],\n",
       "        [18.82091  , 17.87363  , 17.877155 , 17.8721425]]))"
      ]
     },
     "execution_count": 33,
     "metadata": {},
     "output_type": "execute_result"
    }
   ],
   "source": [
    "neville(8.4,[8.1,8.3,8.6,8.7],[16.99410,17.56492,18.50515,18.82091])"
   ]
  },
  {
   "cell_type": "markdown",
   "id": "31ae2a33-5ac8-4005-b22d-e204621ea491",
   "metadata": {},
   "source": [
    "Solution: $P_1(8.4) = 17.85033, P_2(8.4)=17.86713, P_3(8.4)=17.8721425.$"
   ]
  }
 ],
 "metadata": {
  "kernelspec": {
   "display_name": "Python 3 (ipykernel)",
   "language": "python",
   "name": "python3"
  },
  "language_info": {
   "codemirror_mode": {
    "name": "ipython",
    "version": 3
   },
   "file_extension": ".py",
   "mimetype": "text/x-python",
   "name": "python",
   "nbconvert_exporter": "python",
   "pygments_lexer": "ipython3",
   "version": "3.8.5"
  }
 },
 "nbformat": 4,
 "nbformat_minor": 5
}
