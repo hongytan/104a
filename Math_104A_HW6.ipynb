{
 "cells": [
  {
   "cell_type": "code",
   "execution_count": null,
   "id": "a14821f9-0307-40bb-8c72-56119feed345",
   "metadata": {},
   "outputs": [],
   "source": [
    "import math\n",
    "import numpy as np"
   ]
  },
  {
   "cell_type": "code",
   "execution_count": null,
   "id": "de4557f3-eb9b-45da-b10f-2a0c06987969",
   "metadata": {},
   "outputs": [],
   "source": [
    "def forward_diff(f_1,f_0,h):\n",
    "    f_prime = (f_1-f_0)/h\n",
    "    return f_prime\n",
    "\n",
    "def back_diff(f_1,f_0,h):\n",
    "    f_prime = (f_0-f_1)/h\n",
    "    return f_prime\n",
    "     \n",
    "     "
   ]
  },
  {
   "cell_type": "markdown",
   "id": "2b1be7bc-8d18-490f-913b-8f097f827700",
   "metadata": {},
   "source": [
    "# $ \\S 4.1 $\n",
    "\n",
    "## Exercise 1 \n",
    "\n",
    "Use the forward-difference formulas and backward-difference formulas to determine each missing entry in the following tables.\n",
    "\n",
    "### Part (a)\n"
   ]
  },
  {
   "cell_type": "code",
   "execution_count": null,
   "id": "25107227-dcff-4059-b3a9-592656cc3aba",
   "metadata": {},
   "outputs": [
    {
     "name": "stdout",
     "output_type": "stream",
     "text": [
      "[0.852 0.796 0.796]\n"
     ]
    }
   ],
   "source": [
    "x=[0.5,0.6,0.7]\n",
    "f_x = [0.4794,0.5646,0.6442]\n",
    "\n",
    "part_a_list = []\n",
    "part_a_list.append(forward_diff(f_x[1],f_x[0],0.1))\n",
    "part_a_list.append(forward_diff(f_x[2],f_x[1],0.1))\n",
    "part_a_list.append(back_diff(f_x[1],f_x[2],0.1))\n",
    "\n",
    "part_a = np.round(part_a_list,4)\n",
    "\n",
    "print(part_a)"
   ]
  },
  {
   "cell_type": "markdown",
   "id": "70782a7e-5aa3-4d78-9053-d7a1b9d78053",
   "metadata": {},
   "source": [
    "### part (b)\n",
    "\n",
    "$x=[0.0,0.2,0.4]$, $f(x) = [0.00000,0.74140,1.3718]$"
   ]
  },
  {
   "cell_type": "code",
   "execution_count": null,
   "id": "18f2e41b-d0df-4b48-b1b6-e874b6671daa",
   "metadata": {},
   "outputs": [
    {
     "name": "stdout",
     "output_type": "stream",
     "text": [
      "[3.707 3.152 3.152]\n"
     ]
    }
   ],
   "source": [
    "x=[0.0,0.2,0.4]\n",
    "f_x = [0.00000,0.74140,1.3718]\n",
    "\n",
    "part_b_list = []\n",
    "part_b_list.append(forward_diff(f_x[1],f_x[0],0.2))\n",
    "part_b_list.append(forward_diff(f_x[2],f_x[1],0.2))\n",
    "part_b_list.append(back_diff(f_x[1],f_x[2],0.2))\n",
    "\n",
    "part_b = np.round(part_b_list,4)\n",
    "\n",
    "print(part_b)\n"
   ]
  },
  {
   "cell_type": "markdown",
   "id": "ec271f7c-4e00-4c3b-8f74-b068b32890f0",
   "metadata": {},
   "source": [
    "$f'(0.0)\\approx 3.707,\\,  f'(0.2)\\approx 3.152\\, f'(0.4)\\approx 3.152$"
   ]
  },
  {
   "cell_type": "markdown",
   "id": "c26421d8-ace7-4d74-b611-54e2f7c28786",
   "metadata": {},
   "source": [
    "## Exercise 3\n",
    "\n",
    "The data in Exercise 1 were taken from the following functions. Compute the actual errors in Exercise 1 , and find error bounds using the error formulas.\n",
    "\n",
    "### part (a)\n",
    "\n",
    "$f(x)=\\sin x$\n",
    "\n",
    "$f'(x) = \\cos x$"
   ]
  },
  {
   "cell_type": "code",
   "execution_count": null,
   "id": "c082652b-d65d-44f3-83dd-f0f50b0ab19a",
   "metadata": {},
   "outputs": [
    {
     "name": "stdout",
     "output_type": "stream",
     "text": [
      "Actual error at 0.5 : 0.02558\n",
      "Actual error at 0.6 : 0.02934\n",
      "Actual error at 0.7 : 0.03116\n"
     ]
    }
   ],
   "source": [
    "x=[0.5,0.6,0.7]\n",
    "f_x = [0.4794,0.5646,0.6442]\n",
    "for i in range(len(x)):\n",
    "    print(f'Actual error at {x[i]} : {np.abs(np.cos(x[i])-part_a[i]):.5f}')\n",
    "    \n",
    "    "
   ]
  },
  {
   "cell_type": "markdown",
   "id": "3e554423-786c-4184-94dd-3715d02b594d",
   "metadata": {},
   "source": [
    "Error bound:\n",
    "\n",
    "We have $f''(x) = - \\sin(x)$\n",
    "\n",
    "$$\n",
    "\\left|\\frac{h}{2} f^{(2)}(\\xi)\\right| \\leq 0.05\\left(\\max _{\\xi \\in[a a+h]}|-\\sin (\\xi)|\\right)\n",
    "$$\n",
    "\n",
    "$\\sin(x)$ is increasing on $[0.5,0.6]$ and $[0.6,0.7]$\n",
    "\n",
    "The bound associated with $x=0.5$ and $x=0.6$ will remain the same thus we take $\\xi = 0.6$\n",
    "\n",
    "$0.05\\left(\\max _{\\xi \\in[a a+h]}|-\\sin (\\xi)|\\right) = 0.05\\times0.5646=0.02823$\n",
    "\n",
    "For $x =0.7$ we take $\\xi=0.7$\n",
    "\n",
    "$0.05\\left(\\max _{\\xi \\in[a a+h]}|-\\sin (\\xi)|\\right) = 0.05\\times0.6442=0.03221$"
   ]
  },
  {
   "cell_type": "markdown",
   "id": "06d774c0-73af-472a-a34b-eab71ff49ba0",
   "metadata": {},
   "source": [
    "### part (b)\n",
    "\n",
    "b. $f(x)=e^{x}-2 x^{2}+3 x-1$\n",
    "\n",
    "$f'(x) = e^{x} -4x+3$"
   ]
  },
  {
   "cell_type": "code",
   "execution_count": 224,
   "id": "03a359f3-145c-4439-afe3-29a117dde8b3",
   "metadata": {},
   "outputs": [
    {
     "name": "stdout",
     "output_type": "stream",
     "text": [
      "Actual error at 0.0 : 0.29300\n",
      "Actual error at 0.2 : 0.26940\n",
      "Actual error at 0.4 : -0.26018\n"
     ]
    }
   ],
   "source": [
    "x=[0.0,0.2,0.4]\n",
    "for i in range(len(x)):\n",
    "    print(f'Actual error at {x[i]} : {(np.exp(x[i])-4*x[i]+3)-part_b[i]:.5f}')\n",
    "    \n",
    "    \n",
    "\n",
    "    "
   ]
  },
  {
   "cell_type": "markdown",
   "id": "3156e103-295f-45df-81bf-a8765292cd0d",
   "metadata": {},
   "source": [
    "Error bound:\n",
    "\n",
    "We have $f''(x) =  e^x-4$\n",
    "\n",
    "$$\n",
    "\\left|\\frac{h}{2} f^{(2)}(\\xi)\\right| \\leq 0.05\\left(\\max _{\\xi \\in[a a+h]}|e^x-4|\\right)\n",
    "$$\n",
    "\n",
    "$e^x$ is increasing on $[0.0,0.2]$ and $[0.2,0.4]$\n",
    "\n",
    "\n",
    "For $x =0.0$ we take $\\xi=0.0$ to maximize \n",
    "\n",
    "$0.1\\left(\\max _{\\xi \\in[a a+h]}|e^x-4|\\right) = 0.1\\times 3=0.3$\n",
    "\n",
    "The bound associated with $x=0.2$ and $x=0.4$ will remain the same thus we take $\\xi = 0.2$ to maximize\n",
    "\n",
    "$0.1\\left(\\max _{\\xi \\in[a a+h]}|e^x-4|\\right) = 0.1\\times0.5646=0.02823$\n",
    "\n",
    "For $x =0.7$ we take $\\xi=0.7$\n",
    "\n",
    "$0.1\\left(\\max _{\\xi \\in[a a+h]}|e^x-4|\\right) = 0.1\\times2.77859=0.277859$"
   ]
  },
  {
   "cell_type": "markdown",
   "id": "afedc35e-d7a2-4292-bd15-02a81ae5c25c",
   "metadata": {},
   "source": [
    "## Exercise 5\n",
    "\n",
    "Use the most accurate three-point formula to determine each missing entry in the following tables.\n",
    "\n",
    "### part (a)\n",
    "$$\n",
    "\\begin{aligned}\n",
    "&\\begin{array}{c|c|c}\n",
    "x & f(x) & f^{\\prime}(x) \\\\\n",
    "\\hline 1.1 & 9.025013 & \\\\\n",
    "1.2 & 11.02318 & \\\\\n",
    "1.3 & 13.46374 & \\\\\n",
    "1.4 & 16.44465 &\n",
    "\\end{array}\n",
    "\\end{aligned}\n",
    "$$"
   ]
  },
  {
   "cell_type": "code",
   "execution_count": 225,
   "id": "bafdfaf3-0ecb-4915-a527-4512fa29e35b",
   "metadata": {},
   "outputs": [],
   "source": [
    "def three_endpoint(f_x0,f_x1,f_x2,h):\n",
    "    f_prime = (1/(2*h))*(-3*(f_x0)+4*f_x1 -f_x2)\n",
    "    return f_prime"
   ]
  },
  {
   "cell_type": "code",
   "execution_count": 226,
   "id": "9fc7c58e-b17d-476d-a6f2-33fdf6e52330",
   "metadata": {},
   "outputs": [],
   "source": [
    "three_endpoint(9.025013,11.02318,13.46374,0.1)\n",
    "\n",
    "def three_midpoint(f_x0,f_x1,h):\n",
    "    f_prime = (1/(2*h))*((f_x1)-(f_x0))\n",
    "    return f_prime"
   ]
  },
  {
   "cell_type": "code",
   "execution_count": 227,
   "id": "172d853a-d881-4fff-a93e-dceb57b3b54c",
   "metadata": {},
   "outputs": [
    {
     "name": "stdout",
     "output_type": "stream",
     "text": [
      "[17.76971 22.19364 27.10735 32.51085]\n"
     ]
    }
   ],
   "source": [
    "num_5_pa = []\n",
    "num_5_pa.append(three_endpoint(9.025013,11.02318,13.46374,0.1))\n",
    "num_5_pa.append(three_midpoint(9.025013,13.46374,0.1))\n",
    "num_5_pa.append(three_midpoint(11.02318,16.44465,0.1))\n",
    "num_5_pa.append(three_endpoint(16.44465,13.46374 ,11.02318,-0.1))\n",
    "\n",
    "num_5_pa = np.round(num_5_pa,5)\n",
    "\n",
    "print(num_5_pa)"
   ]
  },
  {
   "cell_type": "markdown",
   "id": "a2a82c1a-220d-4feb-897f-5ddc51b99933",
   "metadata": {},
   "source": [
    "$$\n",
    "\\begin{aligned}\n",
    "&\\begin{array}{c|c|c}\n",
    "x & f(x) & f^{\\prime}(x) \\\\\n",
    "\\hline 1.1 & 9.025013 & 17.76971\\\\\n",
    "1.2 & 11.02318 & 22.19364\\\\\n",
    "1.3 & 13.46374 & 27.10735 \\\\\n",
    "1.4 & 16.44465 & 32.51085\n",
    "\\end{array}\n",
    "\\end{aligned}\n",
    "$$"
   ]
  },
  {
   "cell_type": "markdown",
   "id": "31254753-455f-496c-b7c2-e41fd1001741",
   "metadata": {},
   "source": [
    "## part (d)\n",
    "\n",
    "$$\n",
    "\\begin{aligned}\n",
    "&\\begin{array}{c|c|c}\n",
    "x & f(x) & f^{\\prime}(x) \\\\\n",
    "\\hline 2.0 & 3.6887983 & \\\\\n",
    "2.1 & 3.6905701 & \\\\\n",
    "2.2 & 3.6688192 & \\\\\n",
    "2.3 & 3.6245909 &\n",
    "\\end{array}\n",
    "\\end{aligned}\n",
    "$$"
   ]
  },
  {
   "cell_type": "code",
   "execution_count": 228,
   "id": "40720638-2495-401f-bfee-9614e18f87f8",
   "metadata": {},
   "outputs": [
    {
     "name": "stdout",
     "output_type": "stream",
     "text": [
      "[ 0.1353315 -0.0998955 -0.329896  -0.55467  ]\n"
     ]
    }
   ],
   "source": [
    "num_5_pb = []\n",
    "\n",
    "num_5_pb.append(three_endpoint(3.6887983,3.6905701,3.6688192,0.1))\n",
    "num_5_pb.append(three_midpoint(3.6887983,3.6688192,0.1))\n",
    "num_5_pb.append(three_midpoint(3.6905701,3.6245909,0.1))\n",
    "num_5_pb.append(three_endpoint(3.6245909,3.6688192,3.6905701,-0.1))\n",
    "\n",
    "num_5_pb = np.round(num_5_pb,7)\n",
    "\n",
    "print(num_5_pb)"
   ]
  },
  {
   "cell_type": "markdown",
   "id": "270e3b61-82a9-480a-8d1a-f2e94affdd47",
   "metadata": {},
   "source": [
    "$$\n",
    "\\begin{aligned}\n",
    "&\\begin{array}{c|c|c}\n",
    "x & f(x) & f^{\\prime}(x) \\\\\n",
    "\\hline 2.0 & 3.6887983 & 0.13533\\\\\n",
    "2.1 & 3.6905701 & -0.0999\\\\\n",
    "2.2 & 3.6688192 &-0.3299 \\\\\n",
    "2.3 & 3.6245909 &-0.55467\n",
    "\\end{array}\n",
    "\\end{aligned}\n",
    "$$"
   ]
  },
  {
   "cell_type": "markdown",
   "id": "67290354-2a82-4694-8068-00528e34c36d",
   "metadata": {},
   "source": [
    "## Exercise 7\n",
    "\n",
    "The data in Exercise 5 were taken from the following functions. Compute the actual errors in Exercise 5 , and find error bounds using the error formulas."
   ]
  },
  {
   "cell_type": "markdown",
   "id": "6c0b66be-de61-4767-8d86-7f66d78349e6",
   "metadata": {
    "tags": []
   },
   "source": [
    "### Part (a)\n",
    "\n",
    "$f(x) = e^{2x}$\n",
    "\n",
    "$f'(x) = 2e^{2x}$, $f''(x) = 4e^{2x}$, $f^{(3)}=8e^{2x}$"
   ]
  },
  {
   "cell_type": "code",
   "execution_count": 230,
   "id": "6d849c65-80ee-4cb8-8eb3-66a8b6476ca9",
   "metadata": {},
   "outputs": [
    {
     "name": "stdout",
     "output_type": "stream",
     "text": [
      "Actual error at 1.1 : 0.28032\n",
      "Actual error at 1.2 : 0.14729\n",
      "Actual error at 1.3 : 0.17987\n",
      "Actual error at 1.4 : 0.37844\n"
     ]
    }
   ],
   "source": [
    "x=[1.1,1.2,1.3,1.4]\n",
    "for i in range(len(x)):\n",
    "    print(f'Actual error at {x[i]} : {np.abs((2*np.exp(2*x[i]))-num_5_pa[i]):.5f}')"
   ]
  },
  {
   "cell_type": "markdown",
   "id": "3099b035-5343-4ae6-9960-46e489cd35b6",
   "metadata": {},
   "source": [
    "$f'(1.1)\\approx 0.28032,\\,  f'(1.2)\\approx 0.14729,\\, f'(1.3)\\approx 0.17987,\\,f'(1.4)\\approx 0.37844$"
   ]
  },
  {
   "cell_type": "markdown",
   "id": "b787d423-1856-4120-9123-642b2e94e40c",
   "metadata": {},
   "source": [
    "For endpoints we have error $\n",
    "\\frac{h^{2}}{3} f^{(3)}(\\xi)$ the bound $\\dfrac{Mh}{3}$ where $M$ is a bound on $|f^{(3)}|$ and $\\xi$ is in between $x=1.1$ and $x=1.3$. $8e^{2x}$ is an increasing function, hence we take $1.3$ to maximize. We have\n"
   ]
  },
  {
   "cell_type": "markdown",
   "id": "64696ac4-5c8d-4399-a78e-76d58df041c6",
   "metadata": {},
   "source": [
    "for $x=1.1$ $$\\dfrac{Mh}{3}=\\frac{8e^{2\\left(1.3\\right)}\\left(0.1\\right)^{2}}{3}=0.359033\n",
    "$$"
   ]
  },
  {
   "cell_type": "markdown",
   "id": "f51ddfb3-c0e0-48fa-a7b0-9be320b6c6a0",
   "metadata": {},
   "source": [
    "For midpoints we have error $\n",
    "\\frac{h^{2}}{6} f^{(3)}(\\xi)$, the bound $\\dfrac{Mh}{6}$ where $M$ is a bound on $|f^{(3)}|$ and $\\xi$ is in between $x=1.2$ and $x=1.3$. $8e^{2x}$ is an increasing function, hence we take $1.3$ to maximize. We have"
   ]
  },
  {
   "cell_type": "markdown",
   "id": "426e5661-031f-4256-912c-6560cc69653d",
   "metadata": {},
   "source": [
    "for $x=1.2$ $$\\dfrac{Mh}{6}=\\frac{8e^{2\\left(1.3\\right)}\\left(0.1\\right)^{2}}{6}=0.17951\n",
    "$$"
   ]
  },
  {
   "cell_type": "markdown",
   "id": "ec93e610-b20a-410a-8128-46f276002689",
   "metadata": {},
   "source": [
    "for $x=1.3$ we take $x=1.4$ to maximize $$\\dfrac{Mh}{6}=\\frac{8e^{2\\left(1.4\\right)}\\left(0.1\\right)^{2}}{6}=0.219262\n",
    "$$"
   ]
  },
  {
   "cell_type": "markdown",
   "id": "0f3b43bf-f8a9-473d-87a8-d4211e951640",
   "metadata": {},
   "source": [
    "For the last endpoint we take the endpoint bound but instead with $x$ in $x_0$ and $x_0-2h$ with $-h$, namely $[1.2,1.4]$. Thus,\n",
    "\n",
    "for $x=1.4$ we take $x=1.4$ to maximize $$\\dfrac{Mh}{3}=\\frac{8e^{2\\left(1.4\\right)}\\left(-0.1\\right)^{2}}{3}=0.4385239$$\n"
   ]
  },
  {
   "cell_type": "markdown",
   "id": "a0352a7a-c9f4-4a76-aa62-09c608b80ad5",
   "metadata": {},
   "source": [
    "### part (d) \n",
    "\n",
    "$f(x) = 2(\\ln x)^2 + 3\\sin x$\n",
    "\n",
    "$f'(x)= \\dfrac{4(\\ln(x))}{x}+3\\cos x$\n",
    "\n",
    "$\n",
    "f^{(3)}(x)=\\frac{-12}{x^{3}}+\\frac{8 \\ln x}{x^{3}}-3 \\cos x\n",
    "$"
   ]
  },
  {
   "cell_type": "code",
   "execution_count": 239,
   "id": "7b60d748-515a-4e77-b6e9-08bc0218227a",
   "metadata": {},
   "outputs": [
    {
     "name": "stdout",
     "output_type": "stream",
     "text": [
      "Actual error at 2.0 : 0.0025224\n",
      "Actual error at 2.1 : 0.0014288\n",
      "Actual error at 2.2 : 0.0020485\n",
      "Actual error at 2.3 : 0.0043795\n"
     ]
    }
   ],
   "source": [
    "x=[2.0,2.1,2.2,2.3]\n",
    "for i in range(len(x)):\n",
    "    print(f'Actual error at {x[i]} : {np.abs((4*np.log(x[i])/x[i])+3*np.cos(x[i])-num_5_pb[i]):.7f}')"
   ]
  },
  {
   "cell_type": "markdown",
   "id": "a268ce24-4eeb-4f94-9038-4a58add0b0f5",
   "metadata": {},
   "source": [
    "$f'(2.0)\\approx 0.0025224,\\,  f'(2.1)\\approx 0.0014288,\\, f'(2.2)\\approx 0.0020485,\\,f'(2.3)\\approx 0.0043795$"
   ]
  },
  {
   "cell_type": "markdown",
   "id": "3a8fd461-7b50-4734-b197-eec7a305949a",
   "metadata": {},
   "source": [
    "For endpoints we have error $\n",
    "\\frac{h^{2}}{3} f^{(3)}(\\xi)$ the bound $\\dfrac{Mh}{3}$ where $M$ is a bound on $|f^{(3)}|$ and $\\xi$ is in between $x=2.0$ and $x=2.2$. $f^{(3)}(x)=\\frac{-12}{x^{3}}+\\frac{8 \\ln x}{x^{3}}-3 \\cos x$ is an increasing function on $[2.0.2.3]$, hence we take $2.2$ to maximize. We have\n"
   ]
  },
  {
   "cell_type": "markdown",
   "id": "e5500518-52d1-44bc-9261-e2c6a520c1df",
   "metadata": {},
   "source": [
    "for $x=2.0$ \n",
    "$$\\dfrac{Mh}{3}=\\left(\\frac{\\left(\\frac{-12}{\\left(2.2\\right)^{3}}+\\frac{8\\ln\\left(2.2\\right)}{\\left(2.2\\right)^{3}}-3\\cos\\left(2.2\\right)\\right)}{3}\\right)\\cdot\\left(0.1\\right)^{2}=0.00410303611712$$"
   ]
  },
  {
   "cell_type": "markdown",
   "id": "fdc585cf-b4f8-4420-9857-4d91b83628c9",
   "metadata": {},
   "source": [
    "For $x=2.1$ we take $x=2.2$ to maximize using midpoint bound:"
   ]
  },
  {
   "cell_type": "markdown",
   "id": "af14c5a2-71ee-434d-afcc-3005cc280718",
   "metadata": {},
   "source": [
    "$$\\dfrac{Mh}{6}=\\left(\\frac{\\left(\\frac{-12}{\\left(2.2\\right)^{3}}+\\frac{8\\ln\\left(2.2\\right)}{\\left(2.2\\right)^{3}}-3\\cos\\left(2.2\\right)\\right)}{6}\\right)\\cdot\\left(0.1\\right)^{2}=0.002051518$$"
   ]
  },
  {
   "cell_type": "markdown",
   "id": "b8d8bb24-aa99-4cfe-aed1-5d758d08a61a",
   "metadata": {},
   "source": [
    "For $x=2.2$ we take $x=2.3$ to maximize using midpoint bound:\n",
    "\n",
    "$$\\dfrac{Mh}{6}=\\left(\\frac{\\left(\\frac{-12}{\\left(2.3\\right)^{3}}+\\frac{8\\ln\\left(2.3\\right)}{\\left(2.3\\right)^{3}}-3\\cos\\left(2.3\\right)\\right)}{6}\\right)\\cdot\\left(0.1\\right)^{2}=0.0026003$$"
   ]
  },
  {
   "cell_type": "markdown",
   "id": "d1847393-0376-469f-813c-6a6802cbcaf7",
   "metadata": {},
   "source": [
    "For endpoint $x=2.3$ we have $x\\in [2.1,2.3]$, thus $x=2.3$ to maximize\n",
    "\n",
    "for $x=2.3$ \n",
    "$$\\dfrac{Mh}{3}=\\left(\\frac{\\left(\\frac{-12}{\\left(2.3\\right)^{3}}+\\frac{8\\ln\\left(2.3\\right)}{\\left(2.3\\right)^{3}}-3\\cos\\left(2.3\\right)\\right)}{3}\\right)\\cdot\\left(0.1\\right)^{2}=0.00520068$$"
   ]
  },
  {
   "cell_type": "markdown",
   "id": "ab6c6d77-1325-4ca8-9a7a-55b94b602e52",
   "metadata": {},
   "source": [
    "22. In a circuit with impressed voltage $\\mathcal{E}(t)$ and inductance $L$, Kirchhoff's first law gives the relationship\n",
    "$$\n",
    "\\mathcal{E}(t)=L \\frac{d i}{d t}+R i\n",
    "$$\n",
    "where $R$ is the resistance in the circuit and $i$ is the current. Suppose we measure the current for several values of $t$ and obtain\n",
    "$$\n",
    "\\begin{array}{l|l|l|l|l|l}\n",
    "t & 1.00 & 1.01 & 1.02 & 1.03 & 1.04 \\\\\n",
    "\\hline i & 3.10 & 3.12 & 3.14 & 3.18 & 3.24\n",
    "\\end{array}\n",
    "$$\n",
    "where $t$ is measured in seconds, $i$ is in amperes, the inductance $L$ is a constant $0.98$ henries, and the resistance is $0.142 \\mathrm{ohms}$. Approximate the voltage $\\mathcal{E}(t)$ when $t=1.00,1.01,1.02,1.03$, and $1.04$."
   ]
  },
  {
   "cell_type": "markdown",
   "id": "16dacd7b-4fc4-4acc-89c8-78e58cc5db51",
   "metadata": {},
   "source": [
    "We will use 3-point formula:\n",
    "$R = 0.142, L=0.98$\n",
    "\n",
    "$h = 0.01$\n",
    "\n",
    "for $t = 1.00$ we use enpoint formula"
   ]
  },
  {
   "cell_type": "code",
   "execution_count": 252,
   "id": "cde3def1-a1c5-42ae-889b-7f17a84e2d7c",
   "metadata": {},
   "outputs": [],
   "source": [
    "t_00=np.round(three_endpoint(3.10,3.12,3.14,0.01),5)"
   ]
  },
  {
   "cell_type": "markdown",
   "id": "e8392b43-4816-4a08-ac2f-50a45e07fb22",
   "metadata": {},
   "source": [
    "for $t=1.01,1.02,1.03$ we use midpoint formula"
   ]
  },
  {
   "cell_type": "code",
   "execution_count": 248,
   "id": "397d9762-c72a-4193-901b-92a9ce8c089e",
   "metadata": {},
   "outputs": [],
   "source": [
    "t_01=np.round(three_midpoint(3.10,3.14,.01))\n",
    "t_02=np.round(three_midpoint(3.12,3.18,.01))\n",
    "t_03=np.round(three_midpoint(3.14,3.24,.01))"
   ]
  },
  {
   "cell_type": "markdown",
   "id": "d79cf3fb-84a4-4297-9913-eb9862af52cf",
   "metadata": {},
   "source": [
    "for $t=1.04$ we use endpoint formula with $-h$"
   ]
  },
  {
   "cell_type": "code",
   "execution_count": 255,
   "id": "19711d08-fb89-4760-b818-3f74a6bda168",
   "metadata": {},
   "outputs": [],
   "source": [
    "t_04=np.round(three_endpoint(3.24,3.18,3.14,-0.01),5)"
   ]
  },
  {
   "cell_type": "code",
   "execution_count": 256,
   "id": "65a51567-0c7b-4453-a30e-6a2fc533f4e7",
   "metadata": {},
   "outputs": [],
   "source": [
    "t_list = []\n",
    "t_list.extend([t_00,t_01,t_02,t_03,t_04])"
   ]
  },
  {
   "cell_type": "code",
   "execution_count": 257,
   "id": "1b4cea3a-03c0-4866-9f59-c3b125f7f66f",
   "metadata": {},
   "outputs": [
    {
     "data": {
      "text/plain": [
       "[2.0, 2.0, 3.0, 5.0, 7.0]"
      ]
     },
     "execution_count": 257,
     "metadata": {},
     "output_type": "execute_result"
    }
   ],
   "source": [
    "t_list"
   ]
  },
  {
   "cell_type": "markdown",
   "id": "2a18827f-cb2f-4915-9628-4a7da3098251",
   "metadata": {},
   "source": [
    "$\\dfrac{di}{dt}=\\{2.0,2.0,3.0,5.0,7.0\\}\\quad \\text{for}\\quad t=1.00,1.01,1.02,1.03,1.04$"
   ]
  },
  {
   "cell_type": "code",
   "execution_count": 263,
   "id": "42cafecd-c99d-4368-9ced-028a88b2df8a",
   "metadata": {},
   "outputs": [
    {
     "name": "stdout",
     "output_type": "stream",
     "text": [
      "2.4002\n",
      "2.40304\n",
      "3.38588\n",
      "5.35156\n",
      "7.32008\n"
     ]
    }
   ],
   "source": [
    "L = 0.98\n",
    "R = 0.142\n",
    "i=[3.10,3.12,3.14,3.18,3.24]\n",
    "for j in range(len(t_list)):\n",
    "    print(np.round(L*t_list[j]+ R*i[j],5))"
   ]
  },
  {
   "cell_type": "markdown",
   "id": "8741f941-4c4e-4d96-96e7-b1e9683b91e2",
   "metadata": {},
   "source": [
    "$$\n",
    "\\begin{aligned}\n",
    "\\mathcal{E}(1.00)&=2.4002\\\\\n",
    "\\mathcal{E}(1.01)&=240304\\\\\n",
    "\\mathcal{E}(1.02)&=3.38588\\\\\n",
    "\\mathcal{E}(1.03)&=5.35156\\\\\n",
    "\\mathcal{E}(1.04)&=7.32008\n",
    "\\end{aligned}\n",
    "$$"
   ]
  },
  {
   "cell_type": "markdown",
   "id": "258c0ba5-5e23-4a8e-b420-383c2b3cf004",
   "metadata": {},
   "source": [
    "## Exercise 29\n",
    "\n",
    "Consider the function\n",
    "$$\n",
    "e(h)=\\frac{\\varepsilon}{h}+\\frac{h^{2}}{6} M\n",
    "$$\n",
    "where $M$ is a bound for the third derivative of a function. Show that $e(h)$ has a minimum at $\\sqrt[3]{3 \\varepsilon / M}$."
   ]
  },
  {
   "cell_type": "markdown",
   "id": "f8d1232a-a4a4-4422-8c4d-a5cdf4e3f963",
   "metadata": {},
   "source": [
    "We have $e(h)=\\frac{\\varepsilon}{h}+\\frac{h^{2}}{6} M$, where $\\mathrm{M}$ is the bound for the third derivative of a function.\n",
    "Taking the derivative we get $e^{\\prime}(h)=-\\varepsilon / h^{2}+h M / 3$, If $e^{\\prime}(h)=0$ we have $h=\\sqrt[3]{3 \\varepsilon / M}$. Now, $e^{\\prime}(h)<0$ if $h<\\sqrt[3]{3 \\varepsilon / M}$ and $e^{\\prime}(h)>0$ if $h>\\sqrt[3]{3 \\varepsilon / M}$\n",
    "So  $e(h)$ has a minimum at $h=\\sqrt[3]{3 \\varepsilon / M}$."
   ]
  },
  {
   "cell_type": "markdown",
   "id": "49ca0767-4f1c-459a-8ea4-cada1b7d1baa",
   "metadata": {},
   "source": [
    "# $\\S 4.3$\n",
    "## Exercise 1\n",
    "Approximate the following integrals using the Trapezoidal rule.\n",
    "\n",
    "a. $\\int_{0.5}^{1} x^{4} d x$\n",
    "\n",
    "d. $\\int_{0}^{1} x^{2} e^{-x} d x$\n",
    "\n",
    "g. $\\int_{0}^{\\pi / 4} x \\sin x d x$\n"
   ]
  },
  {
   "cell_type": "code",
   "execution_count": 68,
   "id": "25b2d2c6-c0c5-44d6-9d4e-4df44c786c96",
   "metadata": {},
   "outputs": [],
   "source": [
    "def trap_rule(a,b):\n",
    "    return (b-a)*(f(a)+f(b))/2"
   ]
  },
  {
   "cell_type": "markdown",
   "id": "17af6ac0-6007-46db-a916-60b98e938264",
   "metadata": {},
   "source": [
    "### part (a)"
   ]
  },
  {
   "cell_type": "code",
   "execution_count": 69,
   "id": "b848104a-7e13-44ef-ba9b-9a93a5f2c115",
   "metadata": {},
   "outputs": [
    {
     "data": {
      "text/plain": [
       "0.26562"
      ]
     },
     "execution_count": 69,
     "metadata": {},
     "output_type": "execute_result"
    }
   ],
   "source": [
    "def f(x):\n",
    "    return x**4\n",
    "\n",
    "np.round(trap_rule(0.5,1),5)"
   ]
  },
  {
   "cell_type": "markdown",
   "id": "a67f92bd-0530-453e-beb1-77f4b040ba20",
   "metadata": {},
   "source": [
    "### part (d)"
   ]
  },
  {
   "cell_type": "code",
   "execution_count": null,
   "id": "a54dbdb3-38e8-4b58-bac8-bb76b1b9ea49",
   "metadata": {},
   "outputs": [
    {
     "data": {
      "text/plain": [
       "0.18393972058572117"
      ]
     },
     "execution_count": 27,
     "metadata": {},
     "output_type": "execute_result"
    }
   ],
   "source": [
    "def func(x):\n",
    "    return x**2*np.exp(-x)\n",
    "trap_rule(0,1)"
   ]
  },
  {
   "cell_type": "markdown",
   "id": "77e29507-8bbd-4cc9-bb06-b708a6663adf",
   "metadata": {},
   "source": [
    "### part(g)"
   ]
  },
  {
   "cell_type": "code",
   "execution_count": 28,
   "id": "6e0cee1c-3d37-4267-ac7a-05c45fc9d4c0",
   "metadata": {},
   "outputs": [
    {
     "data": {
      "text/plain": [
       "0.21808950623871498"
      ]
     },
     "execution_count": 28,
     "metadata": {},
     "output_type": "execute_result"
    }
   ],
   "source": [
    "def func(x):\n",
    "    return x*np.sin(x)\n",
    "trap_rule(0,np.pi/4)"
   ]
  },
  {
   "cell_type": "markdown",
   "id": "a9359a27-f58f-4205-a80c-a0243daac980",
   "metadata": {},
   "source": [
    "## Exercise 3\n",
    "\n",
    "Find a bound for the error in Exercise 1 using the error formula and compare this to the actual error."
   ]
  },
  {
   "cell_type": "markdown",
   "id": "39febf4c-66d5-460b-b936-88cd65c1a7e4",
   "metadata": {},
   "source": [
    "### part (d) \n",
    "\n",
    "$\\begin{aligned} \\int_{0}^{1} x^{2} e^{-x} d x &=-e^{-x}\\left(x^{2}+2 x+2\\right)_{0}^{1} \\\\ &=0.160602794 \\end{aligned}$"
   ]
  },
  {
   "cell_type": "markdown",
   "id": "1d10d2d5-ef5a-4877-9c7d-ce29e04c738c",
   "metadata": {},
   "source": [
    "True error from Exercise 1 (d) we have \n",
    "\n",
    "$|0.160602794-0.1839397|\\approx 0.0233369$\n",
    "\n",
    "$f''(x)=e^{-x}(2-4x+x^{2})$\n",
    "\n",
    "We have error $\\dfrac{h^{3}}{12} f^{\\prime \\prime}(\\xi), \\quad \\text { where } \\quad x_{0}<\\xi<x_{1}$\n",
    "\n",
    " $|f^{\\prime \\prime}(\\xi)|$ is maximized at $x=0$ \n",
    " \n",
    " $\\dfrac{h^{3}}{12} |f^{\\prime \\prime}(\\xi)|\\leq 2\\cdot\\dfrac{1^3}{12}\\approx .166666666667$\n",
    "\n"
   ]
  },
  {
   "cell_type": "markdown",
   "id": "e7b7c337-d178-4790-b75b-60b50a9c5dd0",
   "metadata": {
    "tags": []
   },
   "source": [
    "### part (g)\n",
    "\n",
    "\n",
    "$$\\begin{aligned}\n",
    "\\int_{0}^{\\frac{\\pi}{4}} x \\sin x d x &=[-x \\cos x+\\sin x]_{0}^{\\frac{\\pi}{4}} \\\\\n",
    "&=0.152027958\n",
    "\\end{aligned}$$\n",
    "\n",
    "From Exercise (1) we have the Actual Error\n",
    "\n",
    "$|0.152027958-0.218089|\\approx 0.066061$\n",
    "\n",
    "\n",
    "$f''(x) = 2\\cos(x)-x\\sin(x)$ \n",
    "\n",
    "$|f''(x)|$ is maximized at at $x=0$ \n",
    "\n",
    " $\\dfrac{h^{3}}{12} |f^{\\prime \\prime}(\\xi)|\\leq 2\\cdot\\dfrac{(\\pi/4)^3}{12}\\approx 0.0807455$"
   ]
  },
  {
   "cell_type": "markdown",
   "id": "4c03bf66-d9a2-4e5e-a46a-95aaf5e81557",
   "metadata": {},
   "source": [
    "# Exercise 5\n",
    "\n",
    "Repeat Exercise 1 using Simpson's rule.\n",
    "\n",
    "a. $\\int_{0.5}^{1} x^{4} d x$\n",
    "\n",
    "d. $\\int_{0}^{1} x^{2} e^{-x} d x$\n",
    "\n",
    "\n"
   ]
  },
  {
   "cell_type": "code",
   "execution_count": 9,
   "id": "7541aa27-50c2-4348-9053-14cdc7c03aba",
   "metadata": {},
   "outputs": [
    {
     "data": {
      "text/plain": [
       "0.19401041666666666"
      ]
     },
     "execution_count": 9,
     "metadata": {},
     "output_type": "execute_result"
    }
   ],
   "source": [
    "def simpson(a,b,n):\n",
    "\n",
    "    h = (b-a) / n\n",
    "    \n",
    "    # Finding sum \n",
    "    integ = f(a) + f(b)\n",
    "    \n",
    "    for i in range(1,n):\n",
    "        k = a + i*h\n",
    "        \n",
    "        if i%2 == 0:\n",
    "            integ = integ + 2 * f(k)\n",
    "        else:\n",
    "            integ = integ + 4 * f(k)\n",
    "    \n",
    "    # Finding final integration value\n",
    "    integ = integ * h/3\n",
    "    \n",
    "    return integ\n",
    "\n",
    "def f(x): return x**4\n",
    "\n",
    "simpson(0.5, 1.0, 2)\n"
   ]
  },
  {
   "cell_type": "markdown",
   "id": "ab1e7ef6-4301-4579-9ba4-601ca66adc3b",
   "metadata": {},
   "source": [
    "### Part (a)"
   ]
  },
  {
   "cell_type": "code",
   "execution_count": 10,
   "id": "114519c4-1191-4245-90b6-d599bbb5ab98",
   "metadata": {},
   "outputs": [
    {
     "data": {
      "text/plain": [
       "0.1940104"
      ]
     },
     "execution_count": 10,
     "metadata": {},
     "output_type": "execute_result"
    }
   ],
   "source": [
    "np.round(simpson(0.5, 1, 2),7)"
   ]
  },
  {
   "cell_type": "markdown",
   "id": "681dddb1-d974-4137-891a-b7c259467e7c",
   "metadata": {},
   "source": [
    "Part (b)"
   ]
  },
  {
   "cell_type": "code",
   "execution_count": 57,
   "id": "7ad7559b-98fc-4950-890f-daa80ac13203",
   "metadata": {},
   "outputs": [
    {
     "data": {
      "text/plain": [
       "0.1624017"
      ]
     },
     "execution_count": 57,
     "metadata": {},
     "output_type": "execute_result"
    }
   ],
   "source": [
    "def f(x): return x**2*np.exp(-x)\n",
    "\n",
    "np.round(simpson(0, 1, 2),7)"
   ]
  },
  {
   "cell_type": "markdown",
   "id": "13687783-53ec-4662-bf99-99d909c33e31",
   "metadata": {},
   "source": [
    "### Exercise 15. \n",
    "\n",
    "Approximate the following integrals using formulas (4.25) through (4.32). Are the accuracies of the approximations consistent with the error formulas?\n",
    "\n",
    "a. $\\int_{0}^{0.1} \\sqrt{1+x}$\n",
    "\n",
    "d. $\\int_{0}^{1} x^{1 / 3} d x$"
   ]
  },
  {
   "cell_type": "code",
   "execution_count": 82,
   "id": "0f6a9282-1283-44f5-bdb2-25cbc6c03c86",
   "metadata": {},
   "outputs": [],
   "source": [
    "def simpson38(a,b,n):\n",
    "    h = (b-a) / n\n",
    "    integ = f(a) + f(b)\n",
    "    integ = integ + 3 * f(a+h)+3*f(b-h)\n",
    "    integ = integ * (3*h)/8\n",
    "    return integ\n",
    "\n",
    "\n",
    "def simpson4(a,b,n):\n",
    "    h = (b-a) / n\n",
    "    integ = 7*f(a) + 7*f(b)\n",
    "    integ = integ + 32 * f(a+h)+12*f(a+2*h)+32*f(a+3*h)\n",
    "    integ = integ * (2*h)/45\n",
    "    return integ\n",
    "\n",
    "\n",
    "def open0(a,b):\n",
    "    x1 = (b+a) /2\n",
    "    h= (b-a)/2\n",
    "    return 2*h*f(x1)\n",
    "\n",
    "def open1(a,b):\n",
    "    x1 = (b+a) /(3)\n",
    "    h= (b-a)/3\n",
    "    x2 = x1+h\n",
    "    return (3*h)/2*(f(x1)+f(x2))\n",
    "\n",
    "def open2(a,b):\n",
    "    x1 = (b+a) /(4)\n",
    "    h= (b-a)/4\n",
    "    x2 = x1+h\n",
    "    x3=x2+h\n",
    "    return (4*h)/3*(2*f(x1)-f(x2)+2*f(x3))\n",
    "\n",
    "\n",
    "def open3(a,b):\n",
    "    x1 = (b+a) /(5)\n",
    "    h= (b-a)/5\n",
    "    x2 = x1+h; x3=x2+h; x4=x3+h\n",
    "    return (5*h)/24*(11*f(x1)+f(x2)+f(x3)+11*f(x4))\n"
   ]
  },
  {
   "cell_type": "markdown",
   "id": "a001d235-a2b6-449b-b293-4751fd163880",
   "metadata": {},
   "source": [
    "### part (a)"
   ]
  },
  {
   "cell_type": "code",
   "execution_count": 113,
   "id": "15a801ed-75d1-41da-b9fc-6fcc57206ab0",
   "metadata": {},
   "outputs": [
    {
     "name": "stdout",
     "output_type": "stream",
     "text": [
      "Evaluation of Formulas 4.25-4.32, respectively\n",
      "\n",
      "[0.10244044 0.10245982 0.10245982 0.10245982] [0.10246951 0.10246628 0.10245982 0.10245982]\n"
     ]
    }
   ],
   "source": [
    "def f(x): return np.sqrt(1+x)\n",
    "\n",
    "parta_15closed=[]\n",
    "parta_15open=[]\n",
    "parta_15closed.append(trap_rule(0,0.1))\n",
    "parta_15closed.append(simpson(0,0.1,2))\n",
    "parta_15closed.append(simpson38(0, 0.1, 3))\n",
    "parta_15closed.append(simpson4(0, 0.1, 4))\n",
    "parta_15open.append(open0(0,0.1))\n",
    "parta_15open.append(open1(0,0.1))\n",
    "parta_15open.append(open2(0,0.1))\n",
    "parta_15open.append(open3(0,0.1))\n",
    "l1a= np.array(parta_15closed)\n",
    "l2a=np.array(parta_15open)\n",
    "print(\"Evaluation of Formulas 4.25-4.32, respectively\\n\")\n",
    "print(l1a,l2a)"
   ]
  },
  {
   "cell_type": "markdown",
   "id": "2c1a64c9-533e-42e6-a65b-81c07aca3e6d",
   "metadata": {},
   "source": [
    "True value $\\int_{0}^{0.1} \\sqrt{1+x}=.1024598$\n",
    "\n",
    "Error for closed and open formulas:"
   ]
  },
  {
   "cell_type": "code",
   "execution_count": 106,
   "id": "91ad3526-fc56-4616-8e8f-56b615e2b8fb",
   "metadata": {},
   "outputs": [
    {
     "name": "stdout",
     "output_type": "stream",
     "text": [
      "[1.93575915e-05 1.92425665e-08 2.07691433e-08 2.19908594e-08]\n",
      "[9.70765960e-06 6.48022269e-06 2.43956157e-08 2.36623756e-08]\n"
     ]
    }
   ],
   "source": [
    "print(abs(.1024598 - l1))\n",
    "print(abs(.1024598 - l2))"
   ]
  },
  {
   "cell_type": "markdown",
   "id": "0f705141-e793-4833-a911-3e4aad83dd6f",
   "metadata": {},
   "source": [
    "the accuracies of the approximations are consistent with the error formulas"
   ]
  },
  {
   "cell_type": "code",
   "execution_count": 115,
   "id": "976cf10f-9ffd-46c1-a009-52711a4fc133",
   "metadata": {},
   "outputs": [
    {
     "name": "stdout",
     "output_type": "stream",
     "text": [
      "Evaluation of Formulas 4.25-4.32, respectively\n",
      "\n",
      "[0.5        0.69580035 0.71260315 0.73063414] [0.79370053 0.78347087 0.76111371 0.75935723]\n"
     ]
    }
   ],
   "source": [
    "def f(x): return x**(1/3)\n",
    "\n",
    "partb_15closed=[]\n",
    "partb_15open=[]\n",
    "partb_15closed.append(trap_rule(0,1))\n",
    "partb_15closed.append(simpson(0,1,2))\n",
    "partb_15closed.append(simpson38(0, 1, 3))\n",
    "partb_15closed.append(simpson4(0, 1, 4))\n",
    "partb_15open.append(open0(0,1))\n",
    "partb_15open.append(open1(0,1))\n",
    "partb_15open.append(open2(0,1))\n",
    "partb_15open.append(open3(0,1))\n",
    "l1b= np.array(partb_15closed)\n",
    "l2b=np.array(partb_15open)\n",
    "print(\"Evaluation of Formulas 4.25-4.32, respectively\\n\")\n",
    "print(l1b,l2b)\n"
   ]
  },
  {
   "cell_type": "markdown",
   "id": "c5c140ff-45d9-484d-b5c3-761b3c04a81e",
   "metadata": {},
   "source": [
    "True value $\\int_{0}^{1} \\sqrt{1+x}=.75$\n",
    "\n",
    "Error for closed and open formulas"
   ]
  },
  {
   "cell_type": "code",
   "execution_count": 116,
   "id": "5ef14492-56fd-4693-9ef3-6e11c5f7d78a",
   "metadata": {},
   "outputs": [
    {
     "name": "stdout",
     "output_type": "stream",
     "text": [
      "[0.25       0.05419965 0.03739685 0.01936586]\n",
      "[0.04370053 0.03347087 0.01111371 0.00935723]\n"
     ]
    }
   ],
   "source": [
    "print(abs(.75 - l1b))\n",
    "print(abs(.75- l2b))"
   ]
  },
  {
   "cell_type": "markdown",
   "id": "a0fddcb0-7138-4b1c-bf8b-81be3f2ece84",
   "metadata": {},
   "source": [
    "the accuracies of the approximations not consistent with the error formulas"
   ]
  },
  {
   "cell_type": "code",
   "execution_count": null,
   "id": "c19eb5f5-f40d-4dc3-a112-68440936492d",
   "metadata": {},
   "outputs": [],
   "source": []
  }
 ],
 "metadata": {
  "kernelspec": {
   "display_name": "Python 3 (ipykernel)",
   "language": "python",
   "name": "python3"
  },
  "language_info": {
   "codemirror_mode": {
    "name": "ipython",
    "version": 3
   },
   "file_extension": ".py",
   "mimetype": "text/x-python",
   "name": "python",
   "nbconvert_exporter": "python",
   "pygments_lexer": "ipython3",
   "version": "3.10.0"
  }
 },
 "nbformat": 4,
 "nbformat_minor": 5
}
